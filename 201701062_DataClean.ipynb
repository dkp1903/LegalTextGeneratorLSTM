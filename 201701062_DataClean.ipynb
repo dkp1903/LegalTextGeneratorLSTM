{
  "nbformat": 4,
  "nbformat_minor": 0,
  "metadata": {
    "colab": {
      "name": "201701062_DataClean.ipynb",
      "provenance": [],
      "collapsed_sections": []
    },
    "kernelspec": {
      "name": "python3",
      "display_name": "Python 3"
    }
  },
  "cells": [
    {
      "cell_type": "code",
      "metadata": {
        "id": "PMb0z3pZS8Ef",
        "colab_type": "code",
        "outputId": "2e45bd5e-0b49-4228-b77a-f96283f739b9",
        "colab": {
          "base_uri": "https://localhost:8080/",
          "height": 128
        }
      },
      "source": [
        "from google.colab import drive\n",
        "drive.mount('/content/drive') "
      ],
      "execution_count": 1,
      "outputs": [
        {
          "output_type": "stream",
          "text": [
            "Go to this URL in a browser: https://accounts.google.com/o/oauth2/auth?client_id=947318989803-6bn6qk8qdgf4n4g3pfee6491hc0brc4i.apps.googleusercontent.com&redirect_uri=urn%3aietf%3awg%3aoauth%3a2.0%3aoob&response_type=code&scope=email%20https%3a%2f%2fwww.googleapis.com%2fauth%2fdocs.test%20https%3a%2f%2fwww.googleapis.com%2fauth%2fdrive%20https%3a%2f%2fwww.googleapis.com%2fauth%2fdrive.photos.readonly%20https%3a%2f%2fwww.googleapis.com%2fauth%2fpeopleapi.readonly\n",
            "\n",
            "Enter your authorization code:\n",
            "··········\n",
            "Mounted at /content/drive\n"
          ],
          "name": "stdout"
        }
      ]
    },
    {
      "cell_type": "code",
      "metadata": {
        "id": "v53AEMtfoDKG",
        "colab_type": "code",
        "colab": {}
      },
      "source": [
        "import os\n",
        "import io\n",
        "from bs4 import BeautifulSoup as bs"
      ],
      "execution_count": 0,
      "outputs": []
    },
    {
      "cell_type": "code",
      "metadata": {
        "id": "AA4Dh_ySTW9-",
        "colab_type": "code",
        "colab": {}
      },
      "source": [
        "os.chdir('/content/drive/My Drive/NLP Project/xml/datas_1')"
      ],
      "execution_count": 0,
      "outputs": []
    },
    {
      "cell_type": "code",
      "metadata": {
        "id": "0ft6mj7soO_f",
        "colab_type": "code",
        "colab": {}
      },
      "source": [
        "data = open('dataset_1.txt', 'w+', encoding='utf-8')"
      ],
      "execution_count": 0,
      "outputs": []
    },
    {
      "cell_type": "code",
      "metadata": {
        "id": "TluD4aevo3_S",
        "colab_type": "code",
        "colab": {}
      },
      "source": [
        "for all_files in os.listdir():\n",
        "    with io.open(all_files, 'r') as f:\n",
        "      singleFile = f.read()\n",
        "      page = bs(singleFile, 'lxml')\n",
        "      text = ' '.join(map(lambda p : p.text, page.find_all('article')))\n",
        "      text.encode('ascii', errors='replace')\n",
        "      data.write(text + '\\n')\n",
        "data.close()\n",
        "      "
      ],
      "execution_count": 0,
      "outputs": []
    }
  ]
}