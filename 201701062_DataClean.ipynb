{
  "nbformat": 4,
  "nbformat_minor": 0,
  "metadata": {
    "colab": {
      "name": "201701062_DataClean.ipynb",
      "provenance": [],
      "collapsed_sections": []
    },
    "kernelspec": {
      "name": "python3",
      "display_name": "Python 3"
    }
  },
  "cells": [
    {
      "cell_type": "code",
      "metadata": {
        "id": "PMb0z3pZS8Ef",
        "colab_type": "code",
        "outputId": "18fc2432-502e-44fe-d1bc-1b80f96112ec",
        "colab": {
          "base_uri": "https://localhost:8080/",
          "height": 35
        }
      },
      "source": [
        "from google.colab import drive\n",
        "drive.mount('/content/drive') "
      ],
      "execution_count": 0,
      "outputs": [
        {
          "output_type": "stream",
          "text": [
            "Drive already mounted at /content/drive; to attempt to forcibly remount, call drive.mount(\"/content/drive\", force_remount=True).\n"
          ],
          "name": "stdout"
        }
      ]
    },
    {
      "cell_type": "code",
      "metadata": {
        "id": "v53AEMtfoDKG",
        "colab_type": "code",
        "colab": {}
      },
      "source": [
        "import os\n",
        "import io\n",
        "from bs4 import BeautifulSoup as bs"
      ],
      "execution_count": 0,
      "outputs": []
    },
    {
      "cell_type": "code",
      "metadata": {
        "id": "AA4Dh_ySTW9-",
        "colab_type": "code",
        "colab": {}
      },
      "source": [
        "os.chdir('/content/drive/My Drive/NLP Project/xml/pta_set_1')"
      ],
      "execution_count": 0,
      "outputs": []
    },
    {
      "cell_type": "code",
      "metadata": {
        "id": "0ft6mj7soO_f",
        "colab_type": "code",
        "colab": {}
      },
      "source": [
        "data = open('data_1.txt', 'w+', encoding='utf-8')\n",
        "count = 0"
      ],
      "execution_count": 0,
      "outputs": []
    },
    {
      "cell_type": "code",
      "metadata": {
        "id": "TluD4aevo3_S",
        "colab_type": "code",
        "colab": {}
      },
      "source": [
        "for all_files in os.listdir():\n",
        "    with io.open(all_files, 'r') as f:\n",
        "      singleFile = f.read()\n",
        "      page = bs(singleFile, 'lxml')\n",
        "      text = ' '.join(map(lambda p : p.text, page.find_all('article')))\n",
        "      text.encode('ascii', errors='replace')\n",
        "      data.write(text + '\\n')\n",
        "data.close()\n",
        "      "
      ],
      "execution_count": 0,
      "outputs": []
    }
  ]
}