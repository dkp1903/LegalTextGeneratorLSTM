{
  "nbformat": 4,
  "nbformat_minor": 0,
  "metadata": {
    "colab": {
      "name": "201701062_Project_CharRNN.ipynb",
      "provenance": [],
      "collapsed_sections": []
    },
    "kernelspec": {
      "name": "python3",
      "display_name": "Python 3"
    },
    "accelerator": "GPU"
  },
  "cells": [
    {
      "cell_type": "markdown",
      "metadata": {
        "id": "RT9ujpGdQmYW",
        "colab_type": "text"
      },
      "source": [
        "**Project : Legal Text Generation Using Recurrent Neural Networks**\n",
        "\n",
        "**Tech and model used :** *Bi-LSTM implemented using Tensorflow-Keras*\n",
        "\n",
        "**Character level RNN**"
      ]
    },
    {
      "cell_type": "code",
      "metadata": {
        "id": "j2PLp6Xatq0P",
        "colab_type": "code",
        "colab": {}
      },
      "source": [
        "## 201701062\n",
        "## Dushyant Pathak\n",
        "## IT-412 - Project - Text Generation using RNN - Implemented using Tensorflow-Keras\n",
        "## Implementation : Character Level RNN has been implemented as Bi-LSTM Model"
      ],
      "execution_count": 0,
      "outputs": []
    },
    {
      "cell_type": "code",
      "metadata": {
        "id": "Phr7cn9UCnU1",
        "colab_type": "code",
        "colab": {}
      },
      "source": [
        "## Using tensorboard to view metrics\n",
        "%load_ext tensorboard"
      ],
      "execution_count": 0,
      "outputs": []
    },
    {
      "cell_type": "code",
      "metadata": {
        "id": "c9MTz1HUvaUx",
        "colab_type": "code",
        "colab": {}
      },
      "source": [
        "## Importing the necessary libraries\n",
        "import tensorflow as tf\n",
        "import numpy as np\n",
        "import os\n",
        "import datetime\n",
        "import time\n",
        "#from keras import backend as K"
      ],
      "execution_count": 0,
      "outputs": []
    },
    {
      "cell_type": "code",
      "metadata": {
        "id": "eNoF26Rs3PU8",
        "colab_type": "code",
        "outputId": "d9979812-27d1-4523-a3ad-03383fd8a7f7",
        "colab": {
          "base_uri": "https://localhost:8080/",
          "height": 128
        }
      },
      "source": [
        "from google.colab import drive\n",
        "drive.mount('/content/drive/')"
      ],
      "execution_count": 4,
      "outputs": [
        {
          "output_type": "stream",
          "text": [
            "Go to this URL in a browser: https://accounts.google.com/o/oauth2/auth?client_id=947318989803-6bn6qk8qdgf4n4g3pfee6491hc0brc4i.apps.googleusercontent.com&redirect_uri=urn%3aietf%3awg%3aoauth%3a2.0%3aoob&response_type=code&scope=email%20https%3a%2f%2fwww.googleapis.com%2fauth%2fdocs.test%20https%3a%2f%2fwww.googleapis.com%2fauth%2fdrive%20https%3a%2f%2fwww.googleapis.com%2fauth%2fdrive.photos.readonly%20https%3a%2f%2fwww.googleapis.com%2fauth%2fpeopleapi.readonly\n",
            "\n",
            "Enter your authorization code:\n",
            "··········\n",
            "Mounted at /content/drive/\n"
          ],
          "name": "stdout"
        }
      ]
    },
    {
      "cell_type": "code",
      "metadata": {
        "id": "Ws3IJYly3RVp",
        "colab_type": "code",
        "colab": {}
      },
      "source": [
        "## Dataset used is Texts of Trade Agreements (ToTA) dataset - Courtesy of Dr William Alschner\n",
        "## The dataset is a set of 450 XML files in English as well as other languages, written as Bilateral treaties.\n",
        "## The data has been compiled into a single text file, split into 80:20 - Train and test\n",
        "path_to_file = '/content/drive/My Drive/dataset_1.txt'\n",
        "path_to_test = '/content/drive/My Drive/test.txt'"
      ],
      "execution_count": 0,
      "outputs": []
    },
    {
      "cell_type": "code",
      "metadata": {
        "id": "3K1o00eA3fE4",
        "colab_type": "code",
        "colab": {
          "base_uri": "https://localhost:8080/",
          "height": 35
        },
        "outputId": "d96bd339-4e05-40f3-b2f8-6a362a46b105"
      },
      "source": [
        "## Opening the train file\n",
        "text = open(path_to_file, 'rb').read().decode(encoding='utf-8')\n",
        "## Vocab is a sorted set of all chars appearing in the train data\n",
        "## We have used Python set to remove duplication\n",
        "vocab = sorted(set(text))\n",
        "print ('Length of train text: {} characters'.format(len(text)))"
      ],
      "execution_count": 6,
      "outputs": [
        {
          "output_type": "stream",
          "text": [
            "Length of train text: 37436064 characters\n"
          ],
          "name": "stdout"
        }
      ]
    },
    {
      "cell_type": "code",
      "metadata": {
        "id": "ivoWPjN6jTQZ",
        "colab_type": "code",
        "colab": {
          "base_uri": "https://localhost:8080/",
          "height": 54
        },
        "outputId": "c8b339ad-47b4-4d69-ddf5-55234d4c347b"
      },
      "source": [
        "## Opening the test file\n",
        "test = open(path_to_test, 'rb').read().decode(encoding='utf-8')\n",
        "print(type(test))\n",
        "vocab_test = sorted(set(test))\n",
        "print ('Length of test text: {} characters'.format(len(test)))"
      ],
      "execution_count": 7,
      "outputs": [
        {
          "output_type": "stream",
          "text": [
            "<class 'str'>\n",
            "Length of test text: 797785 characters\n"
          ],
          "name": "stdout"
        }
      ]
    },
    {
      "cell_type": "markdown",
      "metadata": {
        "id": "SmeS0QX1k5a2",
        "colab_type": "text"
      },
      "source": [
        "Text Vectorization"
      ]
    },
    {
      "cell_type": "code",
      "metadata": {
        "id": "04R_d_DP3mys",
        "colab_type": "code",
        "colab": {}
      },
      "source": [
        "## Mapping the chars to indices\n",
        "char2idx = {u:i for i, u in enumerate(vocab)}\n",
        "## Index 0 - 0th character - Expressed as numpy array\n",
        "idx2char = np.array(vocab)\n",
        "## Shows the integer each character in text is mapped to\n",
        "text_as_int = np.array([char2idx[c] for c in text])"
      ],
      "execution_count": 0,
      "outputs": []
    },
    {
      "cell_type": "code",
      "metadata": {
        "id": "a6d89dValIhM",
        "colab_type": "code",
        "colab": {
          "base_uri": "https://localhost:8080/",
          "height": 35
        },
        "outputId": "a4b05424-22ff-4d1c-a1d5-a94c03ded5f8"
      },
      "source": [
        "# Shows the mapping\n",
        "print ('{} ---- Mapped to ---- > {}'.format(repr(text[:13]), text_as_int[:13]))"
      ],
      "execution_count": 9,
      "outputs": [
        {
          "output_type": "stream",
          "text": [
            "'THE ASSOCIATI' ---- Mapped to ---- > [54 42 39  2 35 53 53 49 37 43 35 54 43]\n"
          ],
          "name": "stdout"
        }
      ]
    },
    {
      "cell_type": "code",
      "metadata": {
        "id": "9TBt90aojbHq",
        "colab_type": "code",
        "colab": {
          "base_uri": "https://localhost:8080/",
          "height": 35
        },
        "outputId": "5d0b4c32-6ad4-406d-e688-aa086fecc39d"
      },
      "source": [
        "## Same for test data\n",
        "ctoi = {u:i for i, u in enumerate(vocab_test)}\n",
        "i2c = np.array(vocab_test)\n",
        "t_as_i = np.array([ctoi[c] for c in test])\n",
        "print(t_as_i)"
      ],
      "execution_count": 10,
      "outputs": [
        {
          "output_type": "stream",
          "text": [
            "[50 38 35 ... 42  1  1]\n"
          ],
          "name": "stdout"
        }
      ]
    },
    {
      "cell_type": "markdown",
      "metadata": {
        "id": "f-OD4ioflaRw",
        "colab_type": "text"
      },
      "source": [
        "The task of prediction : \n",
        "\n",
        "RNNs maintain an internal state, and thus, can 'remember' previously seen characters.\n",
        "\n",
        "Thus, given all the characters so far, what is the next most probable character?"
      ]
    },
    {
      "cell_type": "markdown",
      "metadata": {
        "id": "pJZltLgilzxS",
        "colab_type": "text"
      },
      "source": [
        "Dividing text into example senteces of size seq_length"
      ]
    },
    {
      "cell_type": "code",
      "metadata": {
        "id": "2rRa-2W336NQ",
        "colab_type": "code",
        "colab": {}
      },
      "source": [
        "## The maximum length sentence for a single input in characters\n",
        "seq_length = 100\n",
        "examples_per_epoch = len(text)//(seq_length+1)\n",
        "## Convert the text vector into a stream of character indices.\n",
        "char_dataset = tf.data.Dataset.from_tensor_slices(text_as_int)\n"
      ],
      "execution_count": 0,
      "outputs": []
    },
    {
      "cell_type": "code",
      "metadata": {
        "id": "Nnl4-Y96krI1",
        "colab_type": "code",
        "colab": {}
      },
      "source": [
        "examples_per_epoch_test = len(test)//(seq_length + 1)\n",
        "char_dataset_test = tf.data.Dataset.from_tensor_slices(t_as_i)"
      ],
      "execution_count": 0,
      "outputs": []
    },
    {
      "cell_type": "code",
      "metadata": {
        "id": "WjqDr7kH4DT8",
        "colab_type": "code",
        "colab": {}
      },
      "source": [
        "## Batch converts individual characters into sequences of desired size\n",
        "sequences = char_dataset.batch(seq_length+1, drop_remainder=True)\n",
        "sequences_test = char_dataset_test.batch(seq_length + 1, drop_remainder = True)"
      ],
      "execution_count": 0,
      "outputs": []
    },
    {
      "cell_type": "code",
      "metadata": {
        "id": "5BU__KOT4H4j",
        "colab_type": "code",
        "colab": {}
      },
      "source": [
        "## For each sentence(chunk), duplicate and shift by one to form main->target. \n",
        "## Use map function to map these\n",
        "def split_input_target(chunk):\n",
        "    input_text = chunk[:-1]\n",
        "    target_text = chunk[1:]\n",
        "    return input_text, target_text\n",
        "\n",
        "dataset = sequences.map(split_input_target)"
      ],
      "execution_count": 0,
      "outputs": []
    },
    {
      "cell_type": "code",
      "metadata": {
        "id": "ZwPy4A1Uku7L",
        "colab_type": "code",
        "colab": {}
      },
      "source": [
        "## Similarly for test dataset\n",
        "dataset_test = sequences_test.map(split_input_target)"
      ],
      "execution_count": 0,
      "outputs": []
    },
    {
      "cell_type": "code",
      "metadata": {
        "id": "6oAwq1Rh4LDh",
        "colab_type": "code",
        "colab": {}
      },
      "source": [
        "BATCH_SIZE = 64\n",
        "\n",
        "# Buffer size to shuffle the dataset\n",
        "BUFFER_SIZE = 10000\n",
        "\n",
        "dataset = dataset.shuffle(BUFFER_SIZE).batch(BATCH_SIZE, drop_remainder=True)\n",
        "dataset_test = dataset_test.shuffle(BUFFER_SIZE).batch(BATCH_SIZE, drop_remainder=True)\n"
      ],
      "execution_count": 0,
      "outputs": []
    },
    {
      "cell_type": "code",
      "metadata": {
        "id": "5EQR9cZxLAt4",
        "colab_type": "code",
        "colab": {}
      },
      "source": [
        "# Length of the vocabulary in chars\n",
        "vocab_size = len(vocab)\n",
        "\n",
        "# The embedding dimension\n",
        "embedding_dim = 256\n",
        "\n",
        "# Number of RNN units\n",
        "rnn_units = 1024"
      ],
      "execution_count": 0,
      "outputs": []
    },
    {
      "cell_type": "code",
      "metadata": {
        "id": "xMiq-zt4LDpt",
        "colab_type": "code",
        "colab": {}
      },
      "source": [
        "## Building the model\n",
        "## We use\n",
        "##  1. Embedding : Input layer -> Maps char to vector\n",
        "##  2. LSTM/GRU : RNN \n",
        "##  3. Dense : Output layer\n",
        "def build_model(vocab_size, embedding_dim, rnn_units, batch_size):\n",
        "  model = tf.keras.Sequential([\n",
        "    tf.keras.layers.Embedding(vocab_size, embedding_dim,\n",
        "                              batch_input_shape=[batch_size, None]),\n",
        "                               \n",
        "    ## Comment the LSTM function, and uncomment the following \n",
        "    ## GRU function to see a GRU based implementation\n",
        "    tf.keras.layers.LSTM(rnn_units,\n",
        "                        return_sequences=True,\n",
        "                        stateful=True,\n",
        "                        recurrent_initializer='glorot_uniform'),\n",
        "  \n",
        "    # tf.keras.layers.GRU(rnn_units,\n",
        "    #                     return_sequences=True,\n",
        "    #                     stateful=True,\n",
        "    #                     recurrent_initializer='glorot_uniform'),\n",
        "    tf.keras.layers.Dense(vocab_size)\n",
        "  ])\n",
        "  return model"
      ],
      "execution_count": 0,
      "outputs": []
    },
    {
      "cell_type": "code",
      "metadata": {
        "id": "xk4lUwRbLFNg",
        "colab_type": "code",
        "colab": {}
      },
      "source": [
        "## Building the model\n",
        "\n",
        "model = build_model(\n",
        "  vocab_size = len(vocab),\n",
        "  embedding_dim=embedding_dim,\n",
        "  rnn_units=rnn_units,\n",
        "  batch_size=BATCH_SIZE)"
      ],
      "execution_count": 0,
      "outputs": []
    },
    {
      "cell_type": "code",
      "metadata": {
        "id": "PymPpe4yLIUt",
        "colab_type": "code",
        "outputId": "94aee4b7-47b1-43fa-8800-7bba6d828290",
        "colab": {
          "base_uri": "https://localhost:8080/",
          "height": 35
        }
      },
      "source": [
        "for input_example_batch, target_example_batch in dataset.take(1):\n",
        "  example_batch_predictions = model(input_example_batch)\n",
        "  print(example_batch_predictions.shape, \"# (batch_size, sequence_length, vocab_size)\")"
      ],
      "execution_count": 20,
      "outputs": [
        {
          "output_type": "stream",
          "text": [
            "(64, 100, 429) # (batch_size, sequence_length, vocab_size)\n"
          ],
          "name": "stdout"
        }
      ]
    },
    {
      "cell_type": "code",
      "metadata": {
        "id": "uVqa2KqBLL89",
        "colab_type": "code",
        "outputId": "88e3eabf-1c7f-41b0-9498-14ae56a10a81",
        "colab": {
          "base_uri": "https://localhost:8080/",
          "height": 272
        }
      },
      "source": [
        "model.summary()"
      ],
      "execution_count": 21,
      "outputs": [
        {
          "output_type": "stream",
          "text": [
            "Model: \"sequential\"\n",
            "_________________________________________________________________\n",
            "Layer (type)                 Output Shape              Param #   \n",
            "=================================================================\n",
            "embedding (Embedding)        (64, None, 256)           109824    \n",
            "_________________________________________________________________\n",
            "lstm (LSTM)                  (64, None, 1024)          5246976   \n",
            "_________________________________________________________________\n",
            "dense (Dense)                (64, None, 429)           439725    \n",
            "=================================================================\n",
            "Total params: 5,796,525\n",
            "Trainable params: 5,796,525\n",
            "Non-trainable params: 0\n",
            "_________________________________________________________________\n"
          ],
          "name": "stdout"
        }
      ]
    },
    {
      "cell_type": "code",
      "metadata": {
        "id": "DzGMsuJgLRV0",
        "colab_type": "code",
        "colab": {}
      },
      "source": [
        "## Sampling to get actual character indices\n",
        "sampled_indices = tf.random.categorical(example_batch_predictions[0], num_samples=1)\n",
        "sampled_indices = tf.squeeze(sampled_indices,axis=-1).numpy()"
      ],
      "execution_count": 0,
      "outputs": []
    },
    {
      "cell_type": "code",
      "metadata": {
        "id": "1OLUxNd3LTxp",
        "colab_type": "code",
        "outputId": "6e19f376-0384-403a-e70e-3632148d690d",
        "colab": {
          "base_uri": "https://localhost:8080/",
          "height": 108
        }
      },
      "source": [
        "print(\"Input: \\n\", repr(\"\".join(idx2char[input_example_batch[0]])))\n",
        "print()\n",
        "print(\"Next Char Predictions: \\n\", repr(\"\".join(idx2char[sampled_indices ])))"
      ],
      "execution_count": 23,
      "outputs": [
        {
          "output_type": "stream",
          "text": [
            "Input: \n",
            " 'ssible in cases to which paragraph 4 applies the Community or Albania, as the case may be, shall sup'\n",
            "\n",
            "Next Char Predictions: \n",
            " '�–+€тч‟юäND\"ώЛΣξ½明，ᏳIϾ㸬\\u200b̉αв.!ÐQīüTč?kΛ脚Л脚¼ßå⊥dϾ!ęxо\\u200b\\uf8e7JAÞић（�η^Å>Сψ■̖‟明Xć脚º¼æ¥w{ћιù°§FΤυеϿÀї̈λØAτżlÇ´'\n"
          ],
          "name": "stdout"
        }
      ]
    },
    {
      "cell_type": "code",
      "metadata": {
        "id": "seKdj4qnLY8e",
        "colab_type": "code",
        "outputId": "8f7986ac-ee27-4f0d-8ea3-253401d6f824",
        "colab": {
          "base_uri": "https://localhost:8080/",
          "height": 72
        }
      },
      "source": [
        "## We use the categorical_crossentropy function as it is applied across the last dimension of\n",
        "## the prediction\n",
        "def loss(labels, logits):\n",
        "  return tf.keras.losses.sparse_categorical_crossentropy(labels, logits, from_logits=True)\n",
        "\n",
        "example_batch_loss  = loss(target_example_batch, example_batch_predictions)\n",
        "print(\"Prediction shape: \", example_batch_predictions.shape, \" # (batch_size, sequence_length, vocab_size)\")\n",
        "#loss = example_batch_loss.numpy().mean()\n",
        "print(\"scalar_loss: \", example_batch_loss.numpy().mean())\n",
        "print(\"Perplexity: \", tf.exp(example_batch_loss.numpy().mean()))"
      ],
      "execution_count": 24,
      "outputs": [
        {
          "output_type": "stream",
          "text": [
            "Prediction shape:  (64, 100, 429)  # (batch_size, sequence_length, vocab_size)\n",
            "scalar_loss:  6.061134\n",
            "Perplexity:  tf.Tensor(428.86142, shape=(), dtype=float32)\n"
          ],
          "name": "stdout"
        }
      ]
    },
    {
      "cell_type": "code",
      "metadata": {
        "id": "FZ10bfuZQnSt",
        "colab_type": "code",
        "colab": {}
      },
      "source": [
        "## Compiling the model with metric as accuracy\n",
        "## What accuracy in this use case means, that how accurately can the model predict the next letter.\n",
        "model.compile(optimizer='adam', loss=loss, metrics='accuracy')"
      ],
      "execution_count": 0,
      "outputs": []
    },
    {
      "cell_type": "code",
      "metadata": {
        "id": "lFEc619pQpcW",
        "colab_type": "code",
        "colab": {}
      },
      "source": [
        "# Directory where the checkpoints will be saved\n",
        "checkpoint_dir = './training_checkpoints'\n",
        "# Name of the checkpoint files\n",
        "checkpoint_prefix = os.path.join(checkpoint_dir, \"ckpt_{epoch}\")\n",
        "\n",
        "checkpoint_callback=tf.keras.callbacks.ModelCheckpoint(\n",
        "    filepath=checkpoint_prefix,\n",
        "    save_weights_only=True)"
      ],
      "execution_count": 0,
      "outputs": []
    },
    {
      "cell_type": "code",
      "metadata": {
        "id": "4NqZ-GiwQrwc",
        "colab_type": "code",
        "colab": {}
      },
      "source": [
        "EPOCHS = 20\n",
        "## Uncomment to view TensorBoard analytics - This might result in errors, since the tensorboard works only after fitting to the model. \n",
        "## In such a case, please restart runtime. \n",
        "\n",
        "## log_dir = \"logs/fit/\" + datetime.datetime.now().strftime(\"%Y%m%d-%H%M%S\")\n",
        "## tensorboard_callback = tf.keras.callbacks.TensorBoard(log_dir=log_dir, histogram_freq=1)\n",
        "## history_for_tf = model.fit(dataset, epochs=EPOCHS, callbacks=[tensorboard_callback])\n",
        "## %tensorboard --logdir logs/fit"
      ],
      "execution_count": 0,
      "outputs": []
    },
    {
      "cell_type": "markdown",
      "metadata": {
        "id": "HKCvhzdHggy7",
        "colab_type": "text"
      },
      "source": [
        "![image.png](data:image/png;base64,iVBORw0KGgoAAAANSUhEUgAABHIAAAHMCAYAAAC5s49OAAAgAElEQVR4AeydCZicRbX+gwKKK9erV73Xq4jKVa9/t6si7riDqIjiAoiIuCMgIiKSFUhCSEjYE0LYIUDCmhWyb0ACgayQfYFAQgIEQjJrz9T/+Z2vT6fmm+7pnn165p3n6aenu7+v6tSpt+qr89Y5p3rtOa9X0Es6EAaEAWFAGBAGhAFhQBgQBoQBYUAYEAaEAWGg62Oglzqp63eS+kh9JAwIA8KAMCAMCAPCgDAgDAgDwoAwIAwIA2BARI48kuSRJQwIA8KAMCAMCAPCgDAgDAgDwoAwIAwIA2WCARE5ZdJRYl7FvAoDwoAwIAwIA8KAMCAMCAPCgDAgDAgDwoCIHBE5Yl2FAWFAGBAGhAFhQBgQBoQBYUAYEAaEAWGgTDAgIqdMOkqsq1hXYUAYEAaEAWFAGBAGhAFhQBgQBoQBYUAYEJEjIkesqzAgDAgDwoAwIAwIA8KAMCAMCAPCgDAgDJQJBkTklElHiXUV6yoMCAPCgDAgDAgDwoAwIAwIA8KAMCAMCAMickTkiHUVBoQBYUAYEAaEAWFAGBAGhAFhQBgQBoSBMsGAiJwy6SixrmJdhQFhQBgQBoQBYUAYEAaEAWFAGBAGhAFhQESOiByxrsKAMCAMCAPCgDAgDAgDwoAwIAwIA8KAMFAmGBCRUyYdJdZVrKswIAwIA8KAMCAMCAPCgDAgDAgDwoAwIAyIyBGRI9ZVGBAGhAFhQBgQBoQBYUAYEAaEAWFAGBAGygQDInLKpKPEuop1FQaEAWFAGBAGhAFhQBgQBoQBYUAYEAaEARE5InLEugoDwoAwIAwIA8KAMCAMCAPCgDAgDAgDwkCZYEBETpl0lFhXsa7CgDAgDAgDwoAwIAwIA8KAMCAMCAPCgDAgIkdEjlhXYUAYEAaEAWFAGBAGhAFhQBgQBoQBYUAYKBMMiMgpk44S6yrWVRgQBoQBYUAYEAaEAWFAGBAGhAFhQBgQBkTkiMgR6yoMCAPCgDAgDAgDwoAwIAwIA8KAMCAMCANlggEROWXSUWJdxboKA8KAMCAMCAPCgDAgDAgDwoAwIAwIA8KAiBwROWJdhQFhQBgQBoQBYUAYEAaEAWFAGBAGhIGOw0Df/UPFxf8dKkb8T8PXwLeHPX1e23FylNLnffYNFRe8NVRc/N5QMfyQvfIO/1CouOjdYU//N4Y9vV/ToTKLyCml43RNh4JSDLMYZmFAGBAGhAFhQBgQBoQBYUAYEAa6LwYqL/vfULt4TKh79rEGr+qJfwkVg97eNexPCJzB7wqV134lVE86PWSW3xnqnnlkr7yb5ofahVeG6vEnhsorPmFkT0cROiJyRNK0eJBUDHqHsZGVl37EAL6n734tLkuTdPedpNW36lthQBgQBoQBYUAYEAaEAWGgnTEA6XDhv5mHSMUlByfeI4PfFfYMeFN+b5G++3eq50vVHT8LddtXhvRf7dJbQsWlH+50uxIPnMprvhhqHhoR6nc9G0JdbaiveCnU73ou1L+4PtS/vDnUv7o1hOpXQ6ivM3IHsgcPoz19X9fu8ncckdP/DaFi6EGh8tKPhsrLSntVDH1f2NPvgHZXQodOKk3p4dKPhopLPpAwkGVAilRP+FOoe/rhULdteaiZdm6oGPKf3auvRPKpP4UBYUAYEAaEAWFAGBAGhAFhoCtjIBuiVDnma6H6gX+E2keuDJl108x7pOahS0P13SeHyqs+EyqikKWKQf8RKkd+LvDe7rZw79eEigvfFvac/+a9hFKffUP1xFND/c6NaR4n1G2cHSqv+UKDaysG/nvYM4DwpX3aX97zeplequ//Y6jbsTqETHWof/npULdhVqidOzhgA1dd/81QdfuxoWbSaTmvovo9L4RQlwmZFeNC1ZjDE3nbETcdRuRUXv2ZkFlyS6jb/lSoe2FNSa/aJ24KlZf/vw7prHYHcLYTm9TDjlUhs35GqJl9Qagc/eVQcf5bwp7zOgasLWl/zfTeoX73tlBfUxFqHxoejHhrR7C2REbd087Mv/q7W81PGi8aL8KAMCAMCAPCQAsx0O/1oeKi/7T1cMUFB5oRZ5+HvT8xlqNNWtb4lhtkyHvCnn6vb7SWwOhlXU1Ixx68JtLrrT6vNcO4Ytj7Q6XlFznEyksM3dcEjN6KYQeFimEH538NPSggo3lvkKNkyHuS/B+D35XcN+gdoYGnfe99jARgU97aRPnck6/8bNldLsdJWofd5HPF+W8OVdd9PdQuvc28RYx0qHgx8Rp5dWuor3rFyIW6l9aHmpn9zLYGWzWzzg+1D18aCG9qhK821g1YqZlyVqi+9/cJeQRuR385ZFbdH0JtRSMip77ypb2yDj8kVI45PNTM6Beqbv1h1j5u4RgtsV144tTM6JvosGqX2efVdx5n48XCpga8KVQMfqeNMxu/vfcJlcMOtnvqnl9hxA/hYlU3HtGunjkdRuRUjf5iyKx9IAFTTUUIvGorQ6jPJJ3HO5/9t5qKkFk9OVRe9el2B1d7gzcuv+rar4TMhtnmmoULVqit2ttm1weuWc+vDNXjjg8Mzvj+rvS/iJz2nUS6Ul9LFvW1MCAMCAPCgDAgDAgDhTFQcdlHQ83s80Pt4zeEqtuOCZWjDks+L78j1Dz4z1Ax/EM5D4OqG74TaheNtI3QRoZ0/zeE6nt/G2qX3BJqZg2wxKoNNnb77Bcqh38wVE86zXb+69bPCJn100PtY9eGqtt+lHgS3H1yyCy5OWRWjg+ZlXeFzJN3h8xKXncl3z1xo12LR4HLUXXjd0LNA2cbIVA95cyEGHLD94IDQ/WEv4TMkltDzfQ+oWr8L0PNguHZ8rJlWl3jQyZbNsaw8FIYL22hG+zE6nEnBCcP8BrJrJliTgF4jZi3yCNXWgRFzltk1QTDQ/3u7YafRvjzPm+r9777h5opZ1oYEkY/YUnIWL9zcyMCJ/1F3ab5oe7pR0J91S77qW7z/IAt3a4kIZ5Cd51knjjUyzjM6WjAG0PlFR8P1Xf/OtTMH2pkk5FLRBFlidqqsceaviHU8Mwhb0575czpMCKn8tIPBwx/lFG7dKy96tbPDPV7dtCl9p5Z+2DuN66pmfYvY3rbAuhdpYyYyAEcmfUzc21mcq0nThBCpy4T6tZOMze4riJ7Wg4ROW08OeN2OOgdgZxDlVd+MnmNOCRhe/vsu/dhaEm33pmEKXLdFZ+0xYF5cOXJlm6uk+zWXPzeRrs+nueIkL49/d+wt458k3f/A2x3yHZ+cMPs0zAnEsw047xB6CT5ky5O7TaV2s58MnTEd+w6sUtFKCj6R3fspuES6v3gu258H+9GDX1vwtb7dZG8lume34f8V6N+YAct785Wujy/jl06dvuijP6JzO9LMuf3y8bl0mfsDg7/YLJjR+hmod29SNb0WG/zz3n1d5DhP73z2Ox24V7MLkm6b1L9tAfd5N2xPMjuz8nhsrrO6QN0mi6fUwziPvG+Ytz1j0KEo+8NE6XKaphM9a9h9a3JuLQTFA7J7gS/tSE2vJ1p7KXbBp4ok/j6YY7//GW2OSZKwZ/Lyy4zLtbROGu0u+04YGc4vpZdtIvfEyo5ZYKxTQ4B33n2e9J9mwc71n5CpYck46tRWXF7OntOSfc7siHTwLcnO+/p3fOmdBS3S/83/cyUfnqcfiqv/FSoffSakFn3YKi++6RQdd037HPdMwsDNg7JUG0tcV6vUHXbj0PmqftCZtntjTatK0ceaqQMCVUzqyeFyhu/22DdwJqtZs6FwQicJ+8OtQuvsuupg+ur7jw+VN/7u1D78GWh9tHRRrbUbV4Q6jbNDZmlt9l3eNJX3fhdM1hzcoz6vIWMEJJjURFX/V/OAK0c9YVQu/j6gO1GuEnVnceFzLKxoe7ph0LmqXtDZvF1SbmPjjZyirK78mZ0pzzD2npOgHAgx8zzK4zoIKoj5zWSqsu8RWZfkJAp9fU5vsSIhnb2yKm8+v9C3aZ5uTpb+0/N3ItsHdZefQhpk9kwy5wuahmfrp+++4eqW4+2RMeJ88lus9nra3aH2sXXJVFE2XW5kTlbl1jeHLyg2it8rcOInHzKrrr9p6Fu29IkOdC25aFyzFfzT/ppw/XKT5lSWUzvXWy/zphjS7zLgvYiXAMPNtaMiZUQLQylBomHMChZ4I44xNgyu45s08M/mLhtpY1iFpFD3hMqL/9YsGtdjpRhZIvg4R8yQ9uOKLvk4FB5+cdNBpjyzKa5SbKkl5+xSTTWTfVdvwp1258Mob4+1L+0MVTd8K0GOjGjhrKv+EQiA/JinBGGlZaXRelF795r8LseLPfQXjdON8BtIXrxf4dKXNiu+KQZfpYcy7N1k9vIiQN7iAwK9bufV2hVarKM+7Pk/3u/JlQOe7+5OdZtWxZgyet37wg8/Mk/BHlixEnf/Q1LNfOGGE7q97yYXLdpnj20jSSIjfsBbwo1M/qEumcX285M5ZWfaBCu53mOMqsmmqtjU/JWjjo0ZJbeGuqeezzUTD8vGU9R29lt4jdiSet2rEpe25bZYoA4Unf3LamdUblNydTmv2HcXPSfofqe39qOVN266eZOmVl+R6iecGqouOSDZjz6rltmRXany3a47gq1j18fqif8OZvkLHKFZvK/4+e2CGIHi/kjJmGIA268s9W4PL+u1na7jkky42d1xa5a5vHrQ83M/omcA94Yqq7/RqhdcEnIrJmcLPhW3R9q5wwMLBI7M/9YXv0tG2tkv8lGDHQ2rLS57cJAr5n695BZdlvBncjaR0fZXMZCG0zv3aW8yxbV6NB15LKmd1gb9f3iMckYNIzsZ7Hd9CmLeuvvbD/l+vDRa0LVLT8oWdZGenCs3v3rAB6SHdmZNt6IhYeIdKLD21n78OWhctTnc8/NdNvs+QL+7/uj6cHwv266lZ+U+b5cmW0+9koY8zl5l95m8f5GwDj+U7vbhCzUkCdgyc25a3lOsghj97lu7dRkbK+8O5ljeaYO/2DJ/WFl3XhEqH1ohO0ssujLPHlPrqw9TqZ6P3XinJLMOZ9sMOfsueCtNqdhiLFrj/eAEYtFdJRrVwn91RkYUZ1tvMGkfm6wBi+GL+b6/ETOI6FuyyLz1LE5uM9+hYkcjPNxJ1jISd3GuSGzcXbizcOmGP3B7+N/GTKrJ1r+k6obvm2bBRBEeNPUQcI8NCJZh/j82ARplCaU8MqBXMqsnRqw05KcJvskxM2qiYFnH88xiBqbP9ZPN9LKCapiOuo2vxPuxiYNuVyLvbguWpu3lQ4qLv2IOQTg+VG7bOxewiHfuMXOuPzjIbNmahIVkmVT2pvIgcyrXTA8CfkqxOCQfwZ78sW1ZvvWV+40h4ZClxMihj3dwKbP1+aWfNdn31A7b0iS0Hj7U6HqusNzc0COkKqttPFsHm8rxof6lzaYTmvmNSSYWEvisGLyEmKVttNbIl/qnq5P5PR/gy2Ca+ZdbPl1iPOrr3o11L+4LtQuGmWZpG1ndfiHQu0jV1ji3brND1nMn7ltAYzq3aH+lS0JWzbqsGALkb77hUrIiGnnWmdYBurqPYnCN81tZBSzwIFUYTFfv3NTqK9+NZHjhbXGeDOpuUcDBhueNnU7njJjoo6Qsl1bzYUMxq5uy2MFiRxiHI21JCv2y08HXC994sZIr554mrHfDeSFgb3nFNuJ9YU7A6dq9JdC7SOXmxymN9PDs+bmZeWasdTLHhBmgGPsP3FT4n5XsTPA3leN+VpCHCwYZnmN8CKi7rr1GLjTQz0xmMqRkxvkLZ2cMUhsonv1+SSZFvpd92CSDX33dtt5sV3kyz9mD07cI+vJNbVumuGl/tVtof7lZ0LN5L8mu8vZgV51/bcSPGVq7PfqcceFisjzxr2qSFhdkEilrN6vCRwFaAnJCP3bOCcxCKMcTjXzh1noJOQSxBE7P/UvrA2hercRUsjC7nUp7WypHlt7H8QuMbzJrtbkxN144VUhgxsqixX0CzmaXayR7Jvdr8zjNySvNVOs3eYKPez9OVxAjtbOH2ZjKrNhZqi+5+TESyDqp0Y7W4uvs3pJ+EbeLAhbFmyFFk7MAWAGI9WSyl93uLk3W2K2J26yHTJ24ijPdg6u/mynGeV59cfCccPMZGF605FhT3/InF42tzWnXVW3/NCS55Hoz3Yin7ovScq+fqblaeO7mrlDbMHDeAHL7DCSww23dIxxXHchRyBzKq/+bP6Febrv1z6QLLgfONu8rsC79dXqiaHymsNyWIi/rxr7Y9vZLEXWdP/aon3KmQlWqXvJTdbfLL4z68DqGYl31nm9bF6wdj79UIKl4YfYmPZ+8N1jMIY7ve/q2i7vwisTg2HdtISkHPzOXFtaO96ae7/Li3FTM/nMXPsoJ22M2I4164b1M5NrL/5vIysszGD9DBsDtQ9dmoQlbJxj8xLPX3aai/bHlZ9K6lsx3hIf0s8Jdu4NyMYuOK7XLNw7fU7ZsihkNsxoZGhhTCKz7fj774P+o6iObFMhtZBsbj/qepEt3RUDPkf5nJrzyHn6ocQbZsPsJNpg6PtC1dif5PXIMRJ69oVGpBgptGpC8jy66jM2b7P5ioHIs71m1gXmHer6JLlq7ZxBlqcDj+Lc980gcvA2rZk7ONRtmJnIevF/ByN+H/ynPaNr5w81j8bcs4y10b2/TU5HuuCtyQYTxEU7GK3enq7wjndzFYTWrUeH6tt/WvBVddP3Es95To1qy7mz92sMB2z81j33hOWbKVg+JA528hM35UKUnCRpbyKHNRSpVUKmxqts8J5Ep8wI1VP+ZjZn1S1HWciSh4o1uNg/VO8ONbMvTDzc21KnJDgeepCtgUh/Qo6ceMOoZkZv4wBYR2MfY3NX9Hu9bQBhs0NE2cZ1ViYiFPCSwjmjespZDTZfC/ZVM9vTtYmc3q+xHWUImVCzJ3FfIrnu7u1J+BGxZ2umGniZPNlVJcdOPaFJEC0cD8a11bvN64fvzVWQcI8Rh4Tax0YbEUGeGo4OM4Km4iVjAYnfg9lmwoSgqb7rRDNODYi1Fcn1lJ2pMnCySDZypN/rQ/V9f0jYufq6UI/cmeok2/WrW5OEz88+3pjIwXtm4NuTewmvIrTKjOuv2cAnrrZ20dXB4xutbbueC4GYwbpMwJCvmTPQ3KTxUmJRi7uj1V2zJ9S/8qyRWaZHyt7yaKjCWOr3uuAGuF2L7hhsmSrzrsC7gEUqxBX5jIwQIiM3n7M5fUTktH5RRjIsSAH611zwCN2gbx48J9Rvf8p2ZvCIqZ76dyN3LIfSHT8LFYRpDP4PI+zAOoQDY8EmiL772cRo5AsEXOXLoXbh1UZg+gRSKpFjRNNj1yb4Y4zt3GQ7QtSfKytL5DBpkdSb79nlJdkXeIXcqL7nN8Xb2Yl5sXjg8lBjzqkad0ISJoUe2f168h4zlCuv+r/AiwVWbFBWDHiTLWa4lzBJHl6um6qbjwqZ5eMS0gCSYP7FSax8dsJusCC6+6TE9brvfslCj5j21ZONxDH52EHPswOWNvSr7/+TGfQYa3gRIovJjQfByruSHFwX/ltORpe1I959sdtAfyweZ/Sxhx66xfvPCMQUQdXcdqX1ErfPiRwnv0xHJAwkrwDu4/f9wfRui+m0q3xEJtD3NZPOMK8YnivoO9enTRA5McFD3U3Jmv6N5w27pnW469//B5sHIHeQGQ8svMhsg6HPvnuJnGcfNWwboXvBgTlCMmd03HyUeZUZvu77nT2TiPkmVpxdWEhYwidjHXbk//lw4/UXI3IgVphbjRidPzQ3/irpbwg8djOv/WqDkNG0zr2uhJgdGuowyuYNyZWF0ZZ54mY7KYS5DhKns+cUiJq6Zx5uOOdk4/8hoS3kg80g5p1L/6e4jqJ5zfWh99avAaTD7qFDn6Nyc6qHVkHwLh4TMk/db2FIVTd/L1lX5AmtsmfH0ttCZvmdtmaqhUxnTXLnLxKvOTaG2FyFyEkR2oVwlJ4f4+vy/VZ996+tTtv0wVvRQr1GZ0PGTrY1Su4Zx2bTvCH27Km+9xSTmcS0FmrcTKM0lqsc/rfcNM8uTmwtJxni9+rdiQcTxH4b64LnC2v+fIRDg7qaIHEQtb2JHIgO8IRzgNmgsX7qag3nlZcla9RY7qrbfxbqtiZRO/Et2Em2vhn5+XbZjCTfDdFC1MPaPZYJW4CNnurbj03sg2yfspbD5q6v3mXJmON7sLvgJlhnmFd/G+OgSxM5kCgssOsrX7HOr1v3YKiZepa5S2c2zkk8bap22QRSddMROSIHwoGTsdhNJNwDkBqhE+otHIUJxkC1Y1VCmGxdGmqmnm3kB/fg2RAytZZcydwHr/1ywiZCXFS9YjvweCdYKMnm+QlRBKmUdWvLETk2QqoTzwmMO/L+zL3IPIDsHPpXnzcvB4xeSBVj2Lc+kSWsnk9OgrrkYCOSaqb9M5GrrjZp24LhtnivXXyteXAYmfPShmAL9Ms+Yg8Mc00jafSqCWZg2sS8dmogls/c8B6/3lwvc0QO2YqqdpnhTbxssri9PSGAIKV2brRyWQwTjlD/8uaERJJHToOBHg/gUv+HwTUPFrxv5l1kBhZeYJVXfy5UTzo9YLyS3R0vgVC5M9QuvdVy6Xj5Fi6w7A4L3SEsju8JEbQM9iQV2zg7YZG3LEqOw+v9WrumVCLHYkK3PJqES/HQenVbskM0Yq9R5ziKiRySlYM/PLfYxcETpVg7LSSkjSc611Ox9+r7fmdGmIXeeEwsBMiI/7E+IFSDNtmiJkXkUDaEHIsvsvCb+zTt6H+AeUdAOuNFaIQQRI8ZjUnuo9yCKEXQMDfYOIREuOukwIONecYM7dQOWEJw7PXIIT6eXRAWYngaWD6MQe8wgoEQTuSDgCimk/b43Re7MZFDPZXXfDEhEiKX7rQx3dx2pe+P25OPyKkY8WGbey0PwKQzAs+WgkTO1LOT/FQD/z1LoEwxL6COIHIKYhXMWI6GaYmnJl5m7nmE9xFEImTT1Z+1+aVB2278rv1GfgS8P837YsCbzHsJI4KYbzzSYh125P8NcOO6z+4AkxeAcef5JtIeOYQjExJKCBphBzzbLQx6yHtC1c3ft9wVlpAwOj2mEHYspGD5HYGQVPDhJ85guEC+UwdexMzBBfupo+aUDbOMvMITqdISRO5rYejk12B+sJC8tVONyElyGTatI51O2T0Ih44ctz2pLp+j8hE52Ax4ulj+mUeusFDieM4yPWH03v/HxBtn/jCbe7E3sH8I97B8d5d/PEDusIHcXkQOdpJtaLCJdNMRNj+aXbD0tlB5ZXIIja9bzKuPY67xXIaoIsSU+Zn8cJ20luvIeguSOe1I4tC+ytFfykVQVN3y/YK6NiJl8pnmTcUmfvoFJskV1946qxz9RdtUaEDKvLLFPJo8miSWAbkJB8fujv9qHr40VAxtP2zxzK5/ab2tlXLr+KZwPOCNOU6hfsdqy4sVt4OE5NjLRLL4Jnf8e2v/79JETvUdPw/kCzFi5rknEnelbIxh9fgTQh2eK/V1toNrOQDcI4fd/wfPySUWIsQIwwfyAs8U4urY+cULh+8SZu9Qyxtgk/Ajl9turMWBjvyckUeEZpmXzLppDTrCPA4sVCqTuFTdfJTFnVu8XAiWL6QaFj3ruRAnO46BGf+P55AlNxv9JcuADZBwl8dLpn7P9lCNpxDJZjHW3RsDT6JMlRlBtA+jGfd6dt6rrv1yLjYTY4/cO7h58TABVG6A0z47KSzr0UG+IXRgXk5Vr9gDCJfPXL0LrwyQRfLIaf3Czvpx7iALvzO2mV32SacZYWBeYZxQcMUnzA0X75ZSjnu3BGhbl1gSNDNg1k0L9bueTUIuBr7N+rEkIge3wZn9bOyQ0I5wPQvr2vJYdkwmZITjCM8i8nmQHMxy8GxdamQgIRt8V1ukna2d1Fpzvxm8GGFzeLAlCaDRvyU0JanpRe8K5I3KeeRsmme6qRz5Obse0o2dM/P8w6OEh60b1hCqZLmfNyTZ1cqGaXGNL4gsUd2EU42kY6wxB5qHEIupsT9Jwh4gctI7YPeekuTq2Dhrb2gVoZWLrs4acXeFmgfOSYxXcoVZ8t19TL7W6Kul9/piN03ksFvBKQB1G2YkYYKD39XIS4XFS3PaVcgYR3YnOMhtBJnKYsZy0aDjNZND1bjjkyM98yWv3DTPxgK5k9hgqMWwXzM1yaWEy3UJoVUt9si54pPmymuu747V7EIjR2CwW/vAP8z12NtJ+BieYTwP8Thl8RcTOei/euKpRlCARXaeCBWGmKq4sGFy4Zb2fWvuy+Em0r3tAN97ioWfYjwVInIgoCBaGZsYQJDcGEg2diGn8hzvWwg7hhGMljxJSnP3QJZd9rEEY505p+CdlfUy5Jli4QDmzTXWcipYqNmaybnQq+bqqDX9qXtbv3aQDruWDn2OykvkTD4zydH16KgkDJrwaUJho3mEfJ6kiSDnFl7MbOAZsUMIN2Ts6C8HNhuS5+QsCwW3fKFuaJKAnTULNkI0p+XzunHs5PvNjoqeNcDkNAJq/jCzGTiumtAr7s094/Dom3KWPSvZjDGSnNO5bJ3RtfrH29zW743InHYmcUz/tx+bJDnevjIJ83EMdOF37O34D1IJzBTqD/Idmv3tN9XX2YZSoevb4nuzd0o8zcvSmIz9sYUowylYKBb5e6M+YL1gyajbqZ+6NJHD5GFkCwTDumnWeUySvCxE49kk1wzJgVmQ5UKrUkmEWYTmfqt40UieJGTlycSj5OWnbeJkl82SIsP0WR6RfWwiIt7dc8xAkMQsM/+zMCR8y868n3ZuQhKR+AiXtSjMhI5tQORALJHnxBnS554wYznUkvRpe6hZMCwxDu/8RZbQqrNwJybyGCQYh/UvrE7ImY2zk6S1lsj57dkTkD5tp18ZaTNnYG5QuGxugKcJGSZpc4UjX8/OjYmLWZSsy0mA9H2xbPq/9IeYZZSf3ic7IWxLMPXSRiPlCDOpuvZrNg7wUCtK5PR/g8VO21J5yTQAACAASURBVBF/T90bKkd+1og4QvAs7Ofy/2cY8j5sKkcOdbMTQ54nJikStGLk2qRF0mOSfWMUe44cQhpfXB/qXlibEH144yy52UgcrivWznZJXhZNqk1hMk3kcEoDOqp9+FJ7Eb6Id4t5R+GRw2kN5Cch/GnVRMtHxI4UxiXknCUlvPMXtkuFWzXziyUxXD0x67lBP+yzd0GEgUquFk6awA2bnDsbZlnC4soRH85d12gHjF2w9TMsTKJBmNDoL4WauYOSvC8bZtvi0MLrrv9W2DPgzQ3mkab00ta/+WK3MZHzAfNkyOU1uejdjYgcw1Az2pUzrLO5g+K25AgOEtVy6gb5cfBgIDcAC9ZLPtA4/Mhd5cmRs2FGsgtJ328g0fANFopFYu/cIrcdQquIzbYwIRb7hYgcdmuJIR928F7CatFI80phDrDwukmnm8eWGx2EZlkutntOsXxw5rGxaZ7h13LukHQ9e7xmrMeO+j+Hm1j3FqpwvxkchBC5UZQjtDxHjpE1+1mCTktQvGqChUZCahHqaDtvJKyM5opC2LExDEESGWB+n99DPirk7fQ5ZfXEhDxeeXdC8l71f+ZdSKJU5gZIzMzaKTkih/5lLVSqjrzdei/9WS9ddV9d+Rzlc2ouR46H4l78XgtrtlOieNawhojmEbyfmZvZELNTpjbPN88Ay8e3cU5CPjOvzBqQ5P+aOSBJbM+81Xsf8/StmdHPNheY+x1r+ciaYr+xCY2XDaS3ybt6onkF2+EqDYicHprsOHpWoEsnc9hsNUeAdgin8j7jnXyAhB6l87LE13Sl/4kyAEfxH/JbrpneeTYWyQE0/TxLHeL34OiAzetesO3RPucekNVy3aX6OVdnvwPshDAjaSyX6cC8nkLV445PohlwSMGxolB5Lfy+axM5cy8yQxDvEfOmIdcLCYmr95iXCB4k/FmS1yl/20vWlEDkoEwjaCBcLNcLddSE+leeCRaXSvwbR5TGuXeyJJB7w3hn5AzYbIhRzZxBSY6cIkQOcrNg8nIqzn+rMe+W4Im8Ny9vNpCwEHQPHydf/B7e853+RXgKBmjd88uz+YWqEp3VVpkXE3rzstLyu+t0vnLjep0EEJHTBosSjkLmyN/z32wTB+6ymSfvNTxCIhJeYw/iJ++xfDMQCxwP7P3BfeDVj7Zmpx8jDI8pO5Hk5qMsySnJuDhRyuI+++5nGKnfvS2bjyn/qXGEQ9XvWGUEYM2UMxMycuktSdmWkyfxPMnhKJvsmIcL8bDkpEjcExNitFg74wR93r6Oeq+ZdHqDsAhIG2LRmdAJSWHM4P2XW5x5wls8HdZMDRkWaw+ckzvRi/4gUbElGH74Msv5Zfl2Vo5PYt6Jv+33+pzRb4aoGYi3GfkFmVMz7V9JvhhyX7mXR6MdsC/adWaUQlhA1JE/6fy3GK5IZG0nOS25JTFel48zMip9hHxH6dkXu42IHMKaFgy3PsC7iZ1FN4yNoGpBuxrcf+lHc2OGtjqR48mOGXMWesSpVkZ27lOYyNk018JhOeGD08FYWOMF6YRdrq/agcghmXXN5CQnj+Vo4aSs7CKAfGqMRcufkMWitxMdkjCbxZG597MjTO6nbP4fvFZskT7gjUkyy3HHW1l4amYghqb3TpLqt3DB4TK29D2Hm0j3yQ7wF5PNHE5xyRpFjYgcvEkJJWSuJKnvjd9N9LD8zlC3aX6SAJyjdqPNikLYwRPXDJvld5p3Xtwekn6abrO5kjp7TsmsmWSekXhXQVbicQWZC9ZJ3l772Ji9/c8ufjEdXd72uR5i/en/NlhPdNL4VN/1Kvy8cCKHwxIg121dMCdJZeBEDvk4OXFx/Qybx9g4rp1zYfJ6/AbLyUVIVQXezuTtWzXRSBbypdn6jwNcmNshp0m4HoW+t4TIqRx1mM2LdZvnJXm2sptR3s+5ZxzrEfckxnM58l7u7gmPXRf+DplDCFyTBEAbjU+cFFhbQm6Q07FZmyysD4e+LznZ7Px23tTDsYBNuQl/sigVJ2XMfq98KTlE4YK35tYwrkscJXieh9qK+BYjFw3zdlpzHgKolfqFeMHmsQ1uUiAUKA/PfDucKFOdbJqlPHH8vprpRAA9b2utZF3ZtnN81yZyOP6LI8g4invPC0ZK5LxX3Itly6NJzhoWTx5alSJI8nnksJADJOayuGKcZfzGyLUkvpAosGvzh1psaGbFnWaQWsLWaecmCZC9Y/vuF2ofujTx2KnZY94T7NoXIl5ij5w0kUOnVwx6u+UoCNW7kpClBcMNIJzSxR/ulnESVe7B9T0JQasLdVuXWHJFYh4tL5B5/aw2HdWSGHPzAkt6a2VlvYVyBngq1w0nqpAJnfA1CKH0qUYictpuMPLAxDCDaTYyBiyc/1ZLYM2RfJwCxUSNZ0vAw+WJm/cmHSUp+C0/sPw49vDmIX/PKYFYTQhQmwRrKhIiDzxYmNxFSZ6E6b1Dk0TOgDcaphl/VpaXwzueWmRov+UH9gBxHDlBWD3+xMSdkMTId51k+VhKaSehMz4BdvS7GW7ZvDLkwvFFyN4FS7LzlCNysoszwhAx2Djtx/KPmEG4b6gc8zUj0th1q3t6QbKzxg5b9nPNrP62m5YuH8+IfG1v6roGRue1XzZDlRBUSxqczfthCzMMtw2zLAeKhe35XNaB7zmDPFrc2m4iyWKNFJuc2/lrbbsa3F+AyHEvJhJQ4vrLLqSRndlTE+Pwo3Tfe84YiAG7F+Jm1GEWqoVXBmGyyekGSV6qJElxUgfXxf3clKzp36rv+70Z4H6UumOVUCE7rYs8N9mEuzGRYyeaXfOFJPfShtn2TGDhD0FJ3iZyzRBy5RsWlsSbpPeELS25JcFTB2Il1k9e3GRlSRsqaSKH5yY7mJYwFLf/Ptn8VN5vkFnZZKJeZ1rn/n2ur8mRc/0394YwECv/wNkWmm1ePsM/lBCRnT2n3HNyqCZf4OpJ2bwXk8wLufrO4xuE1nE0bTEddeb87PrXe9utPaTLttWlz1FOjhd8Xlz39WRt8MzCHPnMhpflxCNH3PhfNkimmptz8Iq58YjE24+TrchNQ07LRSMTL0o+P3l3MpdFhxmk58e43wv9hldxzfR/GVnA+oVTfj29Avfn1iOxJ3HKe9mI4U56XsRt7I7/Ww4ZbIJMjeGmOYl0LYR2xXjboLF8je3YR3ZYCvY8BwTl+eNAFOxYsFVxwYF2SIA9v2dfGIgqyPdnB77c/tNQkT3dtC37l3V73ZaFRQkyG5NsHmFLFwoPw4ZaNtbsJU6uJWSxLWWlrK5N5Ew7N5vHpiZklt+eC83IKQE3aHaP+uxrMfwlEzkz+iQJSzm9avghtgNZSW6AcSdYQmJCSCAvCHuyDNWPjbZkS5zcZAkMowRe5FTILLttL9Hz4D8SL4cSQqvyETnElBIfS9JhPIVg33HzIoO2ESrkJRlzeNiTTVaLLgjjQFb73Y42PNcMRjO0LQHy8bkcPXEiZje43QBPe9ZUXUcC3nkGQPPi4JSr7OKXei3PEMe7pwigXP+048TQ3eqovuvX5ilDgi0jPS75gIV1kACb+NC6Zx+1xGbk4qjfudkIOzM6CP0gppoT2PbsSLw8rv2KJQgz8nPbMmOBa5eODbzqnn7EiDwWGRg2SR9usyTgVZyCNez9e1/k+cDIIbF4xYtJWA7H7FLWstvtNC2+txDAoe/LhVY5riov+YC57du9ayYHO3WLU6vw7inSzs7qX1uYQCSsfSCQVLdixP8YscZDJrPiLls0cYKdeeqkkh3nFmEYxRP/Yg8lS3RKDPyT95inSW53jRh5cpAQcjbyc4mePYmxn1qVZ/zkFk6ppMjoKzY6IQtqZp+feBfNHZzkARnyX0lIGHlzbAftzzljvaP17Yvduo3zsh5Hnw4VkGHT/pWQE4uuzs33rW1XfD8kRtzWNMFheQFm9DWXdSNFL/9YLh9S44V5VvYrPmHutJaEmYd69sQyI1Qe45QPEgf/Jcl7NOQ9ST/hrm67sP/XQJ6mZE3/lsPqminJ0a9glc0JSJc1k5PyR33enhXpdiYnUf3KjhVnc8SPpyYJtoVdPXWfJQBOvPzekzsJy3I/ZZOpx3rsqP/34qb5x4/jNUWfMu4gW5g3Ic05aACvRTsVhjmQXb7s2Evr3L/Ha5Ck9JbU2MbXobYjbmERS7Pzh59ahRddF5hT2JghbLNu80NmmJEvxxbzUf4nyz9VREckrHQ96L1tSQDps/z1SYJ4CA/W8SRRt3UWnx8dnZwUOfDtNn4wWFnrQcCw+Uuicbwl8UjFy5Jji2M8VA7/oOU848AEbJWKge8wuwdPWw7BMM9KThZceKV56XO4QXy/exd7XSX/lpXJyr3h2zlbgvs59IHwXepnLdPgtejq5BkSzadxnfq/bbDO5m89aQx2PWcJqfHEblK3We8YDqzBxuS5x3O1yXvyrEWbcz2eK6yDsEkL/SG/5a2b8jdL4cBmo9nBhW6orTSvtgb5oVopp7ep4oJ/s0055OWwELyc/bf4nfUWp1KyAVhoU5RnbN1zj5uuq+8+OexJhW/H5bX0/y5N5LCoJP+NERR4mtx2TPaUlX0sBIVJj11/Egra6TgleuTULrjEmGti8zBszSDOupYZ4FZNNKWTA4SwkiTR6zOWTwcwVl53eLA8Hv3fEKruPC7ppOxpUiwKWUiX5JFDtu6xP0nYx4H/bkAgO3zduunBjkTHc2LW+XaUGTtp9t1ukh3/Ixh4Ob9+0DuSEDGSHUP8LL4uYdC3Lkn0tm25GYkQMMQn1jx4roXrMDbc4C5E5CTJjiNvpGy+BcIxrF4IJyU7zjvAmzsgSWTMw5AcNuSX4ehjwjTwEqvfvcOSuzKZVF71GZvsYLb9OvKl4LVjxCNePeNOsFABy2Ez9e/WVy4Pu+14V1nYHmETJB7evc2Y8gy5MEiol30RIojhQ34kPL3sxJNookwSgj0f6jbNMQ+EmgWXmLeP44o6IYe4l3ax4DBjqoR2urwd/Y4njB3f/OS9RuYwnkjubCdRbZgZ8LBgjJJAHS+NBqFBHNOMlwS770tusUUbuYzIVF+dOiI0Ocrz2iSk4Z7f2G5E7jSqNiByICzsyHMMSNysn7gpMWKX3mYkhbXjuq+3a5xxU32XM8g3L7AkweiZnB08vFlg2Fx/wYE2ttLGdHPblb4/lqsRwQFmb/i29XNm3QO2K+qkXSMix2V/5ArLjcOzwXLrzOhrYY+GJUscPMEWS+y0WkjLqomGkZopf8t537lMTcma/s3Kv/8PSYgPJ5o8fr3N/+APIqdm4mnJcyIKIXPPI+qrJARr7uAkr9OGJGTQFuYz+5tnWW6XlzCcVZMMx2wqsHhxeTv6PYeb2JMrOyeld5XTHjm26CIcgfxAWQ8ZG9skAiYPFUfeZ3OHebvSOvfveTejy8IdZtlJcnhG2YktELTzhyYnfuFZ2UXmFDzzMLrYnKldMc7m7Fwidg+tG/xOw3xzdBTrRP+3jXEmPUqPzcEAnjPMjWZw9qAEw83RUXe9FtKBtQV5WnOeLYPf2WDTPdf2fgfYhhKpGcyG2L09CclqB3IhV2f2+UxIb/3OTYVomWZ/z+m3rFfS9bTVZ8LAsH3IfVt9z28sVUG6bLxxazmllufp1Z9pJAtezWziYJtbiomRn2t0TbrMlnzu0kSOGbfLxppxGOpqzAUcYoWdTowt4jaNxVswLDFaSiRy8EIwr5ddz5pLGgYz+WCYCC2Gj3CiTE1yVPl1h5tbPPkv/PQmMzRu+X6ovuMXIbPmATsGnd/M7fyyj5psJRE5eFA8fr15RZhMGH1bFiU5bThCfduywC4aOUUs+ZId911rcXvEtuOZk4RxbUzCXF5Ya6E5FhK1cU6SV8hOOLrU3L/JOVH33OIkRCYK0ypE5AAojA07ZpzwqhfXmbcRC9gkDxCnX9XJIyciN1oyCP0eM1I4sWfzAosjTRJhLzKsWnhMNneDeX48fJkltjUmfvuTdjRlzYQ/J3GoeI9wosqK8Y3C8Mx7x09EgPme3tuMmnwhi2YYPn6DGTnmdZNipS3pMUYR4QVjvhaqp54VMhtmm7Hqng8YTxYLzvfzLwmVww+xcYahU6ydrpeOfid5MwSxnRyBkUcOkaW3hpp5hFoeaYRobtcttcsGEUyuFE5VwiUZIsc8O8Z8tQFpwsKresIfA8YfseUYobaztfCqJnexcjtgea6ruvWHJrMZ25wq4UlL511srtvkxICQwnjFc4B5paN16/Xl9Pf4DXt38cgHNLN/qLr2qw2ORW9tuxrdH43X6nHHWR/kdGYnAb7LksFa3zDP3vCt/DussewQZY+NTk6JIi9B1mMSjw8WAWbkZxMMQ1pZ/p+h72uk/6Zkzfdb4/LHmxzs/NgJa76IytNO+sLc/ucPC7WL9uLO+mbyGUmybWR+8u6QeeImO+WqYsQhubZ5X3bkew43qXGXtCXJZ+U7znhX4XXCWCTmnR1qSBXIZcKhLQyOMbFsbKiZf7F52RFGFrcnn85zv8fji3A85oklN9lmScWlezHA9V1lToEEpe2sHzi+NafPrPdAklOreTrK6SMaV/pORIQwIAwIAx2DAXNAwP7l0B08W+YPs1yW5mE/5L9sY8kOyyC326r7zdMFIofcLe3h0ZKv3wlB51kLqWF/pHmoeHHv5yaonPrKl7M8QDYvbuXLtmlKbtB8dbXFd0aQLb4+yfNJ6NdtP2pE5vA8tcMxyAN6zRcayAKJgy1Af6Bry2HUToRZlyZy6AzbHV09OcnrUl9nxAEkCwSCJSfeuTGQZ4Jd8pJDqx48x4wlCw/Zs8M8bTgpCjLGyib3x6tbbcHjMYfmWbB5gQ0Ur9uSLSNH1S7brcS9itOu8oUvObDiHDl5cUt5JIjdscrCDDyejgUXro3JMei1ufa7LITbsLtqA5e4VgAE+0lC6KyuzK3NQraqSBFtp2VVjf5ycE+KfCFSRqYtuTnUV7yQlONC0weURYJohVY1GMDe1y19JzcOZKUd4VggVwplgw3wRFI1P96+pXV2xn2ltrMzZLM6++6XI55wg+40OdrAQAIrPOwx3uIjScu5TcheLu2CIKi87H+T8Kpirs8t6O/2KD9XJqFj3dA9ngMBbEywexmFKrdkTFhZV37S4vubvL/M5pS21FGTemkB5lVexxiJ0rP0LAx0fQwYmYPjw6vbko39Xc8lnsCcfrrq/sQzPpuyA08Ty3dUIDlve/U3m794pmDf4vnPJi9erJaDEzs1/Yctzsm9D18eSNaPN6l95iCBKJF3e8lLGLGFhGWq83o7VQ47OHC0OK8cIdbvACPO2Jg1Eqdql9njud/b4VnXuURO9gQWvFCSfAGfzmssWdz2o6OMeDAPhJc2hHr3QuBkE3I/kI9j3pDkZJnVk8xt2Du3wW/Ex5N49cK3mSsUYVaWN4QYQ8rlOPBN87KncxyUk6ei3+uMkatdemty3NtL65Mjlp9bnCQ3veZLYU+/19n17uKNl4Md9RvlZTCvi0Wj7IjpfF4QhLcQZ2qJnwb+e65+2oI3A8c/E87BceMmL5m1102zRKvoIddmsuLP7Gfx8KYzjoNGz7h/r7zb6ieUIfakyGyeHziVyJN35soiAdvCKy2EjHAe0xGnsyy6OthpJgXu8/v13vUfAuoj9ZEwIAwIA8KAMCAMCAPCgDBQfhjAdsOGw0uEA3LY+OeQHgujeuWZULfjqZBZOT45zKAdvVkKYYfkzOTdhHTyXDHm+fLw5cnBRikiB2eEqtt/1uBavGDYFIvztRaqry2+rxp7rEUlNPB2GnO45TDF5rZTeAe9I9lUHPHhUD32xw28nohsMHnbgcDx9nUqkeNClPpuHghjvppkbG9DL4RcuTcdabkvIHmakilJSvYtc7m3DO7RcaVN3ddWvxGWUXXNF80LiURqTe2W5tp2w7eSbPOtkDXX7tFfMiKsrdqjcsrvgaE+U58JA8KAMCAMCAPCgDAgDAgDXQcDkCOV138zEGJdO3ewhXxXkU/2ik/kSJGu1F8cKmSn7KaIHPL0dcQx7sV0AfGEE0f9K88kKUsqXzIHitrFYyxnLdEwmSduNK8nTgkmSTMODxay3wFeT2VF5BRTtn7vOhOJ+kJ9IQwIA8KAMCAMCAPCgDAgDAgDwoAwkA8D5J6se/qhJF0H4V/ZF/kcSReS756O/g5yrIrDEkj18sIaS79C7h6X1Tyf8Hra/mQUpXNAh8guIqcd3Z06GmiqT5OkMCAMCAPCgDAgDAgDwoAwIAwIA8JAV8eAh4SR+iN+Vd3yfTuhuivJb95O13wxOUjhoRE5efHKSU7R/t8O93oSkSMip0MYw640ECWLHmzCgDAgDAgDwoAwIAwIA22KARKn99lXL+mgeRjovY9sMdnjLcKAiBwBp0XAadMHn/pAfSAMCAPCgDAgDAgDwoAwUMYY4FCSylGH6SUdNAsDFanDbWRjiWAuFQMicsr4gVFqJ+s6TQjCgDAgDAgDwoAwIAwIA8JA+2GgeuKpdvIsp8/qJR2UioHKkYeKwJU93iIMiMgRcFoEHC0E2m8hIN1Kt8KAMCAMCAPCgDAgDAgDwoAwIAwIA4UwICJHRI6IHGFAGBAGhAFhQBgQBoQBYUAYEAaEAWFAGCgTDIjIKZOOKsTE6XuxtMKAMCAMCAPCgDAgDAgDwoAwIAwIA8JAz8GAiBwROWJdhQFhQBgQBoQBYUAYEAaEAWFAGBAGhAFhoEwwICKnTDpK7GrPYVfV1+prYUAYEAaEAWFAGBAGhAFhQBgQBoSBQhgQkSMiR6yrMCAMCAPCgDAgDAgDwoAwIAwIA8KAMCAMlAkGROSUSUcVYuL0vVhaYUAYEAaEAWFAGBAGhAFhQBgQBoQBYaDnYEBEjogcsa7CgDAgDAgDwoAwIAwIA8KAMCAMCAPCgDBQJhgQkVMmHSV2teewq+pr9bUwIAwIA8KAMCAMCAPCgDAgDAgDwkAhDIjIEZEj1lUYEAaEAWFAGBAGhAFhQBgQBoQBYUAYEAbKBAMicsqkowoxcfpeLK0wIAwIA8KAMCAMCAPCgDAgDAgDwoAw0HMwICJHRI5YV2FAGBAGhAFhQBgQBoQBYUAYEAaEAWFAGCgTDIjIKZOOErvac9hV9bX6WhgQBoQBYUAYEAaEAWFAGBAGhAFhoBAGROSIyBHrKgwIA8KAMCAMCAPCgDAgDAgDwoAwIAwIA2WCARE5ZdJRhZg4fS+WVhgQBoQBYUAYEAaEAWFAGBAGhAFhQBjoORgQkSMiR6yrMCAMCAPCgDAgDAgDwoAwIAwIA8KAMCAMlAkGROSUSUeJXe057Kr6Wn0tDAgDwoAwIAwIA8KAMCAMCAPCgDBQCAMickTkiHUVBoQBYUAYEAaEAWFAGBAGhAFhQBgQBoSBMsGAiJwy6ahCTJy+73osbcUlB4fKqz+jVwfroGLwO8Oe3q/Vw0dzmjAgDAgDwoAwIAwIA8KAMCAMdGsMiMgRwLs1wDuD6MosvyPor+M1UDPpjFBx/puFZ81pwoAwIAwIA8KAMCAMCAPCgDDQrTHQa+vAD4atg/SSDoSBtsLAC4+NCzt37tSrg3WwY2LvsG3oJzSfaT4XBoQBYUAYEAaEAWFAGBAGhIFujYFe999/f+A1YcIEvaQDYUAYEAaEAWFAGBAGhAFhQBgQBoQBYUAYEAa6MAZ6TZ8+PcyYMSP3mjlzZtBLOhAGhAFhQBgQBoQBYUAYEAaEAWFAGBAGhAFhoOthoNfDDz8cHnnkkbBw4UJ7LVq0KOglHQgDwoAwIAwIA8KAMCAMCAPCgDAgDAgDwoAw0PUw0GvZsmVh+fLlYcWKFfZauXJl0Es6EAaEAWFAGBAGhAFhQBgQBoQBYUAYEAaEAWGg62Gg19q1a8P69evDhg0b7LVx48agl3QgDAgDwoAwIAwIA8KAMCAMCAPCgDAgDAgDwkDXw0Cvp59+OmzZsiU899xzYevWrXpJB8KAMCAMCAPCgDAgDAgDwoAwIAwIA8KAMCAMdFEM9Nq+fXvYsWNHeOGFF8KLL76ol3QgDAgDwoAwIAwIA8KAMCAMCAPCgDAgDAgDwkAXxUCvPXv2BL2kA2FAGBAGhAFhQBgQBoQBYUAYEAaEAWFAGBAGuj4GROSIyBKRJwwIA8KAMCAMCAPCgDAgDAgDwoAwIAwIA2WCARE5ZdJRYkW7PiuqPlIfCQPCgDAgDAgDwoAwIAwIA8KAMCAMtDcGROSIyBHrKgwIA8KAMCAMCAPCgDAgDAgDwoAwIAwIA2WCARE5ZdJR7c3oqXyxxsKAMCAMCAPCgDAgDAgDwoAwIAwIA8JA18eAiBwROWJdhQFhQBgQBoQBYUAYEAaEAWFAGBAGhAFhoEwwICKnTDpKrGjXZ0XVR+ojYUAYEAaEAWFAGBAGhAFhQBgQBoSB9saAiBwROWJdhQFhQBgQBoQBYUAYEAaEAWFAGBAGhAFhoEwwICKnTDqqvRk9lS/WWBgQBoQBYUAYEAaEAWFAGBAGhAFhQBjo+hgQkSMiR6yrMCAMCAPCgDAgDAgDwoAwIAwIA8KAMCAMlAkGROSUSUeJFe36rKj6SH0kDAgDwoAwIAwIA8KAMCAMCAPCgDDQ3hgQkSMiR6yrMCAMCAPCgDAgDAgDwoAwIAwIA8KAMCAMlAkGROSUSUe1N6On8sUaCwPCgDAgDAgDwoAwIAwIA8KAMCAMCANdHwMickTkiHUVBoQBYUAYEAaEAWFAGBAGhAFhQBgQBoSBMsGAiJwy6Sixol2fFVUfqY+EAWFAGBAGhAFhQBgQBoQBYUAYEAbaGwMickTkiHUVBro1Bl599dWwbdu2sGHDhrBu3Tp7Pffcc2HXrl3dut3t/fBQ+VqgCAPCgDAgDAgDwoAwIAwIA52DARE5MuJlzAoD3RYDW7ZsCQ899FAYMWJE+NOf/hROPvlkew0ZMiTMmjUrPP300yJ0ugj+d+/eHSDdeNeCoHMWZv9NcgAAIABJREFUBNK79N4SDGjsCjctwY3uEW6EAWFAGGgdBkTkdBEjRkBuHZClP+kvjYFNmzaFwYMHh4985CNh//33DwcccEB405veFN7whjeE1772teGggw4K5513Xli+fHmHkDmQFM8//3zYvn17h9SX1kdX/oxunnnmGfOaevHFF7sMkaM+07zSlcdNZ8r28ssvm6cj45XX+vXrgzwdNV46E5OqW/gTBoSBnoYBETkicrqM0dTTBp/a234PHDxxzj333PCud70rvOUtbwkf//jHw7HHHmveOMcdd1z4/Oc/H97+9reHN77xjeH0008PK1euNG+QUvoE437r1q1h48aNRjwQshW/Nm/eHF566SUjbPh/x44d5mVCeNekSZPCgw8+aAZPKXX1hGvYzUdPt99+e7j77rvNS6qrtFt91vZjlP5Gr/Q5BIA8sNpexx0xfp566qlw1113hUcffdRInLFjx4Z77rnH+lV9Wp592hG4UR3ChjAgDAgDbYcBETkickTkCAPdCgMQLVdccUU4+OCDw4EHHmjkzSOPPBJeeeWVXDvZPe7du7d55eChM2DAgJIJBIzP8ePHh4EDB4ZBgwaFiy66qMFr1KhRYcWKFWHOnDnh8ssvD/Pnzw87d+608q+55ppw4403GgnEg4xdbTxRMGzbK2cP5T777LNGHsU66CoP0hdeeMEMwDFjxjSLUOsI+Qm9S/dZR9TbnesAj1OnTg1XXnlleOKJJ9oN991Zh81tG8QK3oDMNZDMzb0/3/WLFi0Kl1xySXjggQeMrIYMHz16tH2mrnz36Lu2W7xLl9KlMCAMCAPCQKcSORgx7JyTgHTt2rUtfmGUtachpIGigSIMlA8G2Ok/+uijw+tf//pwyimnGKmSr/8gZP72t7+Ft73tbeHTn/50mD59eknGB8TDLbfcYiTObbfdFiZOnNjgNXPmTNuVfvzxx23HetmyZUYi5SMFmPsgCiiDOSyfnK39jjn2pptuCnfccYfJ1dry2vJ+SDd29K+++uowb948I7zasvzWlpWvz1pbZk+/HyKHvFV4X61evbpkT7ierrfWtJ+11uTJk22uYT5i3LWmPO6NiRzmRPp1xowZASJbBF35PC9biwPdr74WBoQBYaDzMNCpRA4LipEjR1oIxN///vfQ0lffvn1th5zdJoGp88Ak3Uv3XQEDGIiEUr33ve8N999/f5NzAt4yX/jCF4z0ue666xp47RRqixM5V111VVi1alXB8tn5JgQLbxx2xGNSAPKZXevHHnssDB06NNx6661m1Pq11I2xRVgW3jS8IJ7cAKM8fqMMvocE4hV73Pg17JTj/cBuOXMu1/NbvjoK5e9BLtqCHFxD27xuL4t3bzPkEfJgQBbSI99TBm3HSwmd8J3L7eWn29aUXrwurkFO90RCLtcXOorriHXGfdTreoj7jFC6uPy4b/x6/512Ize65jp0F+vdr/P3ptrkugd3XOf3UB45SXinPtdX3Ad8h4Ht99BW5EImykOuuFyuTevN+9fLcHno4xjf/jvvcTn0QVwH5fE5Hz7SZcf4ie/jOsqg/emx4XI0JYNfk36njlh/aRnjfo314vcgl8uJ7vnsOEFWrvP7eOc3XlwX6z1ut8vI9V4Puqf8GLtenuMA2XlRLjgmdHHYsGFGmPJ9jAvqpy/zlev1+zU+Bzz88MM5jxz6gusYIxDTzLuU5/fqXWsDYUAYEAaEAWGg7THQqUTOnXfeaSQOIQrDhw9v8atPnz4BModdIIGk7UEinUqn5YSB888/P7z73e8ORxxxRCCkqpjsP//5zy35MTl18OYpdj1GCx45xYicxYsXh3HjxuWSKcekAAmWp0yZYgQLCZcvvPDCAJEE6YKBhdG0Zs0ay6lz8803m0cNHkMkcPbf+UyIFx5A1HPvvfc2kJ8y+A3Dql+/fhY+xm455BEGYVwH7bnhhhvCfffdZzLwu+sBw3DBggVGuHDNhAkTzBikbrxp3DjFwJs7d24gVwbXIRN1cb8br16mvz/55JOmAw/P4HvkKtS2WOZ8euF+jFt0hzGJHBBFhLnhkYDnE33sdXBN3OcYuHEeo7jPnMiJZSikN/KHoJ9p06ZZvVznuvK2+3tcXr420RbISfrSjWN0TpswzpcsWWLerPQdHhF8z7OVUDVymBDm5/1JWykLXZCrifrwhIJMgBDiWnCEBxcy8xv96gQSfcmYwrsL3dLXkKHxNbQHHHs5lEX/4n0GQUH/cA9y0DbKBh8QHZADXjZtW7hwoZERXOP3oVc8etAtMjJu+J+NHJezmAyu+/gdGYphOM4L4zqljHis8z3to/3Iia7RAWQlfQNZgpzICM7BJNfRf+iUPkHH8bjherDI/ej8+uuvt77F6w+iBtm9vPScQD8zBggDJZyUE/w8T1c+vYMZ1lLMc/xO+7zffWwzB9B/hJXSt07kIAP1M88wtv3+WM/6X+sJYUAYEAaEAWGgbTDQqUQOixa8cHDRbU2HtrQcFhkYRbzSCw4WJOwQs3D2xWFrZGzre5GXRSeGXbygbOt6mlMeC22SvrJQRafNubetr+3o/itWHwYiuvEFL/0HrtK4a0oPGFvuydGc+5oqszv+9q9//csSGf/oRz8yIqFYGzmWnNOs2prIwajG2wYSBAM2JgXwjIEwIIcORM4FF1wQrr32WjOkwRIECL9BcBO+hbEK2YNBBqEAFjBiMcz4HuMMA9jJBtpMORiKeD1CdPfv39/IJwgFjHaMtcsuu8x26TGaKZtj2flu6dKlNoaZW5CT07+oA4OU8vhM3W7EYehBHlx88cXWDmRGfkh6ZEDedD+AYcgJyo1zGDlRlm4bREAxvTCm8JIiVAvDFZ1i9FIHOkAmfvc60mRc3EfoMv0ZmUvRG880dMEmAzqlHtqI3mM9ME8WaxO6w2i+9NJL7VlJv0IE0hbPt0SbvI3kLaHNeGA5NiB7qMuvQ7cY4ZQ5a9Yse5ZAEoA3ysVgxxgHlxAS7k0CFmgXGAAz6Bni1D0w0D+kBhiiLCcdwAF9QSgV8lMmdaNL7uE5C36QKS6b+yANqJ8xxH3I5NeBR+QF2xAiTn4Uk4E6437g/1IwnA4n8jLisQ62kJO8W8hPe1ijoBPkJCEw7fExDEZoD/1Fv9F/tBFyyscNWKQMroOgY3xRHp+pm+u8vPS4gTBGT2CBuYby+Q4Z0DuEq49b5gBwxGfIJfrK5wDq4jefA+h35lqfA9CFj2n6nvvzeRa5zvTeNot46VF6FAaEAWGg52KgRxI5EA4QIOz2sYjFmOB/vuM3BgS7SSxSWOT4YqorDRQWSCziWVyxqC9VNhZa+YirUu9v6jp2e1mosuCEZGrq2vb+raP7r1h9GDos7NlxRv+QOuymoif6pBR9sMvLIp3dVC2QC0/a7pHzne98x4yJpnSLofLDH/4w9OrVy7xWICGbup7fnATAqKFP4vxeEG3MF/RpbNzRX2lSgLLcsGYX3L0t8CyAuHHDl7KYlzCYIIbwksAIg8ihrdSDTIXkzlcv8mAoYpThPYFhSz3Mg9SBoUc7+A2DkeswJl0WvAwwDN2IwyDHeHNjGlmoF2OftvF/Wj5kwOAlMTXEkRvXrt9020rRC8Y4pAeGKAQa/Uu99BFkSmuJnFL1hsEPgQMZ0lQemFLaRBsgsSiLPocERK+0Bb3HBA3ECvXRT+gTYxo58JJgrnG80VdO1qEfPGPQDwQB8zj30//0HddCjFAufQU5g9zch77pQwgAdAxR5bLh3UM5yAdmISAgESmXe5zIQac8h+kz8APpTdleP8QD+nSCBFxA7sTjBRKEF3oqRQbqpI74VQqGm0PkMD4YYz420T/jiPGFPtEd/QnhGJMe3tfomucK/c/zA/3Mnj07RwYyV1Ee17EGwDOn0JzgY8117uOd8tBvPIdQP+QT6wueUz4H0MeODeaj9BzguqRtYMbnBv9e7w3xJn1IH8KAMCAMCAOtxUCPI3JYwLCAxajGgCP84sgjjwzf//73bReMnUsWKSyW//CHPxgpwQKptYpu6/tZ3LHwZoeNBWip5bOYZAeYBRoL7FLvK+U6yjzttNPMwPCFfin3tcc1Hd1/xepjt5nEuux6s8OJMcRnSEQnD4vpAWPn1FNPNSMmnyFS7P6e8juGPDlyOHocPTelXwwoz5HDbnhT17r+nGhg7BGyxO65v8hBgbFKOS0lchifGFfs3GNUYbDxoly+JwQDUgWjjdw3hHu4bPne8xE5GNjgEGMSUggSm/GLPjAYMeD5HkOUNkFYOSlCHWmDFvxDLOAVhPGJMc71GNXU4yRNLB+/0T+QDxAM/pvrN922UvSC0QnhAZmMjtJlMmdSl9fhn/26tK7Sn0vRGwRDrB8ICS8//V5Km9Al+iNsDVINfUEGQOh62U7QxIQgdSELusAwh4jx6yB26F+uoU3MQ5TJaVLozTHHnEP/g2Vwhm4ZJzwnuZ++5YU+eZ7wPzJAGCAv+uM3sMA781aaVKB9hBPRF9SBPK4ncEVZEBnIBAEEgQoJ7phK92UpMsR1xHUVw3Dcr9Tr98Zjne9josrlpE7IRfSJlxrPSMZwGoPoESKV6yD+IYfzYdrLY06g/9BPoTkhrXNkAjuQM2CKdnmfQ9YwjvmefoaQKWUOcF2AMe5lnnJSzn/Tu4wWYUAYEAaEAWGg7TDQ44gcFk+4Mv/xj3+0BQqLGV4sYE888UTbvWThBNkTEzksmlj85FsAAshiv7cVaF2GYkSOX5eul4U57WRxn4+g4j5e6fua+ux1NUXktKd+8sncFLFSqizerkJtj8tpqj7uj4kcFuoYOBidGNL5ys9Xd3OInFi2fOV35+8Yvz/4wQ/CvvvuG37zm9/kvBbSbYa8OOOMMywM67DDDrPd7vQ1+T674egGGXOFv/BCwHhB/7FxhyGVJgUo2w3r2ADnPkIyKB8vAzxzeGHAQ0BD8DDW8hmB+eTNVy/X0Q5IYOqmbAxmvDcIMeM77stnkHJv2qBlDmWHHqOSF14ZboRiWKOPtGyux7QhW+j7UvSCXBj6sT69rbG+CtWR1lX6s5fVlN7SRA51pdvun0tpk3ueuMfFP//5T8t7BM69nHw44jc34NExXhsQJWn9+DV4uvCb4413vD34HtIIXOPBgZEO2Yc+IWsgiGgjfcyLMYD3Dd6i5GeCCGB+pB3MfV6fe4cwDrnOw8S8Tby7/iEcaG8+PKb7shQZ4jr8/1IwnMa93xuPdeTJJyfXon/0h+cR7Y4x6WXxjmcc+kHf6C7dZ34t5XFdTO6mxxPXpnXO88V1S/9Cmsb9DqnHOIY89rA+MM99XnchXRTCot+n97ZbwEuX0qUwIAwIAz0bAz2OyGFh8qtf/cp2KH2BzCBgocNCEkOJXVJ2oiByMKQw0shvgHs4i1RftHIfCxvIIXYI8bbAeMFNHeOF31l8s9B1447v2IlmsYN3jC+MIGa4jrJY7HJd/KI8fmfHnBeLOxZahH+5Rw5lsauG7Cyw2f1joYe8tA+5aOMxxxxjhiK6QD7uQxeUyX3svrPoh2TIZ4C5XLQJ3XA9ZbH4hCBjV5N2cF1T+qFsdnVxyUcOr4ty0zqjDXzH9cjF/yyEaR/t5MV3rnfaEhNxyIKXBPewAKWvkBeDGN14m5rSocvHO3qmz2k77yy4Oeq6EEGWJnLidlMni2r0gHzoFKwhH7ujjoc0kYMc3IcHBOVRDu2nn8EhfYlsyOpleDu7+zvG0sEHHxwOOOCA8Je//MX0iW7BFjpDx2eddZZ57ey///4WsoauS9ELWCxkgMX3x8YdGHPDKTZY8xk9btxjLONJwW58/AIblFWKDMiTr17GgudEIYwLrDBvUDf5b5zIwRMCIxIcxRjKZ8TxO2MQoxJjkpARQiyYr3xcxvpBj4TyFPLISRukpeiFNtD3hMQyJry+dJ+lP/t1aV2lP5eiN+bSfPrxOuL3UtoEwcA9zHt4SuAFhgcLc5fPSflwxD3gDkOcORnMM1+mSQHaRJ9h0PNMibHG/x4SRR8yx0CoQNrxG2QNL9rBHE6dyISszI1gnTIp23M48ayLiQ7GHc/ZeFy4jviNMQDW8U6L70MWrsvXl8Vk8Hu9Hn8vhuFC/Ur7IT94DiFPPjmpg7ka/RcjXlhvoDfKpd8ga2IvKpfXyytG7oKDtEw8o9E7ax7wke53vOUo3+9jDoj1VkgXYBF5kYn51mXVe8M1nfQhfQgDwoAwIAy0FgM9jsghfptdeowVFrWxccKiHQIAggWDAMP8H//4h+1Q/+QnPwnf/OY3jQRihxEyhkWNL6B/+tOfWpgWoVrs8uPqzDUs7DAkMYz4TIexwD3ppJMsD4YvdFisETbDYpZFcNyxLLQhCiBJyPvxve99z8JykA9jFCKHhStEAAuyX/ziFxYuxrW0FW8jjHsMq29/+9vhYx/7WMADgTAoFmMslnGXP/HEE63s7373u+G4444zY8jli+Xhf2QkPp92Uybv7BQfffTRtohjkVhMPyx4WdCeeeaZFsJBO2kHC0Dk5t0NQNqPvFyP/mk7yUsJTyJE7utf/3r485//bEYj5aSJHPoZPWFQkASXNh511FHWtxAmLHSL6RB5aTv6Qs+UQ9shBiHUfvzjH5dM5MTEDuVitCI/nhi//e1vDUv0H8Y8/YpsMZGDMQQxwe8k66WP6Stwhz4JFeR+ZEJW+j9ehKf7s7t9ZqyBDcKrXvva14ZPfepTpheIBTxOPvvZz9qR4wceeGD40Ic+ZGMWYsP7uCl9cE0pJEps3DWHyGHOwIijvx3/Lg99CBZKlYH70mQE3zHHYaBD4sSeHbGhzzWEgCALMtEGl4N5A48hxiJEA+QFeETvyIecGIF4dGAggmG/198pD5IBQ51r/ftCbStFL95Wz+njZSKjh+8wZ1MHJFI6fIv7kddJBS/PP5eit+YQOaW0iTYwp0G2QQJgJOM5hZeMkyf+HEoTWD5P4/HCHODXxR5LzI3MH5TLXEhdrjfvS96piz520p3vCMMCQ8jFnAtemR/Rkz9b0T05bXj+MD8hk5MDzMkQbvQXpAJEIOV6/WycIBfzPoR0fJ/PZ2m8gKtiMviz2OuhzlIw7KFw6MsJNspgnKSJHHQSE6DUAcHOeIpDq8Ag/eKy0C7GFddB6HjOGs9R49d5ecxpzDXop9C8hE7SuuN5Aa6ZB/wZ42Ujg78Ir6QtyF5oDqAP/F76jHEPPuPv/Xe9y3ARBoQBYUAYEAbaBgM9jshh8cLC52c/+5mRORhvLHBZnPrCEHCxKOVYYogJdsJYwGK8/O53v7MdURacLFZZnGJ4s1CFvGCh99e//jWcfvrpdj0LJAxrFjYYBSyEWDhBAJBjwxeuxMRzghcLsnghjSwYOZTHC3kph+uRD3KHxTDlYqhAIvkpH3jV8BmCBaKIRRU7qccff7wZTyzCuY+TSCCbWChSNgtHCA++Y/EW6wV5+OzlQIixcGN3GIPs8MMPtwUtuihFPyx0IbBYyLPAZ3HMghhihoUs8lAfv5PoF88fjAFIlF/+8pe24OUavjvhhBNswUndaSKHfjj77LNNh5BCLHoxjCCM6Ad0XEyH6BMCBT2jQzwJwA7GL3qAxCvVIycfkQPxQhvRCYYIOIHww4ihXidy8JLA+Ib8AY8s0Olb+g2yi76jvymDhTr4xHDraYtq8IcuIHHe8Y53hP3228+SGhNy9Za3vCV84AMfsPEBoffmN7/ZyE3GDrpu6gGDHgsZTPF9pRA5jH8MVbwVHOtgCmzRd2ALeZgTaA/heLwzX5UiA/IwHjCSMbgZB4wn8A++eHkdlIm3j3vkYNi6UQZBwBhHFq7DSOM6DE7mVAxbxitji99dXmSkbtoU64b/MfS5Hw8a5k03/AvpF9mL6YV7IYApEyOYz8hM/RA0zMMYzYx1xg0GKtdBQPBy7wfGMfMjfRKH/aD7UvRWyFshrYNS2oRewAnzK3IxtzF/0BbmCnTtBA2yeftoN7+Dr3Sy45jIQSa/zvsZ/fCi/eCDPgYbkHfM/ZAv1Mt8jb4hI9Adc5D3ETr3ctAxuobAoKyYVOAaJwuYx/mdsnln7nMSgbri+/y5lMYLOC0mQ5rIob5SMIwuwBbjlfkV2Rkn6JPxADGHPMgJ2cYcwHON8tEZ/UZ74mTHPO94znIf17HWoJ9pA88lZKU8CHnHNNcxrp2MBBNNzQlcjy5Z+4BNsIHsrCMYt7HeqY++oy99TLiXW6E5ANkd23jgcT0bVtTj3+u9bRbt0qP0KAwIA8KAMOAY6HFEDg1ncYoRfOyxx5pXBkQCCycIERaL7HSxMMLTgsWyu+izqOE+D2eCCMAzBIOLxRplcy/GDAQBBj+LLRY1nOZEmdSNcQkBAzFDGSyCWLSRMJVrvHO8PBbhv//9742g8YVRWhYWZZA8vFhg0g4WwhhvkDl8j0EAGXBilCOH79iFZSHNIo37WBCycIQkwLCl7FgmfkdWCCI8l2gzv3M/5A8LTtpdin5YMJKzCAMBcoKFK8TKySefnEvkTDs4AYRFKNfQBvROHg5fQKJ/PHQg1igTPXpoFfez848OIUHQHfJiCPC9t5N2FdMhi1uIOdqPEeZ6wYihfHBEOf69v8fEDTqPP9MGcEW5MXGWLpN247WDcYzhhA4wIOgz6sHoxjsHww05WbzTdoxl+th15TL1lHcMCsYc5OmnP/1pIwnRE5jHaMFQ/+hHP2qeOxCE6NnHWT4docdSSJRSiByMNuqnP6mXsQs+Maww8Bi/GNAYXxhtjC0wAqFQigzIDwYgaRk/GKuMITBKng6MTX6jDg+jwmMJfFIH+mEO8OswVLkP2ZgHwRb6wMClHcgHyQPhSnnUiQHpc2han8y53IOuqIvfC+kXPBfTC/3GOGA+ZRwgC/2PxyHzDHMxRAdzFmMCI5bcILQf/UM6cR3jOB+RQ/ml6K1UIqeUNvHMoD/cCGc+Zp4EM2CAeRf9QxAgO/0JRph/mVfQQ5rwSRM56N7bRZncD2mAHiiDfgI3EOrojGsh39AvOqVO9AV2IXrAB3ilHDADwYS8PC+oK03IgHvqpQ1sLKA/ruG5wPOP5wntTt+XDy/0UTEZmIPTWCwFw4wlQo4YD+AbDPEM4TPP+JjIIQQOXTFGGA+0gzA0dA+R6jiHvEc3YJt2oweuY6z6ugLZPGcROuc65EDPfp2XR3+B8bh9tBcSDQ9O5ODZwnMD7LB+oRzGOX3KWEQe+o8+LTQHgEdk9zmA+sAz5SADz2An22JZ9L8MEGFAGBAGhAFhoG0w0COJHMDDQp7FI4sOPGEIV4K4YRHJAicmAtwwZ4HIAgWigYUtu3KQMSzA4oWhExosdKiDhdY555xjhgK7VZ7jgLAtFugsujCK2DFmwRqD2+vkWhaDTpr49y4L97CQw4ihPha8LDSpC9KoEJHDfZTFji8LOIwuXiygIXzQT5rIoX14fnj7XF7/3omcUvTDQhEjADlpHwtwFrEYDOiEtrDoJEyGhSV9gcGVPr2J71lI5yNy0CkL07QOkZuyIURYJLNIL6ZD+h2SDqOV673t+fDiv/EeEzeFiJy4L7knXSbtRlYII0gJwrDQn9eDcYDu8MBxIxbDCYM8xqdfr/dkEsVQgSgkpw5hWMXIHIxVDFnwDeYL6RFDGCMJzGDgQGZgRDEu6Svu43uIX/DJeMIQRB7GHAQEcwJGFgYY5ARl8nupMlAHxhSGHyQFZUFgYSDiSYAsYIXymdsYbxiSsYzxddyPHBBM4M+NOOYlyAXuxXilPNpDOYw/n7fSukIPkCx4gvjc11TbiunF2wtxAXmAvMgDqY486NmNXPSILiDrXV6MbNpA/yJbvj6L9VFIb3jvUaf3Z7rd8edibaIsCBX6xuccJ4DoB7w7mPchQZiXmDvjPoVsQKfUCV6Zbx0DsRw89/geHdEudIcOmUOQkT5kvqGvqItreE4wDiB53GhPl8N1yEWf8Kxx2ZEDgsLvo/959rjs1MHzx/FT6L58eCkmQ9xu/78UDPs19C1tR0c8O/BK4jvGOrhyEgos+Rh2UgrylnKceAGXXMe4Qld8Zh3CvB3LBjnP5oWPL56z7uHEdfn04PfzTt9D/iAH9fE5X59SPvMUfc3v3Btj3ucA+ob5Lca4j2ee1ax94vr1f9ss2qVH6VEYEAaEAWHAMdCjiBwWJRj8LJBYULoSWEiyAIPwgKBgwYmB7x4d+YgcFs8sVvCiwBCLDWUWSJSD1waLLwwcctmwcGVBy0KVxTE7mW484d3CwsgX3C6bEzaQGsiV/t6Nfxa57NRh5BOOg5s3i3Dkw+OkEJFD2zEOuY7QJMgQDD68W8iT0xSRg/xufCGXt5sFJrvIpeqHhSBEF4thFpksjNE/xjULRRbFyMMOM3puCZGDTHga0M+uQ94hS2gni2cW2MV0yP3oGAPKd0u9nDRe4nraisghH9Chhx4avvzlLxuZxY43fe91YXhiWOFxwslN5Eui7RivMUb9er0nDwOMr+aQOW2pN+Ylxjlj341aL5/PyMYr/ZtfU+o7OKGcGAdeN0Zl/L2Xye8YxS4fMnIdYxaDL/ak4Z64POrjs5eV752yKMMN/Xwy5LuvKb0gK+3hnfZCQjAuIEOoJ/ako2zXSynyuixxO0uV2e8t9N5Umwrd498zviE+IKJoq+ugJbJxD/rLh0evD11xjRM8/n38Xko58fX+f0v6w+9Nv7dEhrhvC2HC+yqfjtBJ7DnEZ8djPB74DkKFNQD9V4pOY9la2rc+JmJZ0Fux+r3ufG3mfn7HowfiSmFVMjLSY1GfhQlhQBgQBtoeAz2KyGHhg6FOrgEM8nghxMKMRRVGOrvMkCZpw5zFceyRw2INjxx2SlmsOUBZlGFIs7PJDhW7qIR2cDoE+XMgONjhoh6MRwgffos9brwsyoXYgGjBeEJOfkMWyofgoS2QEHitsEseGyrs4PF9ISIHIw0vFkgOyCVf3GFcEcaTj8hhpw1iCrJEIQB4AAAgAElEQVQIosplZVc2Dq0qVT8QQBA56Ih2sisLeYae2KGErGIXEEKMuppL5EDcoUM8ryA+XIeUxW41RBe7qZRfTIcQP1wPOULfetshnsAOxqITf/4b721F5JCbh7rBDvgEP76rDc7QJQYCbaTdkIckPGZxDeZimfR/wwkVAycmc9BbvjHZk/SG0YbHIZ6EYAvilvmFuZL5h/EQj6eW6IYyGX+QEMwtPge1pCzuYRwzfyEbhDIvDEuIDjyE3KulpeV3xftiIkfjvOG47uj+ShM5hcZHmsjpaDnbuj6eh6w32JCJN3jauh6V17n4lv6lf2FAGBAGug4GehSRg4GAyzIGMO78kB8sutiJwujFQIaYIV8C5EgxIsfJHnamMW58RwuDBGOfBY3vgENKkGCZ050gk6iXeyAw8LLAEwUiJN/gwN2d8pCZBRL3IjvkD+QEshIaRcgPpJAnmeRaPE0glZzIwavlxBNPNGKDnVuugcRxbxXKxhDAPR/PnnxEDsYdRhxeR7h2+24jpAgJiKmTckvVD+Xh3UNIC2QIRiOLX3b3IFY4gQnvIvoI/TSXyIFYQU73pMGwo69oJ95HkE8YqySSLaZD2oXXEmFaeDIhO31Mn9L29iZyPKSMejFKCbXCO4hFNIQipBfhabQZohKjlv7HC4x258OXvts7ITuZ88EPfjAccsghFmIAVnqqjiB6wRMkCCFIjBfmO4hVMB97pbVUR8zLkC6MHbwbmU9aUxZhRowJ5ITAZK4ihwlkrpOeLS2/q97Hs4QNiu5KVHVVveeTi/mCdQbYa4roZK6B4OfZRv/lK6tcvmNjifnAN0QKkVfl0h7JufeZKF1IF8KAMCAMdF0M9CgiByBizJJHhGS6kAec2gBRgqcNITYYLJAkLMCKETksxFiEYUxDAlEOMegQBnirQKg4+NnZh8jBEKdsvud+6vPTjgoZRRjpeNpQLsYIBjsGFSdq+alV3AuBAhHBgh7ji5j7Y445xsgjdqhZYHq78OThO/RB+BKkDfezAMWgOvHEE+2IbsgoSANvh7/THggQPHPImUB9eNR85StfMVIKwqM5+qFNEDaEUDmhBXEDMQHBg4HCYpH6W0LkQFrh3eM6pK8w9sABfY8eStEhRJcTayR6xHsI2SB2OHWqo4gc5ICsQXbaBOEG8QURSXJr+oT+JZSEnDkYDBjl3n96Lzwp+7hEh4XGZE/SH4Qgcxl5Y8A3nnYQImCwrfSA4YdXG2ObuaO15dJvEMIQ6BiXkPMQt6319mmtXO11P22DpEeH+ebr9qpX5TaeRxgvPGfBXFMeZjyPmbPxtKX/ylmXrFF4LrIZEns6l3ObJHtjbEsn0okwIAwIA10LAz2OyAGALJrII4KBy9HDECkc5c0Omif4w8MF7xYMdd8hxnDBIGZnGkOGsjAYMBZ+/etfhyOPPNKIE3aCuT/elcI4gUggJME9SzAqMFzY3cabpakFEDt2hEBBzJD7hOTA3BfLEl9DuzjBBDIHMgSPE+THmMezB9KKMCYIGUgMrkMHtIHwLwgqvIUw2rz98eClbRgOEAfUBUkFKUVd6NYXpqXqB31BBEEcOeGAPjgRBMKNhJ9uhJG4FV2we+/eEhjf9B/kDH2Yr/9oJyQXeWPoc2SGEIO487JL0SF6xKjFSwp90ffs+kPsQKjk0xehUOACfaO7+DOGVxpX6Drdhnztpq2EA1E/YW7kbkIOSD7aSCgW4VWOubgP9X/Xmox7en8wBv3V03Wh9mtslhMGNG6F13LCq2QVXoUBYaC7YKBHEjneeRjUGN14Njgh4L81991JErxGnBRobhnFrqdcCAtkjkmi+L7mXAOB4LLyzmfKbopQiuvif67lnmLt7gj9pGUr9BlZ6HPevf3xtaXokOu9TYXKicvsyP9d/rbAdUfKrbr0YBUGhAFhQBgQBoQBYUAYEAaEAWGgOAY6lcghD8vZZ59t3gl4QrT0hTeJHy2tTi/e6dKRdCQMCAPCgDAgDAgDwoAwIAwIA8KAMCAMlCcGOpXIIa8KCXshc0ja29IXJA5hRsRnC4jlCUT1m/pNGBAGhAFhQBgQBoQBYUAYEAaEAWFAGCiOgU4lckgESA4a8ryQaLelL3KjkFjQc6uo44t3vHQkHXUnDJCDqqUefbqv5d6Q0p10JwwIA8KAMCAMCAPCgDAgDHQ8BjqVyOlOhqTaImJEGOg8DJCUe9iwYXpJB8KAMCAMCAPCgDAgDAgDwoAw0O0xICJnT+cZnzL8pXthQBgQBoQBYUAYEAaEAWFAGBAGhAFhQBhoDgZE5IjIUV4hYUAYEAaEAWFAGBAGhAFhQBgQBoQBYUAYKBMMiMgpk45qDjuna8XmCgPCgDAgDAgDwoAwIAwIA8KAMCAMCAPdEwMickTkiHUVBoQBYUAYEAaEAWFAGBAGhAFhQBgQBoSBMsGAiJwy6Sgxqd2TSVW/ql+FAWFAGBAGhAFhQBgQBoQBYUAYEAaagwEROSJyxLoKA8KAMCAMCAPCgDAgDAgDwoAwIAwIA8JAmWBARE6ZdFRz2DldKzZXGBAGhAFhQBgQBoQBYUAYEAaEAWFAGOieGBCRIyJHrKswIAwIA8KAMCAMCAPCgDAgDAgDwoAwIAyUCQZE5JRJR4lJ7Z5MqvpV/SoMCAPCgDAgDAgDwoAwIAwIA8KAMNAcDHQqkfPyyy+HLVu2hHXr1oW1a9e2+LV+/fqwbdu2sGvXLjGIIqaEAWFAGBAGhAFhQBgQBoQBYUAYEAaEAWGg22KgU4mcZcuWhZEjR4Zzzz03/P3vf2/xq2/fvmH8+PHhmWee6bYd1Rx2TteKzRUGhAFhQBgQBoQBYUAYEAaEAWFAGBAGuicGOpXIufPOO1tN4jgBBJnzxBNPiMgR6yoMCAPCgDAgDAgDwoAwIAwIA8KAMCAMCAPdFgOdSuTccMMNLfbCwYund+/e4ZxzzsmVsWjRom7bUZ3BpBKutmHDhvDCCy+YXnfv3h1effXVwHtHy9MRddO2zZs3h6effjoQ9tfRbezo+l555RXrX8IbPSyxs/q3o9uu+rrnzoT6Vf0qDAgDwoAwIAwIA8KAMNATMFCWRA4kznXXXRfuvffecMkll+TInFKIHAxVyIk1a9aEF198sdsb66WCGL1gzMckzf333x8GDBgQHn74YfsNvT3++OPh2WefbXBdqXW09Dpk6oi6d+zYEUaMGBGuuOIKy9vUUnmbuo+2pPXc1PXt+RukVf/+/QOEKn3KeKB/n3rqqbBz506NDe1gCAPCgDAgDAgDwoAwIAwIA8KAMNAFMVB2RI6TOOTDqa+vDwsXLgxDhw4N//jHP0IpRM727dvNeD3zzDMVipUFJCQOyaYJTXvuuedyJA2hb3/729/CnDlzwksvvRTGjh1rn2fOnBnw5mhPkiEum7o6om7HxqBBg4zoi2Voq/8hTB577DEjptwLpq3Kbm45kGOnnXZauPzyyy2/1OrVqwPjYvjw4WHjxo0d1r/NlVvXa5dFGBAGhAFhQBgQBoQBYUAYEAZ6Mga6HJHzz3/+00gZz30Tv6dJnLq6Ojut6rbbbgvnnXdemxA5pYaWcB2vQuApNRQoX32l3hvX7fJwb/x9Kf/jfXHVVVeFP//5z0baOMEQEzl8R8jRypUrw/PPP9+oDq+/qfrytdXvKyZ3U3VTZ76yi8nCPfE1aSKnlH4opd74mlmzZoUTTzzRvGCoL64/3//cG99f6Jqm9FeoHWkiB8LsySefNBLHMRDXV6ic+JrO+h/Z9JIOhAFhQBgQBoQBYUAYEAaEAWGgJ2CgSxE5//rXv8LVV18dBg8e3IjMKUbiQPi0xiOHfDBLly4N8+bNMy8fjkRftWqVkRcYuBjdeCxs2rTJQk8WLFgQePEd3ipuwGJ04y1EiAqeLIQlEcbl1/A7BjQeMJT/yCOP2P/UwYvyacfcuXOtjDh/idcRvxMOQznIwj141eD1QT1cR738Tjn+HcCGGKGNvCMryaJPOOEEIxhoE+ROmsjBWwe50QVlUH5c//z5843o8d8LtZX8M4QxQRpwD3Kje/rAZYzbyP9x3VyD3MiCvuJ+I1woHwnh5SGb10vdy5cvN2KK9vAboUYDBw40DKAXZFu8eHEDnVI/+lyyZIn9ju4JRyKXEOXkaze/U++NN94YjjnmGKvj0UcfbaBLl5H3Yvqhnq1btwZOfgOzDz30UAMZKIM+XL9+vbUFLOK9BvY8/0+ayOF7sIoOwaJjh+v4HqxS14oVK3JtjWXujP/Rg7/Qu7/AgF7SgTAgDAgDwoAwIAwIA8KAMCAMdCcMuL3TZYgcSJybbrrJvAEI3YnJnFJInNYQOXiYUPdPf/rT8O1vfzv8+Mc/NmLjl7/8pXmqQMzgSXHKKafY94Qb/fCHPwxf//rXzYsFIxrDF6VCmpBnhbKOOOIIe51xxhmBNkF6OFnwxz/+MfzpT38K3//+98M111xj5A/EACQChv53vvMdK4N8LRjRlJ02lCEOJk+ebDJ873vfs3uOPfZYI8MgabgHQ/8Pf/hDAw8Q98DBi+nmm2+2+w899NDwiU98Inz1q1/NhdakiZz0Z9rzwAMPhL/85S/hqKOOCt/97ndNR/fcc4+RDIXaCrlAfqPf//73dh86/9nPfmYkBwQNhnm6rXHdtNs9iNDXb3/7W9MzOrv44ouN4MlXBv08btw4ux59IS99fMcddxhR5PLSXxdccEH41a9+ZTqlr6+99lrrI8qFQCIc6Re/+EU48sgj7Zrf/OY3YerUqUZweDlxHxP+B45p68c+9rFw2GGHWVgTpF26b9FrMf2gp+uvv97kRwbagh7AA/WDRwgm6jz66KNNP1xHn0P2MZmliZz0Z7AD5glbpJyf/OQn4Zvf/KbphX5HTmTPp+t0/7XHZ+rlhQy0hzbzgpDiBc71kg6EAWFAGBAGhAFhQBgQBoQBYaC7YMBtnS5D5Fx22WVG4oQQQlVVlREfkDkYniQ29pw46XCqOPSqJR45GIEYv8cff7yRR3gbYNCOHDkyHH744ZZ/x4mcH/3oR2Y4Y8RiSEPO4MUCccM1eMKQXwWDesKECfYd+VD++te/htNPP908bfA6wevjG9/4RujTp0948MEHzWsCLxg+YzDj9UD5ECInnXSSkTDcFxvDyA25BNkAmYFnCZ4UEDO0ZcyYMUZOFCNy0Bly0waIlSlTppiHCuXH5AmGcvwZgxmPFsgocqoQcgVBM2zYMPsO2fCiyddWPDt+97vfWZ20G31TP8TH9OnTcx4jcXvjup3Igbjh5DI8Z2g7bUZf9913nxnw8f3ez7/+9a+NhIFwQ15whyyQMOgBeSmXJNrepiFDhhgZ5rmC0DFkD31MG9E9nwkL5H8ncuI+hvzBg8axBr7IQ4MeYzn5Hw+gpvSDtw4yQLLg4UM78PZBdnAGsUjZ/fr1M0zh+QOJBW4hrvB6o61p4ib9Gez8/Oc/NyJo/PjxOW8xZKNs+g6cIk+6De39OU3gOHEDuQQ+eCGXXtKBMCAMCAPCgDAgDAgDwoAwIAx0Bwy4nYPN02WInIsuusiSwFZWVsLlGJkDGYAHRSkkTks9cjC68b44++yzzVPBvQswavE08USw7pFz++23m5GIoYpxTEiSJ8clDMeNa37jGsqbPXt2wGMD4xsDG4MbggrSyK+ZOHGiESkQFrQXuTDQue788883T5/YOOZ3CByOX8fDwuWG8KE9eFHwPWFHTXnkcA3spHu4QFZA2lBXTJ6kiRzqwfsFveH5QXuRCRIBHUC+ocN0WykXogoCCC8o2krZEAKQSC5P3Na0LE7kkJiX0DVIGq6hrZBRnMKELHEZfEYvyANB47+h4wsvvNC8cgrJC2FH/iCIG8pBR7wgj5gQ0AXthczhewibfO2mTnBULEdOMf1AoNB2SLM4KTHtByuTJk2ysDnIKUgh5EFuvLTABe3FyytN3KQ/Q+RAFOIVBmGF/IRbgRU86Ogr2gtJ5frsiHewzgvcQISBX2emkY+JTS/pQBgQBoQBYUAYEAaEAWFAGBAGuisGugyRAxGTJnNqampCbW2tnU7VlCeOe+W0xCPHjVe8LmKj2L+PiZxTTz3VjHmMRgxWjGMMdogcjGtCdPCIwPB3MoTrKAtSCM8VcqX4PRjT/E55o0aNMu8ejvsmjAfvEkKu8H7AowejOTaSvUw8RyAU/DcMXMgmlwNvlfYgciAFIC4gqPCmQV5e/P+DH/zA2opO0m1FTr7H8wgPHNoIuYEnC4SIkzLeHn+PSSUncjxMyK/J533kv3l/4oEDeeTfUx/lQQBARuWTF/m87yENuB4SDqKEECiOacdDhfbERI4TfF4X76UQOcX0QzshrAitcsKQssEcsiEj7cLrhjGBfMiJDk8++WQ7Ur5UIqcYdigzjc24vW39v5M4tM9JHNqMF5/+pAFpQBqQBqQBaUAakAakAWlAGugJGuhSRI6TOeSKgcSJ//B84AhqjHcnbtLvLSFyIG8gPdIGvhv+pRI5hOpwehaeEnjgpIkcjnnGIwSviTRZ4B4xhPSQg4R8M/ELkgACKDaKIVLwEknLzTUQSnjF4JmBR0YxY9zrL3ZqVUym4IVBm8ipQ36WWF7+xysGGdNtRT6McfSOFwvEAtfjpUKYEMmL85E5cd0Y7niFtITI8f6Mden/x8Sck2z8FhM54JBwOIgUwrgI/4PAot8h3dqCyCmmH8ZHIc8jbwukGCQZYXaOE8K5jjvuOOuTcidyGF8QoBBw9Jt78sVzhv6XBqQBaUAakAakAWlAGpAGpAFpoDtqoMsROZAzGJx4JTiZg9FGbhG8VdLkTfy5JUQOIT2EB+ENBPHghnBziRwMY7weIIXw1HCvHcqD5CGU6Morr7SQljS5wbV44SBHHCrEve6B4HL5O144Z511luXwQVb/Hl1BovAbITp4S2D0Q5q494YTN06E+OfmEDnUSdJnkvjG9bvMvOcjRmgPniIQORjhkDb8T/gOCaIhbHB/8/b4e2uJHNcXHkzU5+Xi1cFnQocgP9J9w3UxkQOBRbsJa4tDivCC4vvWEjml6Adyzr2ZCJvytqBP+oJ2IAdkHuF89APX0P+Qgu4pxLWQcU5upT/n83ByrDh28PbBm8plaO939ANmwDmyQOrRXhE53fHxpDZJA9KANCANSAPSgDQgDUgD0kA+DXRJIicmczDqSyFxuKclRA7GLwQLBi2Jdj00hSTF/5+9Nw+O4krXPu83dyYmYiJm4ouJmBsd30zEjZgbceePvnFv3+7bi9u9ONzdtjFu433fbWwweGM1+w5m38HsIFZjNoPZQewCsQuBkJBA+4oEEiCBJMQz8Rz1UWdWlaQqIVVWlp6KKKoyK/PkyV8eKuv89J73MDHuzJkzzVAcZ2feSppAUWGHMVEWsJNPScDyNm7caKI1mLyYw3oCZQE7p4zyYOecwoXSgfuybpRAFEzstDo7yfyMUSms9969e81xWC9uz/wljP5hFA/zwTBShMO6KCy4DaNemCfF5tHhOg7tomzav3+/ORbr5JQn7Dg7l3nuFAAUVzw+I1W4DTvVHHbE8wwlRnhejBiiUKBo4nlwPyZApnighLLCyXm+zmO3JSLHXmfKMuYyIk+eN0UX68JrRD6B14Z1cF57SgsOJyNfyjuWwXMlX/JrTeTw2Iw+orijPCJn53mGw4fHZT2Zn4ltjnXg+bBsJsymSNy0aZNpv4wS43Xg+TMajLKOQrS9InJsomnnOXTke6fI4TmxHZJjTU1NqO83rRMBERABERABERABERABERCBuCMQsyLHyhx27FuLxLFROW0ROex0clYf5rBhFAuTK1McsXP/6KOPumatsnlS2HHmfoEih9KJw2woJCg5KDg4HIwRMRyCw85z4D6201tQUGC24VAjzipEqUTxQ9liZziy29pXSgjWm8N6OKsQO/A8DsUNkyezPuzkUtrYoTjchgKI055zyBXLYISDlU0cqsV13NcpTwJFDpfJjWKAMolyhhKIeVuY04eRGox2CiVGmBCZx2aeHM4wxXOl/CJfzqwUKK14vs66tEXksAzWl3XlTFdMXEwWbFtkzEgom6TYRqxYzk6Rw+tEaUOZw+vCtsLrxSnjGVFEBs2Vw/JslAtlG7cNJXNa40OBQWZkz7oySTR58zx4PpRNlGlsG2TKa8PPeS04Exu3o+QLjMAJXLZ15f9BtlvWn9fGOayNAs/+f7C8OvLVihwrOlkvRnjxmHqIgAiIgAiIgAiIgAiIgAiIQGcgENMixwqacF/DETkUFIw+4Yw/Nu8MRQajGRhdwnwtL7/8sol2YMfc5qBh2ew0M/8NO5HsONqyGEVjh+swmoRREIzmefrpp00Hn5KCQ8V4nFD72I4vxQflwOuvv44uXbo07UsBFBi5wX24jsNsKCaee+45czwKEgoKyg67DaMmKA66detmzo8deYoqJia2DFg/dvS5DdfzfChVWHcKENY9cDnw+KwzZzmiVGIUSHPnSglE3hyKxMTI5GTlkxUGlol9dR6bIoNih8OxbP25Hc+BkTKUQ/b87f585TnwOlIgOVkkJyeba9pcfQOvPaOt2BYob9heGAVDmcPhRkx0zXNnG3O2C1sPig/KLuaqoYCzbO3nfA2HD9sgRRBlTdeuXQ1HnjsFDs+Tz8A2zegyDiFk22ekFiOJuEzZSPkUuByKJ6VNKPbO+nfke6fI4fXi/zfWm8fUQwREQAREQAREQAREQAREQAQ6A4FOJ3JCdTIpBtiRZceQAoBRB4xK6d69u+mg27/4h9q3uXXs8LLTzrJCSZjm9uN67kuhEe6+LN/WnRIgVNns2PPc+OT7UNtwX37O40dSZ3t81tlKrlDlB65z1qm5egfu0x7LzuM2x6K149hzbolnc2XYfdnuWuLsrGdzfLie7ay5suw1DbctNVfn5taz/i2dQ3P7tXU9j0UubGcSOZ3hFqVzFAEREAEREAEREAEREAERCCTgqchJSEgwCX7DjbhpaTtGmTC6oS0dROYO4YxJzFPD94xg4dAo5jxhdAs7wW0pV/tUi1t1fDOgQGpOMnVE+w8lchjJxmPpIQIiIAIiIAIiIAIiIAIiIAKdgYCnIscmMWYC2pYkTWufUeJw9iQOF4m088iOIYeQcBYiTtXM56uvvorXXnvNzPjDHCaRlqnt41te6Pr+/fpSckrkdIZbhc5RBERABERABERABERABEQgVgh4KnI4OxPzmTDXCRPItvXJfCScAYlDTNrayeZQDeZbsUlw7axTbS1P+/29sy8WYtFebUARObFy61A9REAEREAEREAEREAEREAEvCLgqchpr86dypEoUBvoHG1AIserW4WOKwIiIAIiIAIiIAIiIAIiECsEJHLiPIeJBEfnEByd5TpL5MTKrUP1EAEREAEREAEREAEREAER8IqARI5ETpuHo3UWeaDzjB0ZJpHj1a1CxxUBERABERABERABERABEYgVAhI5EjkSOWoDvmkDEjmxcutQPURABERABERABERABERABLwiIJGjTrxvOvGKjImdyBivroVEjle3Ch1XBERABERABERABERABEQgVghI5EjkSOSoDfimDUjkxMqtQ/UQAREQAREQAREQAREQARHwioBEjjrxvunEexUFouPGTiSQRI5XtwodVwREQAREQAREQAREQAREIFYISORI5EjkqA34pg10JpFz+/Zt5OTkoLKyEg8ePGjzPeP+/fsoLCxEUVERamtr21yOdhQBERABERABERABERABEYgNAhI56sT7phOvyJjYiYzx6lp0JpFz5MgRfPzxx9i+fftDCZhbt25h+PDhGDdunBFDsXHrUS1EQAREQAREQAREQAREQATaSkAiRyJHIkdtwDdtQCIn8q96iZzImWkPERABERABERABERABEQgk0NDQAPZHYiHKXSJHnXjfdOK9igLRcWMnEqijRQ6HMJWVleHChQs4deqUeXJIUn19vfker6urM1EtXJebm4vz58+bba5evYqamhrXdz2HRqWlpTWVE2qbu3fvIiMjI+Q2NiJnw4YNrvrwuJHcPEKJHDvcytaf51teXg6ut48bN27g4sWLTXVjPXlOdphXYN1DlWHL0qsIiIAIiIAIiIAIiIAI+JkAJU5JSQkOHjyIy5cvg7+FvXxI5EjkSOSoDfimDXSkyKHEYE6ayZMn489//jN+8Ytf4N/+7d/Qv39/I2Qoc5hrpkePHvjss8/wxRdf4E9/+hP+8z//E++88475UrcyhxJk/fr1eOaZZ8zndpt9+/Y1yRBKkZ07d6Jbt2742c9+FlQORc7bb79thkW9+uqrTfX56KOPcObMmSa51NoNJFDkUEZRMA0aNAh/+MMf8F//9V947LHHMGnSJGRmZppyWf9FixbhySefxM9//nNz7Jdffhk7duwwf4XgjWv37t1NdbdlzJkzxzCysqe1uulzERABERABERABERABEYh1Albi8Lf78uXLsW7dOly6dMlTmSORo068bzrxioyJncgYr65FR4qc0tJSDBgwAJ9++inOnTsHfmFT7FCiDB482LwvKCgwIudf//VfMXfuXNy8edP8/5k5cyZ69+6NkydPmi/0pUuX4vXXX8fmzZub/n9xG5a1a9cuE73D3DcUJYHlUBCdPXsWhw4dwu9//3uzj60Po3qeffZZjBkzBqxvOI9AkcPImp49e5pzYnl88Hhdu3bFsGHDkJeXh7Vr1+L999/H3r17QfHDJyODKGquXbuG1NRUdOnSBVOmTAGlDx+sI/PwHD161GxvVuofERABERABERABERABEfAxgUCJs2bNGqxcudJzmSORI5HT1NH0qnOu40rQhNsGOlLk7NmzB2+88YaRGDyOfVC4vPXWW9iyZQsoPhiRM2rUKOTn59tNTCTLBx98gG+//dYMg2KSYgqaioqKpm2cEubKlStGpEyYMMFVDsXRtGnTjAzZv3+/qc+qVatMFA8Lss5meOYAACAASURBVFJm5MiRRqg0Fd7CG7sPJUt2dra56fTp0wfJyclGVnFXihr+deGTTz5BYmIiFi9ebMQUzzlwyBW3p7DitrNnz0ZWVlZEQ71aqKo+EgEREAEREAEREAEREIGYIRAocWzKA0bOU+h4GZkjkSORI5GjNuCbNtCRImfhwoUmiobRNJQcNkcOv7BfeuklLFu2DOnp6ejVqxfmzZvnkjQcL8uIHM4ORfHz7rvvmu0pUezDKVQYtfLee+9h+vTpuH79ut3E9Wpz5DhnrbJlfP755yac07VDMwt2H4ocRuPMmjULAwcODNrfebwTJ04YifTv//7vGD16tIkOcubAYR4hlvfTn/7UDCvbtm2b4RVp/p5mqqzVIiACIiACIiACIiACIuApgVASh3/A5B9A+Udo/l72UuZI5KgT75tOfLhRG9oufiN8OlrkMNcL5QRfnc+//vWvoKxgDpl+/fqZcMqqqqqmm0tlZaWJsOGQJ5r51157rUWRw/wyjz/+uJEk0RQ5HMvLOn755ZctihwmU6asGT9+vMmfwxw/zBnEPDqUNcwnZIdbMccPWf3Lv/yLkVOUYJEkY26CqDciIAIiIAIiIAIiIAIiECME+FuYOXESEhKwceNGE4XO37/2EShz+AffaP4GlsiRyJHIURvwTRvoSJHDL2kmNma+GGeyXiYl5pAnyhqbI4fDn5w5aphXhsOpxo4diwMHDsAOs7L5Y/iFz2FWHNLEbZj/JlSuG94ceCyWzXJYZntG5PCvCExi3LdvX9d58nw5tIzHYw6fwJsQb1TM8fPII49gwYIFcEosezPj/r/73e9MImjm0dFDBERABERABERABERABPxKgLO7cvIS/hbn73OnxLHnZGUO/5DL3+7O3/52m456lchRJ943nXhF2sRvpE2417YjRc7p06fNsCkmL+OXMOUGv7CZJ4bDqZizhl/idtYqJvy1kSkUM5Q3/LLnNkyaTFlit+F2SUlJJrnxjBkzzMxOTBRMcWRnoOLxGDHD8pcsWYKtW7e2u8hh3ShqOBvW6tWrm4QMz5eCibNxkUNxcbE5D+d040xmzOTMrDfFFXP+OPPnWFFFWcUcQHqIgAiIgAiIgAiIgAiIgF8JsH9y8eJFM+U4h1k19wh3u+b2b+t6iRyJHIkctQHftIGOFDn8Ep4/f74RKZQcHCLEcErKDSb1pdyw049zNikKGea64TacBWrEiBFNCYgpfT788EMzFImSh88hQ4aY3DTMNcObAcUIh2BR5nB2KIoeDl3izFHc5uDBgx0ichgmSmlDOcVZtZgLiOf7/PPPg3mC+Pn333+Pr776yqy3+YLIgCwOHz5skh0zJxDry3NjGcwlxGFWZMjZvPQQAREQAREQAREQAREQARHoGAISOerE+6YTH27UhraL38idjhQ5/IplBI4VEjZHDmdwsmLCihxKGUaePPbYYyY/zOTJk43ocX5NU9QwobEtJ9Q2NsLHbjNo0KAmGRRqOm+2bQ5tYlRMuMOX7D5M4kwZxYddxwgbHptTpTunDQ/FIXCbwPNjOU5WThZ6LwIiIAIiIAIiIAIiIAIi0H4EJHIkciRy1AZ80wY6WuS09tVqRQ5nfmouSXFrZehzERABERABERABERABERABEXgYAhI56sT7phOvSJv4jbQJ99pK5Pz96555bThu106THurVOWX43/fUOxEQAREQAREQAREQAREQAT8T6DQih0k7+WRHMNxOo7aTOFAbiK024LXIsVNyMzO9HW7l1Q2AeXheffXVpqFbdniW89VOm852rIcIiIAIiIAIiIAIiIAIiEB8EPBU5HBoQm5ursn1wHwPgU9O9cspfx+2M02Bk5GRgcuXL5spgEOVd+vWLTNLC4/JqXVDbRNL69ihJC8ylJyKLdkQS+0k3uritciJj699nYUIiIAIiIAIiIAIiIAIiICfCXgqco4dO4aZM2dizJgxGDVqlJm9ZfDgwRg9erRZt2zZMjPF7cN2RvmXcx6HM6ykp6cbSWOn1+XwBJZfWlpqtuHUw/n5+TElciiWsrOzUVRUZKKKWF/OHDNx4kQz0w0l1MMy0v6SQX5oAxI5fr7dqO4iIAIiIAIiIAIiIAIiIALtQcBTkcNZTzjtLae85SwsXbp0MdPtcppbrtuyZQvy8vIeWlKEEjkbN240IiQlJcWUT6HDdZwGmFInljq1lDiUXZwSmJE4rBtzX3z33XcmRwYjjmKpvqqLpFBHtQGJnPb42lcZIiACIiACIiACIiACIiACfibgqchxdvaysrLMdL4rVqwIEikUMZmZmUhOTjYRKJcuXQoaUlReXm6ibY4fPw4+OZTKRts4RU5qaqoZYjVhwgR89NFHRoZQFnEIF+vAoV6MgKHMuXLliinn7Nmz5riUJ1zf3FAm7nf16lVTT0YbURKVlJQ0bc/9GFXD9fycyUnt8ciCdeAxGTXEbTgUjOXt2rULb775JkaOHImTJ0+a4WGsB5lQ7DAih3Xntjxvcjpx4oRZ5xyaxmFYTI6alJSEM2fOmM9tGc2dk/Ma6b0EjddtQCLHz7cb1V0EREAEREAEREAEREAERKA9CMS8yKGIOHjwIAYMGIA//vGP+PWvf4333nsPP/74Y5PwqaiowPbt2/Hpp5/id7/7nXn27t3b7EeZ4xQ5R48exYgRI/DTn/4UP/nJT0yZ69evN0OXBg0ahDlz5pgoIEbmfPLJJ/jss8/w4osvmuPyldtSzgR2aNnBPH/+PIYNG2bKZMJRbr927Vojb/g5pc2iRYvwyiuvmPL+8pe/4JtvvjFyxcqYzz//HO+//z5efvllsD6MTnrmmWfwT//0T/jnf/5nfPHFF2Z71m/gwIFITEw05XPbvn37mnV//vOf8cgjj6Bfv35g1BMjdshh06ZNePvtt/GrX/3K1G3IkCGmPJah4VmSNIFtOhaXJXLa42tfZYiACIiACIiACIiACIiACPiZQMyLHEbQUMqMHTsWaWlpYDLiuXPn4ssvv8ShQ4dM9AzlDKNrmAfHJkzmUCTm22E0DUWPzZHDMhiZsmTJEiM9mGuGoodyJlDkvPDCC2ZIE6NkOLyJUTyUO9wnUHzwGJQyLOP06dNGrixevNhIIxtFs3TpUvTo0cMMGWNEDSOHevbsac6HUUGMqvn444/xxhtv4IcffjC5elhXRgJRKH377bfm/HjsUCKHgmjz5s1g/h/KGUob5hli1A7rREbMq2PPh0wpxSRyJHFiUdqEqpNEjp9vN6q7CIiACIiACIiACIiACIhAexCIaZHDThsjWhh5wqFINhcMRQQjVyhKKEBmzZplkiVT+tjOH4ct9erVy+SVodiwIscmO2ZuHkbPcIgR96FYCRQ5/fv3B6f4tdKG21LkcF8O5bLH4iuFC0XP8OHDjRih+KGY4RCpwsJC857RNAsWLDDL3Ifnk5CQYI7L4VDc/quvvsLy5ctdUT9c36dPHziHnYUSOeTAqB+WzX0oiRjRw+TN5MioJidHZxn2HJ3n5Of3bDsUWGRPURfpuZCHTYjNMpxD1CItK3B7ls0hdiw/3rgHnmt7L0vktMfXvsoQAREQAREQAREQAREQARHwM4GYFjl2SBSja5jbxXYKndKFETYUMNOnTzdRM3Ybp/ygyGiLyLFDl2xn21km62CPxVd2MJmXhvLknXfewfjx47FhwwYwnw/Pg0OcGI2zbt061xToTpnC/DaBwoZlhzqucz9KAaeEsvswAodJpJk7h0KHkoliydbbWYY9R/uZ31+Zr2jHjh1GnDGiyUrAcM6L+5ITI6A4DI9RTYz0CmffcLahGGKZbAvtkcw7nGPGyzYSOX6+3ajuIiACIiACIiACIiACIiAC7UEgpkUOoyDmzZuHcePGwRltQ3FBycLPKD/Y2Z42bZqrs831jG7hdOIcjtUeIoeRQBzSxSiaQJFDEcIoHQ7R4lAq5tp57rnnTB2YO4digBFCjIxxRvNQNnz99ddmmBjL7wiRQwlBKcEp3lkX26mPZ5FDecb2QeYcgheJqGICaF7np59+2gxH4/VuT+HC68GIMl4PXnNeD9aXx6V0jKSu9lp2lleJnPb42lcZIiACIiACIiACIiACIiACfiYQ0yKHndOtW7eaJL67d+82nV1GVnDYFHPGrFmzxgxRYe4ZJu7lbEyMpuBzz549prPMJMgcYhMocrgvc+hQurBz6IzyYaedkoOdbR6fiYLZuaYQYEJlJg22M2LZDjSHyXB2KQ6Roqhhmfv27TNROCyDUTGMmqFwYoQNz4PDsRgpw9moKHpCRd6wfO5LKcW8PjwO1zklTGsROTwfcmAZFEesOxnxPLguHnPkPIzIIVvmF2K7ChR29no/zGsokcPIMsqjhQsXNg29e5hjxOu+Ejl+vt2o7iIgAiIgAiIgAiIgAiIgAu1BIOZFDju9Q4cONVE327ZtM3KEQ624jgl8KUQoQThjE4czUaZQVjAfDJc5hTc79YEih8mEmUSZeWdycnKMIHEOT2JnnhE1PA7fUyRR/DCvDo/HDqWzs0yZwsghlsGEwwcOHDCShpFDTMbM6CKuZz2Z24fyhNE5HP7EOjCSpzmRQxHD86GsYo4bJlaOVOQw8oPHZvQPz537c1YrCot4EDm8HhR2zBHEJ4cvMSl2YEQOt6NoI1N73Sm1eC0p63gdeX2YcJrRXLwm5G2vNyUYo2aYA4llOD/jNryOgTl1bLk2J45T5LB98picme35559vknrOcp3trLO/J2P+n+c1IyOKNl4PctFDBERABERABERABERABERABDoDgZgROex8T5061UTAMFLFdljZcWNnl/LmscceM1NnM4qEkS82AS23YZQOkxM/+uijZupt5oPhcCx2+rgdExQziTA70Sybw1goXdh5/v77702nnNExlCvsWFN0MCKHZXIa8V/84hf48MMPzYxV9ri2jvaViZQ5ExTr+R//8R9GBjASxp4PhdKWLVvMek5PzmnFWScO/WIZzTGw0TPdunUzMoZ5dzjj1YwZMwwHdmaddbdlcegOJRHPxzLi0K3f/va3YFmMLmLyZr+LHIoSDqVbtWqVSTjN2cN4vSneeH52aBW3o5hhJBIjoyjeOOTMzipGAcMy3n33XTOFPWf0ogxk2+I1t5FN5M7E1pwBjNeTQojtjJLnu+++M5FTbF+2XQTmxHGKHB6bx+R14ZTxlIe8bjymFUy2HL025qJyihzKO/v/pzN8YescRUAEREAEREAEREAEREAERCBmRE5rnVSKCP4Fnp1lduRCbW+3oTDh+1DbONexY88y+epcz/fOiBduwyiOUNsF7sdlHp/yprntuZ7lRdJR5/nw3CkUwjm3wHpxP4oiRoXw2HxSYDFC58iRI80yDSwnFpcpZxitRDFmc8+8//77Ruq9+uqrTSKHUUkcxvbyyy+bSCtKt5deegndu3c3DMiH0Tjc59e//jU4nTsjsJjEmrKACbVt3iPOEMZZyLp27WpkED+nVKCEoZRhcmvLyiluWAfnMkUOj8lp53/5y1/iqaeeMteEx4ykfdhjhfvKNsj6sj209mT7b+7/XLjHa6/t2PatyOH/B54DRRnL10MEREAEREAEREAEREAEREAEOgMB34ic9uoIhluOU+Q0J2TCLSsWtqOkmD9/vonQYQQO8/ZQOHDIGXPwxEId21IHXhvO/vTWW2+ZKBx27FkOz5cRV4yqYUQOZQSFCSN0du7caWQbpQCFCSNwGA3Gfbjv+vXrQRHEoXw2+oqzpjHCh7NNWXFAAUJxw9w2HObHyKhIRY5NdsyZtSiOJk+e3DRUqC08wt2HQ8AY1cVhdhs3bmz2yYgynjvlZLhld+R2VuTwulPkUJgy4qympqYzfF/rHEVABERABERABERABERABEQAEjnV1SE7qM6hS7ESjfAwHWRGd1DgcAr03/zmN2Z4FaUDk+z6+fwoJDhrGaXUmTNnmqKVKB6cs1YxaocRNMxZxKTYzHHDJ4epcR2flClkHErkUOhQ1FDiUHxxv7Nnz5ohf3b4lhU7kUTkeCVyeJ6sL5OCU04tWrQo6MkcQWRKYfIwba8993WKHF5jRpaxDbAN19bW4t69e3qKgdqA2oDagNqA2oDagNqA2oDagNpAXLcBiZxmRE57dj5jqSx2hNkxp9jh+1iqW1vq4hymZKUIywkUORzqxIgXDo1i4mjmUOKTQ7I4lIp5l+zU7KFEDiNAmIeHOXCYr4mJspkz6S9/+YvJecSoH7+JHHJiNAsTeQfKHEoc5ulhJFNbrktH7WNFTuDwKg5t45OiTU8xUBtQG1AbUBtQG1AbUBtQG1AbUBuI5zYgkdPJRE5HdbC9KpeJhilhmPuGosXWI1DkUNK89tprJgdNz549zXAoDomyzzlz5pgE2Nw/lMhhRA/z5VDeMHqF4oazkVEGMb+NX0UOz5dfcE6ZQ4ljE0BbnrHySpFjZQ7lGq8zZRNnruJ6PURABERABERABERABERABEQg3glI5EjkNMmPWOmsR1IPDqvhEDHmw3FOC88OPqcf58xclCyc+YxJjTkLFaN4nMegEHAOLwslcjg7FfPtbNiwoWmoESObnMdgXZhA2Q7zssfgUKzPPvvMyKbAZMc2iijaOXJs3ewro1l27dqFNWvWmJnQOGTJfhZrr1bk2KgcXmvWXyIn3m9XOj8REAEREAEREAEREAEREAES6DQix9n5a++OKTuUThHQ3uWrvNB5jMiFuWsSEhKMpOGwJ0aXULAwgoZROh999JERORxCxETCzBG0Y8cOk++Gw8uY94ZDiCh6KARYZksih9OasyxGgXCfoUOHmigdyiKuY0JpRvwwwsXODsacPEzGzIie5kROamqqiRiyoontiW02mtee06unp6ebBMLRPG6kxyIX5/9nijhed67TQwREQAREQAREQAREQAREQATinUCnETns3DNig9ER7TmtMzuR7ISzg25FQKQdU23fvKgJhw2HVPXr1w9vv/22mQqcMzFR2jz99NNGjlCy8DpR2PTq1QsffPCByQnDRL9LliwxsoeJkVuatYo5dhjdQzG0YsUKM3U7h1UxRw6nM2ciabarffv2mXr07dvXzATFKd6ZSPn3v/+9ycfTnMjJzMw0eXcomiiSuF17ttNwOPppm0CZI5ET77cqnZ8IiIAIiIAIiIAIiIAIiIAlELcih4lnmT+FAocdVEZocMgLO+GMwmivTivL4rAe5lhhREN7latywpc77NRzBikmLu7WrRueffZZE40ze/ZsTJo0yQgcG+HCWZgoYJ5//nl06dLFJDpmzhu2FZZD7oym4UxYBw8ebJIp3P/w4cNm5quuXbuaY1AWLVy40ETacFtGB3E6bA5Peuedd0z5lDwzZszA6NGjjTTiTFnM5zJx4kQjnbjMY3LfTZs2meFbzOVDGRXLw5tioX1amcNXiRz7la5XERABERABERABERABERCBeCcQtyJn48aNprPMKBx2OiVywhcjsdBJb0sdKFsoPyjvrJQJVQ4/4zZlZWVGoLS0beD+jOyhrGntGBQzkZZv68Vz4HECj63l0G2Y3CRy4v1WpfMTAREQAREQAREQAREQARGwBDwVOex4U7BwGElaWhpOnDhhnlzHiBquO378uJlBhxETzqEmHMbE4SjJyclmG5bBzjU70MxdMmHCBDMMhnlTGCnDzxmRwwgKRmXwWJyZJ7BcdqKZJ4TH5ZPDdliu7USzg819OEyHuU/4ylmTGP3B47BTySgdlsPzs/vpNXQnXFzEpT3aAPMW8f+eHiIgAiIgAiIgAiIgAiIgAiIQ7wQ8FTl2WFLv3r3NkJXHH38cv/71r817Dnfh1NC/+93vzJNJYClV2FmjrGHeEw5peuyxx/Doo4+afY4cOWLkDofF/PSnP8VPfvIT/PGPfzQ5Rzgr0BdffIH+/fubcrkfy3aWy2S127dvN7lQ7HFZNw6bsREYrANnJvrzn/+M3/72tyZ5LofaTJ061YgcChzObMT8K+05hKs9OrsqQ9IkXtuARE6836p0fiIgAiIgAiIgAiIgAiIgApZATIicDz/80CSJpfhgfpInnngCr7zyilnHKZ2ZO4TbcApoRuIwuTAlD+UJo3f4ZEJZTkN98eJFM/SFSWy5jnlNbPTOxx9/bHKQ7N+/HyyXwoWJb5mPhKLm6NGjJopn5syZZopqTlM9ZswYDB482ORgoejhdNOcSppTNTNqiMltn3zySYwbN86IHHYop0yZgqVLl5rleO0467wkhWKpDUjk2K90vYqACIiACIiACIiACIiACMQ7gZgQObNmzWqaMYhShjMDUYbY5MGMgvn888+xfPlyI2DWrl1romu2bt1qJA6Fy6pVq8zMRRQ3HNLEaaI53TOHUbHDyXI5BMqWwXWciYiCiOuYY4P1oAyiKLKdVDvTEWcf4lAvCqQFCxaY7bmNjSpSsmOJDdtm9Br9tiCRE++3Kp2fCIiACIiACIiACIiACIiAJRATIscpQUKJHK6zM05xxh/mo3n33XeNqJk2bRr4ZPQNp3xm3hrmsQklcmwZdsgTRQ6nrKaY4bTkHKo1ffp02JmE2CF3HvvYsWNm2NW6devA6ByJnOh32CVJxDxUG5DIsV/pehUBERABERABERABERABEYh3Ar4TOQUFBZg3b56JvmGUDIdD2efp06fNcCfm0YlU5DCqh7l1KIX43nYWGQ3ESJ6VK1eaBMmMDGICZYkcCQXbRvTqfVuQyIn3W5XOTwREQAREQAREQAREQAREwBLwnchhNA1z2jD6hgmFmf+G4oY5b3Jzc5tmmFqzZo3JbcOZqfi5M7ImVEQOBRHz2gwZMsRE9XCGLD55DMobJkFmGV9//TVmzJhh3nMIF6N3mDOH6zRrlfcdekmVznkNJHLsV7peRUAEREAEREAEREAEREAE4p2AL0UOpxIfMGCAkS7Mk8MZrChhONMVpw6nuKHs4YxTK1asMNOF2+nHuRxK5HBdSkqKEUScyYrJjHfs2GGOw2VOaU6xw2gcipv58+eDSZMZqfOnP/3JzH5FkaNZq6IrEjjUjtPQ6+kdA7Z5rwWaRE6836p0fiIgAiIgAiIgAiIgAiIgApaApyLn+vXrJt8NkxezI8bOIKNqmHCYwsW5jjNUUdpwH4oaihUOhfr973+PX/3qV2YacAodRuiwHHbsmfPm+eefB4dgUfA4y+A2LGPo0KFm9ipbLpMbc4pyTmn+yCOPYPjw4Sb5MaNvuE9ZWZlJjtylSxdzXCY/5jacAYv15VOzVkVP5nAmM15XPb1jcOHCBYkc+42qVxEQAREQAREQAREQAREQARHoYAKeihyKkYd5UugwVw2nDreixVkekx7zc74617f23pZrh22F2p6f8RnquKG217qHu9biJ34ttQEKVP6/1UMEREAEREAEREAEREAEREAE4p2Ar0VOSx07faaOv9pA52kDEjnxfqvS+YmACIiACIiACIiACIiACFgCEjkPGRUkWdB5ZIGudexea4kc+5WuVxEQAREQAREQAREQAREQgXgnIJEjkRPRsDPJjNiVGZ352kjkxPutSucnAiIgAiIgAiIgAiIgAiJgCUjkSORI5KgN+L4NSOTYr3S9ioAIiIAIiIAIiIAIiIAIxDsBiRx14n3fie/MkSg698YIKYmceL9V6fxEQAREQAREQAREQAREQAQsAYkciRyJHLUB37cBiRz7la5XERABERABERABERABERCBeCcgkaNOvO878YpKUd4eiZx4v1Xp/ERABERABERABERABERABCwBiRyJHIkctQHftwGJHPuVrlcREAEREAEREAEREAEREIF4JyCRo0687zvxishRRE5nEDkPHjzA/fv30dDQ0Kb7kt2fr3qIgAiIgAiIgAiIgAiIgAj4l4BEjkSORI7agO/bQGcQOffu3UNGRgZ4rvX19RHfdW7cuIErV67g5s2bkMyJGJ92EAEREAEREAEREAEREIGYISCRo0687zvxishRRE5nEDmFhYUYOHAg1q5di1u3bkV8Ezly5AiGDBmCpKQkE9kTcQHaQQREQAREQAREQAREQAREICYISORI5EjkqA34vg1I5LR+P5HIaZ2RthABERABERABERABERABPxCQyFEn3vedeEXkKCKno0UOhyJxSBKHNp05cwaXL182yzZfDYct5eXlITc3FxcvXsS5c+eQnZ2NmpqapmFMgWWkpqairKzMNUyKOXBKS0tNGWfPnjVDoaqqqkxeHBuRs3z5cly6dAnnz5/HhQsXgspo7sYTKHLCqQ+Hc/G8eCzW59q1a+b7wg7Nau3z5uqi9SIgAiIgAiIgAiIgAiIgAm0nIJEjkSORozbg+zbQ0SKHwmXVqlV466238Mgjj+C5555DQkKCkS6UGhs2bEDPnj3Rt29fvPDCC2ab999/HwcOHDAyh1/RLIP7vP766+bzp556ClOnTsXVq1ebkhhnZWVh8uTJ6Nq1Kx599FG8+eabpuyKigoUFBSgX79+GDx4MPr374/HH38cf/jDHzBlyhQjW6xcae52EChyWqsPpdLJkyfNsf74xz/iN7/5DXhO+/btM+2ltc+bq4fWi4AIiIAIiIAIiIAIiIAIPBwBiRx14n3fiVdEjiJyOlLk1NbWYvXq1RgwYAAOHTqE27dvY/fu3fj000+xfft23L1718iWV155BUuWLDHChtE4X3/9tXmmp6eDkSsso3fv3ti1a5fJccMol88//xyLFi3C9evXUVlZiYkTJ2LkyJEmIufOnTvYtm2bESmHDx9GTk4OevXqhY8++gjHjh0DI3X4effu3U2ZrGdLD6fIYaRQa/UpLy830uibb74xx6b4mTFjhpFPPL/WPm+pLvpMBERABERABERABERABESg7QQkciRyJHLUBnzfBjpS5BQXF+Orr77C9OnTQSnDZb5y3eLFi8FoGUbkWAFjv44pfbhNYmKiiZhhNM2yZcvMkCxuw2FZMaCnJQAAIABJREFU3333HYYPH26GSHFI1pdffomtW7caOcRtKEsYxUMJw2gdyqQ1a9Y0JTtmPT755BOzjuKnpYdT5NjonpbqwyFeI0aMMBE/HCpG2cRhVpmZmeb4rX3eWoRQS3XVZyIgAiIgAiIgAiIgAiIgAs0TkMhRJ973nXhF5CgipyNFDvPivPfee+jRo4eRObNnz8a0adPwzjvvGDHD/DgUOaNHjza5a+zXrZU9jNpJSUnBZ599hs2bNzdJGm7nlCsHDx40ETCMtuGwpcCHzZHjnLWKx+BwJwqZ1maych6LOXZaq09dXR1YJ4oiPnneHFZFCcTpzymiWvo8sP5aFgEREAEREAEREAEREAERaB8CEjkSORI5agO+bwMdKXIYgcL8N5Q3lCynT59ueubn54PCI5TIYTLjPn36YOfOnUbwMNpm06ZNTTlz+BW+f/9+DBs2DMnJyTh69CgGDRpkhm9RlPBBocMky5SVPFbg9ONtFTncr7X6cDgYj0tRxVw5jEh68cUXMWnSJFMXnndLnysip31u0ipFBERABERABERABERABAIJSOSoE+/7TrwichSR05Eih0OKKFvmzp0LRsVQUFBicGiRnVGKIoc5cSg8KF/4+Y8//mjES1JSEkpKSswwpTlz5pgyGM3CoVALFizAuHHjzOxUTHrMZMkcSkV5w+NQ3jDJMsvljFHtJXLCqQ+3YQQOpQ/z77DOFFEc3sX6kHlLn3N7PURABERABERABERABERABNqfgESORI5EjtqA79tAR4ocRsf88MMPJunwihUrQDHD2agYocM8OEwcTJHDZMezZs0yn+/Zs8dE4zCKhUORKDV27NhhRAxFDcugFOFwLQ6VohBiOcy5w6icjRs3mm2YCJk5dDjlOfPTtJfIoWhqrT6UVqzLmDFjjLA5fvy4yZczYcIEMw17a58rIqf9b9gqUQREQAREQAREQAREQARIQCJHnXjfd+IVkaOInI4UOfyi5DAj5rrhdOC//OUv8fTTT5vZphi1QmFBkcNhVJwa/JlnnjHTizNCJy0trSnfDcvgMCvm1vnVr36Fbt26mSTFTJZsH4zE4cxXLP/nP/+5mZGKw7k4MxZnjWKeGs6YxTbPB2eyGjVqlJm9isKICZNPnTrlejIfDmfEOnv2LObNm2cSK1MstVYfnhfL4zlxmnNOP85Zt1g+I3Ra+9yek15FQAREQAREQAREQAREQATal4BEjkSORI7agO/bQEeLHPu1y2FTlCiMaHE+nDlyKDkoXpobWtRcGc7yWD5FS3NlOLe17/fu3Wty2PzsZz+D88lIIU5fHlhnu19r9aGw4fkwYihUfVr73B5HryIgAiIgAiIgAiIgAiIgAu1DQCJHnXjfd+IVkaOInGiJnOa+dp0ip7ltOno9BRJnrmL0jfPJYVs2gqaj66DyRUAEREAEREAEREAEREAEOp7APzCUX08xUBtQG2hrG7h9+7bnMtBrkcPZp5jPhgmJ9RABERABERABERABERABERCBjiTwD1lZWdBTDNQG1Aba2gaY48XrqCivRU5HfkmrbBEQAREQAREQAREQAREQARFwEvgH/jVdTzFQG1AbaGsb4DTaEjnOr1W9FwEREAEREAEREAEREAEREIGOI6AcOcqR43kn3GsJoOP7P8eOInI67iahkkVABERABERABERABERABGKLgESORI5EjtqA79uARE5s3VhUGxEQAREQAREQAREQAREQgY4jIJGjTrzvO/GKqPF/RM3DXkOJnI67SahkERABERABERABERABERCB2CIgkSORI5GjNuD7NiCRE1s3FtVGBERABERABERABERABESg4whI5KgT7/tO/MNGc2h//0f0SOR03E1CJYuACIiACIiACIiACIiACMQWAYkciRyJHLUB37cBiZzYurGoNiIgAiIgAiIgAiIgAiIgAh1HQCJHnXjfd+IVUeP/iJqHvYYSOR13k1DJIiACIiACIiACIiACIiACsUVAIkciRyJHbcD3bUAiJ7ZuLKqNCIiACIiACIiACIiACIhAxxGQyFEn3ved+IeN5tD+/o/okchp+SZRX1+P2traoGddXR30FAO1AbWBeGgDDQ0NLX8R6lMREAEREAERiCMCEjkSORI5agO+bwMSOS3flW7cuIGCggLk5+c3Pa9du4asrCzk5eWhsLDQsyfrcfnyZWRnZ3tWB54/+bAOXvNgXXJycpCbm2vq5OW1YR1ioR68JmTC9uslj1hqI2yrvDZe8uCxY6mNVFVVQTKn5XuBPhUBERABEYgfAhI56sT7vhOviBr/R9Q87DWUyGn5psQOTmlpqet5/vx5JCYmIjMzE2VlZZ49k5KSkJCQgNOnT5v6eVWX4uJiUwfKLa/qYI+bkpJi5BbrZNd58UrBdvHiRSOUvDi+PebVq1dBJpQGdp0XrxQ5Z8+eBeWjF8d3HpP1SE9P9/T/DOvD9pGWlmaEkrN+0X7P7zHKrZqampa/DPWpCIiACIiACMQJAYkciRyJHLUB37cBiZzI70jsHFOeMFrHy8eFCxewatUqZGRkePrX9Pv374NMbt686SUOc2xGnrAjzDp5+WAd+H/r3r17XlYDFJFkcufOHU/rQQ6MDGJ9vH5QWpSXl3v6f4YM2D5KSkrMEE0vmfB7jBFCEjleXgUdWwREQAREIJoEJHLUifd9J/5hozm0v/8jeiRyIr9tSOS4mUnkuHlwSSLHzUQix82DSxI5wUy0RgREQAREQASiQUAiRyJHIkdtwPdtQCIn8tuFRI6bmUSOmweXJHLcTCRy3Dy4JJETzERrREAEREAERCAaBCRy1In3fSdeETX+j6h52GsokRP57UIix81MIsfNg0sSOW4mEjluHlySyAlmojUiIAIiIAIiEA0CEjkSORI5agO+bwMSOZHfLiRy3Mwkctw8uCSR42YikePmwSWJnGAmWiMCIiACIiAC0SAgkaNOvO878Q8bzaH9/R/RI5ET+e1CIsfNTCLHzYNLEjluJhI5bh5cksgJZqI1IiACIiACIhANAhI5EjkSOWoDvm8D8SJy6uvrUVBQhMuXryA7O9dclwcPHoS8F9y5U41r13Jw6VK6eWZmXsOtW7fR3PaBhUjkuIlI5Lh5cEkix81EIsfNg0sSOcFMtEYEREAEREAEokFAIqcNnXhOgXr79m0zFaqiOfwfzaFr6P9rGA8ihwImM/MqxoyZjLfe/BhffDEIR44cx927oad+Tko6iV69+uOVl9832/ftMxSnTp0DZVA4D4kcNyWJHDcPLknkuJlI5Lh5cEkiJ5iJ1oiACIiACIhANAjEhMi5ceMGcnNzkZ6ejoyMDBQWFqKqqipmowTy8vJMXa9fvx6yjpQ8+fn55gfOrVu3Qm4jeeB/eaBrGDvXMB5ETk3NXSxduhoJCeuQn1+ILVu2Y/HilcjJyQuKsqH02bZ1F9at24SiopI23SskctzYJHLcPLgkkeNmIpHj5sEliZxgJlojAiIgAiIgAtEg4LnI4Q/FgwcPYtasWRg4cCC+/vprLFy4EGfPngUFj9edZQolipuSkhIThcP6bN68GZMnT0ZKSkrI+vGclixZgo0bN5ofOV6fg44fO8JB16JjrkU8iJzi4hJMmDAd27fvQXV1Da5ezcGsWQtw8uQZUDI4H7W1tUb4bN26EzdvVjo/Cvu9RI4blUSOmweXJHLcTCRy3Dy4JJETzERrREAEREAERCAaBDwVOYxW2blzJwYMGIAFCxbg8OHDOHDgAMaNG4dhw4bh5MmT8DqihRKHkmn79u2wETitiZybN2+a7Xk+dh914DumAy+u4so2EA8ih+JmwvjpOHToGOrq6kwkzvjx03DgwBGz7LwhMBfO7NkLsWzpapw5fd7kyCkrKw8SPs59At9L5LiJSOS4eXBJIsfNRCLHzYNLEjnBTLRGBERABERABKJBwFORQ8kxdepUzJs3D9euXWuKbsnKyjLrt23bZkRIcXEx2Ong89KlSyYS5sqVKygtLTVDsi5evGjW8XNnFA+HOHGYVlpamvmc+7IsrrcCgNIlOzsbqampTeWWl5eb/Dfc9ujRoyZSiHW8cOGCKZ8iZ9KkSThy5EhT2ayP3Y/l5+TkoKCgwIgo/hjm+XEdh48xkufy5cvmRzLz7bAu3IfSyJ4LGfDJ+nstsywrvUqaxGobiBeRM2/eEpw5c94ImdLSMiNrmCeHYsf5YPTOkMFj8MLzb+H11z/Cyy+9h5kzFyA3Nx8NDQ3OTc175s1hFI/zye+s5ORk8z3K8r16njt3DqtWrTLfpewoe1WPmpoaM7SX39de1cEel/ckfvezTnadF6+sA+9LvD95cXx7TN5beQ/l/dqu8+KVHDIzM8293ovjO4/JevA3ipf/Z1gftg8OJedvGWf9ov2evwdZD/6f0UMEREAEREAEOgMBT0UOf5zNnj0b06dPB3/M80cafwzwlcKDP2YrKyvNUKZBgwZh7Nix6NevH95//3306dMHq1evxpw5c/D555/jvffea4ri4XAolkMRsnjxYnzxxRfo3r07evfubToMFCr8nNudOHECEyZMQM+ePc02PM6+ffuMQNq7dy/69u2Lbt264ZVXXsHEiRNNvShyGDHE4VUcCvbBBx+Y7RhNRJHEjgA/W7FihZE5hw4dMttT/gwZMgQfffQRPv30U/zwww9NMoc/yhj506NHD3z88ccYP368iVRiB4dCKFY70KqX5E4stIF4ETnOoVSUNTNmzMfhw0mmg+S8IXFmK267f/8hMLcOc+qMHPEN1n+3GVVVt5ybmvf8XuL3CDs69nn69GnwO46imx12r54U4vyupFRiHb2qBzukx48fN5LdqzrY4/La8I8LrJNd58Ur/3jBe7MVS17Ugcfk7wEysX/c8Koe5MB2anP5eVUPHpf14B9++P/Zy3qcP3/e/HGKv6u8rAe/x/jHPImcoK9/rRABERABEYhTAp6KHP51i/KD8oQyZffu3eaHCX8MOKNQKE4oa7777jvzQ4E/okaOHIl3330X69evNz/++aN38ODBWLp0qVlmtA9z7YwaNQrHjh0zf0FjLh6KFJZH2cIfh/ycMoh/neZftxISEjB69GgjeCoqKkwnh9tQGtm/THJ/ChfmweGPF/64HDNmDGbOnGl+SIQSOZRIFFY8JjsrFFgUU6w3O1msN+UQ68i/LLFz06tXL3MOEjmSJbEgS2K5DvEgcpjU2DmUKnCoVUv3IP71e9Wq9SZvTqjkx5TW/F5xPtkBS0xMNBEG/M7y6pmUlGS+d9lRZ/28qge//60s8KoO9rg2apN1suu8eGXkKGUB70FeHN8ekx10MuGkCHadF6/kwPx9jA7y4vjOY7Ie/D3h5f8Z1oftw8pgZ/2i/Z5/DKNok8hp6U6hz0RABERABOKJgKcihx1DCptTp07hm2++MZEoFDbMl8MfKRQp3IbihNEs7HhwmVE6FB8UITbhMKN4uN/8+fONWKEgGTFiBLZu3dpUDrdZtGiRiXzhDyBGxFAg8fiUSiybPxgpciiN+AOJPwyYs2fDhg3mh1tL9WHEDn/U8AdMYEQOy+AwLSuoeE4URPyrGo/Bc1mzZo2RSTxGYBlcp6cYqA2EbgPxIHLKy2+AQ6v27TuIO3eqceHCJcyfv9S8Bg6X4uclJaXmO4EzWFVWVmHRogRs27bbvA/nJsXvOooLimQvH4z6WJ+wHFkXzqKhrtazqihHTjB63of4f4vDd7x8UEQy8oSRtF4+lCMnmD7bByeDoEz28sHvMf4RUCLHy6ugY4uACIiACESTgOcix3ZMKVL41zbmxbGzVzHMnT/gKD2cs0SFEjl2HUUO/zLD4UwUMny18oTHsmWxA0MZxCgaSh1bj0CB0pzIaak+gWWwDhwqxcggWxfWgxE4XEfpxPdcZ+VVYBm2fnoN3ZEXl87NJR5EDvPYcBYqypvE/Ycxf94SrF27EaWl18304xUVN8wMVRQOly6lY8GC5dixYy9SU9OwefOPGDtmCpKTz4DlhPOIFZGTdvYUkueMRfmaGXiQdwVocM/QFc65tMc2EjnBFCVy3Ewkctw8uCSRE8xEa0RABERABEQgGgQ8FTmMkGFnwjm1NzvkDOfmcCsOc2JouZUvNvrGShtnRI5dZ0UOBQmHO3GoEmUQy+Vf8zgUiwmWOe6f5TMvDY9nRQDrwuiflStXmr/uREPkMCyZQ8W2bNlihoCxLhI5nVtM2Pao1/DaQTyIHH7h37hx0wicDz7ojdGjJuHy5SsmeTHlDKXNwYPHmnLgUOYMGzYeb735MXr26NOULyfcG0esiJy8gztQMfo9NPR9Etg4GygrAB4EJ2wO97zaup1ETjA5iRw3E4kcNw8uSeQEM9EaERABERABEYgGAU9FDvPSULasXbvWjMGnaOGTOXAYoULRwh8JbRE5jMph2evWrTNlsFyG3VLcMHcOx7jv2bPHDGmi7KFUYlQQBQ+HPHHYFZMx22FPdqgVO9at1SdQwrQWkcNx91OmTDHDvlgvG53E+i9btsywUYc+vA69OHVOTvEicqLxpW+PESsi59LZ00idORS3v34eGNQN2LUCqLwOPHhgqxqVV4mcYMwSOW4mEjluHlySyAlmojUiIAIiIAIiEA0CnoocjmlmEmGKk++//97kquGQp+XLl2Po0KEmETIFS2vihJ33wIgc7keJw9w0HK7FciljKIgocHhsJiqeNm0aZsyYYYZgMV8NkxDbYVMUKpQszH3DIVhnzpwx+7VWn0hFDuvKOg4fPtzU+eTJk9i4caOZ3Yp5f1gHCYrOKSh03cO77hI5kd8uYkXkMEfOluWLkDdnKDDiVWDEK8DhzUB18OxbkZ9l+HtI5ASzkshxM5HIcfPgkkROMBOtEQEREAEREIFoEPBU5LCTypwwO3bsMDNOcYpwPu0U4IyI4Tb79+8309MyUofLHCrFYUhMXBy4jkOnKGi4HX+EUhBxynKWO2DAAOzatcus5+eM0mHkzty5c80MUZz2m0mXmWjZDsdiThvWj/syaob5dFqrD8+J0+ky0TKHalEicYYrRvtQDtlz4nHtOs6yxbpzWnXWg3KLU6LbWbi4j55ioDYQug1I5ER+u4glkbN61SpkHtiFB6snAUNeAMa9A5zeB9yrifzE2riHRE4wOIkcNxOJHDcPLknkBDPRGhEQAREQARGIBgHPRY7tmFKqUIAwOoXv7fr2eKWUYQSOlSiBZfJ4/Ly5Y/Nzfsaon/aum60LhQ9/EFHo8FgcYsUEyYxY4nq7nV5Dd+TFpXNzkciJ/HYRSyJn1apVyLh4AQ0ZZ4GlI4GBfwUmdQdSDgO1dyM/uTbsIZETDE0ix81EIsfNg0sSOcFMtEYEREAEREAEokEgZkROZ+6IUzAlJiaCnRnm62EED6ciZ46cw4cPG4HUmfno3Du3pAnn+kvkRH67iDmRk5GBhqobwIVjwLz+QP8uwIzewKUTQF3HT38tkRPchiRy3Ewkctw8uCSRE8xEa0RABERABEQgGgQkcmJkyFJ+fr7JDfTFF180DQPbu3dv0yxW4XRmtY2ER2dtAxI5kd8uYlLk1NUC5UXA6b3A7K+Afl2Auf2AjDNAfW3kJxnBHhI5wbAkctxMJHLcPLgkkRPMRGtEQAREQAREIBoEJHJiROTYDjhz8nBoVXPDwOx2epW0URv4exuQyIn8dhGTIqehAai5DZTkAMd3ADM/B/o9BSwcAlxNBerrIj/RMPeQyAkGJZHjZiKR4+bBJYmcYCZaIwIiIAIiIALRICCRE2MiR53zv3fOxUIswm0DEjmR3y5iVuRQ5twsAwqygGPbgOm9G2XO8lFAbjpwvz7ykw1jD4mcYEgSOW4mEjluHlySyAlmojUiIAIiIAIiEA0CEjkSOUqkrDbg+zYgkdPy7aK+vh61tbWu55UrV5CcnIzS0lLU1dV59uTMfcwPlpaWBnaUTV1uV6Gu8Brqr11C/YENuD/5Ezzo+ySwZhLu52ei7t7ddq9vTU2NmQWR8sJLHjx2dnY2CgsLwTp5WRfWIS8vz0SIelkPzmDJCQAYreplPRgpy5kuWR8v68Fjsx7FxcV//z/j0f9htg8ODedEEF4y4fcY68H/M3qIgAiIgAiIQGcgIJGjTrzvO/HhRm1ou/iN8JHIafl2xVn5CgoKTEeHnR0+mVSdebgoUNhh9+p55MgRrFixwkgl1tHWozjzMkrPJ6M05SQqf1yBuvHv40H/rrizchJKL55BYX5+07Z2n4d5ZYf0+PHjuHz5cruW25Y68dqkpqYaidKW/dtrnwsXLoCizYql9io30nLS09NNe83KyvL02pAD5WdGRoan9SA/1uPixYvm/3KkPNtz+/PnzyMlJQU5OTmeMuH3GKMMJXJavhfoUxEQAREQgfghIJEjkSORozbg+zYgkdPyTamqqspE3vCv1vbJDhhny+Nf9hmF4tUzKSkJCQkJpqPOutl6XC8uQsWVi7iRehIVGRdQvWMlGsa9i4bBz+H2mqkoP5eEsrxslJWWNO1j923LK6MbKFAoC9qyf3vuw44xhRLr1J7lRloW60BZQMEW6b7tuT076GSSm5vraT3I4ezZsyY6qD3Pry1lsR4UXM7/M20p52H3YfuwMvhhy3qY/fk9RtEmkdPyvUCfioAIiIAIxA8BiRx14n3fiVekTfxG2oR7bSVyIr8pxWyOHOepVN8CinOAwqvAjVJg72pgwvuNs1kxEfKhjY2f3a0GHjQ494z4vXLkBCNjx5r/tzjkzcsHRaQdvuNlPZQjJ5g+20dJSYkZVhX8afTWMOqQkUYSOdFjriOJgAiIgAh4S0AiRyJHIkdtwPdtQCIn8huJL0ROw/1GgVOQCZQVABXFwMndwPwBwPCXgYHPAHP7Akk/Ns50VXsXePAgchgAJHKCsUnkuJlI5Lh5cEkiJ5iJ1oiACIiACIhANAhI5KgT7/tOfLhRG9oufiN3JHIiv134QuTwtO7VAKV5AGXOrQqAcqe8GDj6Q6PEGfYSMKgbsGAQcGpvo/CpizyCRCInuA1J5LiZSOS4eXBJIieYidaIgAiIgAiIQDQISORI5EjkqA34vg1I5ER+u/CNyOGp3brROISqJBe4Vw3gb1E3FDwH1gOzvgCGvAAMfRFYOgI4fxioKAHq68IGI5ETjEoix81EIsfNg0sSOcFMtEYEREAEREAEokFAIkedeN934hVpE7+RNuFeW4mcyG8XvhI5dbXA9QIg/wpwswy4X+8+4aJrwJ5VwPTewODngOGvAAnjgLRkoPJ6WEJHIseNlEsSOW4mEjluHlySyAlmojUiIAIiIAIiEA0CEjkSORI5agO+bwMSOZHfLnwlcnh61VVAcTZQlA0wCXKoXDh5GcCPS4CpPYFBzwKjXgfWTAbSTwNVFcECyIFNIscB429vJXLcTCRy3Dy4JJETzERrREAEREAERCAaBCRy1In3fSc+3KgNbRe/kTt+EjmVlVXIyrqGS5fSUVZWbpLstvZlf+9eLYqKinHr1m08+JvAaGhoQElJGdLTMyMqyx7LdyKHUTgcLsVcOaX5wN07zc9UlX0J2DQXmNQdGPhXYOxbwPczgSvnGodpBUb0KNmxbRauV4kcFw4ze1dOTg44i5bXD061XV5eDn4PePmQyPGSvo4tAiIgAiLQmQlI5EjkSOSoDfi+DfhF5FDIbPj+B/T4pA9eevFdzJmzCAUFRU1yJtTNiB21M2dSMGTIWCQmHjbT/FLmcL9pU+fivXc/xauvfIC5cxcjL68g7I6d70QO4TA/Dmev4hAr5supuQ0015FlfpwrZ4F1UxunLB/QFRj/HrB5PpB1AbhdyamqmpArIqcJRdMbiZwmFOaNInLcPLgkkRPMRGtEQAREQAREIBoEJHLUifd9J16RNvEbaRPutfWLyGEUzvhx03D06AlkZ+di0sSZ2Lv3IO7ebX6WpfLyCkyZMhvvvtOzSeTU1NzFihVrMW/uEuTm5OPGjZtYvnwtDh9OAj8L5+FLkcMT4xTj1wuB/MzGoVZ33EIm6Nwpfy4db8yZM/ZtoH8XYOKHwI+LgeyLwJ0qMxOWRE4QOeXICUAikRMARCInGIjWiIAIiIAIiECUCEjkSORI5KgN+L4N+EHkMIpm29ZdJgonKyvbRNasWrUeGzduBWVNqEd9fT2OHEnClMmz0bNHnyaRk59fiFmzFuDYsWRTTqh9W1vnW5HDE+P04hXFQEEWwETHnNXKzFD1t9msQp08hc25g8DiYcDI14F+TwGTPwZ2JQC5l3H/1k1cy8rEzZs3Q+0d1XX5+flGolAueflQRI6bvkSOmweXFJETzERrREAEREAERCAaBCRy1In3fSc+3KgNbRe/kTt+EDl1dXWguElIWIeiohJQ0qxbtxHLlq0xw6RCfeEzamfduk3Y/uMejBo5sUnknDp1FtOnz8ehQ8dw5UpW58iREwiI4uZmaeO05IVXG2en4uxWoZIgO/etKgdO7QG+Hdg4u1Xfp4Bpn6Jh7xrkJe1HVUlR87l3nOV04HuJHDdc5qQhkzt37rg/iPKSRE4wcImcYCZaIwIiIAIiIALRICCRI5EjkaM24Ps24CeRs2XLDjMUil/wO3fsxZo1G0KKHObTYQTPgQNHce5cKsaMnuwWOdPmYfashejz1RC8/NJ7mDlzAXJz80PmyKE0qq2tdT2vXLmC5ORklJaWmqgeiiYvnufOncOqVauQlpZmkslGVIe7NagrL0Zd3hXU51xGfWkB6qpvo662tvVzKclH3cFNqJ/5JRqGvIAH/brgzviPULt/PRoKrqL+zq3wyukAbkxkW1hYiJqamtbPowOOb68B65CXl4fbt297Wg8m9b127ZqJlrJ18+KVHDIzM02SYS+O7zwm61FcXBz5/5l2bi9sH1ayOesX7ff8HmM9+H9GDxEQAREQARHoDAQkctSJ930nXpE28RtpE+619ZPIsUOp7FArRunncyXOAAAgAElEQVQwcbHzwc9SU9Pw/fofkJOdh6tXc4JEzscff4mVK79DVdUtcKjVyBHfYP13m82ysyy+v3HjBgoKCkxHh50dPk+fPo29e/cagcIOu1fPI0eOYMWKFUYqsY6R1qOoIB/FmZdReuEUys4loeTSeRTlXENhmGWVXjyDyq1LcW/Kp6j/+lk09H8a96Z/jpu716E09TSKchulSqT1epjteW1SU1ONRHmYch523wsXLoCizYqlhy2vrfunp6eb9pqVlRVx+2jrMUPtRw6UnxkZGZ7Wg3VjPS5evGj+L4eqa7TWnT9/HikpKeBsXtE6ZqjjUARzuKhETuC3v5ZFQAREQATilYBEjkSORI7agO/bgB9ETuBQKv7F2jnUynmTYcJiDsFavfp7nDl9Hnv2HEDfPkPNclnZdZw+fQ7Tps3DmTPnzfTlLZXFcjk0hX+xdj7ZAUtMTDQRBsyF4tUzKSkJCQkJpqPO+rW1HuV52biRnoIbqSdRkX4B1/NzURZBeeUXT6N09XTc/aY7MPh5NHz9LO7O7osbiZtxPf0CyooK21y3SM+JHePLly+biItI923P7VkHygIKtvYsN9Ky2EEnk9zcXE/rQQ5nz5410UGRnkN7b896UHA9zP+Z9qgT2wclCuVKe5TX1jIYoUTRJpHjvJPovQiIgAiIQDwTkMhRJ973nfhwoza0XfxG7vhB5PBGkph4BMuWrsbVq9lmuMqSJauwbdtuVFZWue4znIVq/rwl+OCD3njrzY/N0KnHH3/WvN+37yAyMrJM0mQmO66trTO5Q5ory1WwY8HXyY4d5+F6e/c2UJrXOD15aT5w907Y+W6aZq1KPQnsWAZM/RQY1A0Y+gKwbBRw8Thws+xvSZVdR233BUZMsUOrZMeNaJUjJ7iJUVpwyFlDQ0Pwh1Fcw+/ekpISM/QuiocNOhSjDimTJHKC0GiFCIiACIhAnBKQyJHIkchRG/B9G/CLyOEQqqlT54IJjHfs2IsJE6bjxIlTJvExO2RlZeVmaFRg5yxwaNXdu3fNsCpG7TDxcWLiYUyePBvJyWdMWeHcr+JS5PDEOd14WUGjzCnJBWpuA2F0dptEjp21KicN2DK/cWarr//amBh55QQg7WRjYmUzS1Y4pCPfRiLHzUwix82DSxI5biYSOW4eWhIBERABEYh/AhI5nakTf6MI1QWpqL52HNVXjzY+c06iujgD1VUVvu/Mx3rEDTsjTAzJMHSGxDNR5a1bt5rlzs8oKJh7gD/a7ZOh9Ey66TzfyspKUx5/zDrX832kxw3c3w/LfhE5vKUwiqZ//+Emumbjxm1NOW0oZ7iclHQSHFrlfFAALV68EqdOnWsSNdx+zerv8cknX5mpyffvPxS0n7OMwPdxK3J4orV3geuFQH4mUJwN3KkEWpnKO0jksJwHDUBWCrB+BvDNB8CArsCo14F1U4CM00BVBXC/PhDtQy9L5LgRSuS4eXBJIsfNRCLHzUNLIiACIiAC8U9AIqcziJzblaguTkf1ocmoXvgHVI/976ge9j+hevg/onri/4Pq1S+iOmUDqsvzUX3HLQj80In3Qx3ZEWEC0+nTp+Ozzz5D3759sXTpUpM0M1DK2PNhPoZly5Zh/PjxmDhxIiZNmmSe+/btM8MuuB9l0KVLl7Bz504sWrTIJCZ1lsfjnjp1yhy3d+/e+Oqrr8x2zH3RkkSydfDLq59ETqzcVuJa5BBy3T2gohgoyAKKrgG3bvxtWNSDkJcgpMixW3Jac0birJoAjHsH6P80MOYtYMMsIPNcY9ntKHQkciz4xleJHDcPLknkuJlI5Lh5aEkEREAERCD+CUjkdAKRcyc7GdVrXkH16P8d1UP/IfRz4v/Anf1jUF2WHRTR4ZfOfCzXk1M9Dxo0CKNGjcLBgwexfft2UKwsWbLEjOsPVXdG7VD4DB06FIsXL8by5cvN8/jx4yY3AiXOd999h88//xxPPPEE3nzzTRw6dMglaFhG//79MXLkSFAAbdiwAe+++y5mzpxpEoeGOq4f10nkRH6zinuRQyQc/nSzFCi82visvA5QyjwIljktihyLlzl3Uo4AS0cCo94A+j0FjH8P2PItcPVCY+RPw327dZtfJXLc6CRy3Dy4JJHjZiKR4+ahJREQAREQgfgnIJET7yKHw6k2dW9Z4li5M/F/oPrUCg2z6oA2sWPHDowYMQJHjx41w6IYNbNu3ToTbcPpfe/cuRMk0Dir0LBhw7Bnzx4zPCpQsHCWjpUrV2L//v3YunWr2TZQ5FDeUARRHjECh09GAo0ePRosP7BMvy5L5ER+s+oUIodYGClTVQ4UZQMFmUBFCVB7L0jmhCVyLObbN4HT+4AFg4ARrzQKnYkfNSZJZm6d6lth5eWxxQW+SuS4iUjkuHlwSSLHzUQix81DSyIgAiIgAvFPQCKnAzrtMdUZPrUM1dP/v9BROFbgOF8T/opq5s2Jdy5RPD/KkxUrVmDy5MlmKl/L9sCBAxg+fHhQFI39/NixY0bOrF+/3gzLunDhgoneCTUkqrmyuJ6RQBx6xR+6fDIKiMO0OCTLHsvvrxI5kd+sOo3IIRomO6Z8Kc5pTIJcXgTcq3HJnIhEjsXNWayO7wDm9QeGvQz0fRKY0gPYuwbIy4ho1ixbJF8lcpw0YEQ2mVB4e/m4d++eyVlGseT1QyLHfQUkctw8tCQCIiACIhD/BCRyotih96SzvPUzVI/5P8IXORP/b1SnbombDr4nzAPa1M2bNzFv3jwznIlDrGydmpMv9vPExET06tULH374IV599VW88cYbmDt3bsi8Os2VxeTKEyZMMM/du3djy5Yt6NevnxmSxSlj7bH8/iqRE/nNqlOJHOLhcKrqKoAzWeVfaZzZijNc/W2YVZtEjsV+vQg4vAmY3QcY+mKj0JneCzi0sXFIV4A0srs19yqR4yajiBw3Dy5J5LiZSOS4eWhJBERABEQg/gnEh8gpvIjqrCN6hmKw9C+NiY2dUTctvR/+j6hIWmKS6ZaVlXX6V3YgHlZytFXkMCJn9uzZ4LAsJideu3Yt3nnnHRNRQ3HhrFdzIqeiosLk4+nRoweeeeYZdOnSBUOGDDERPu1xbs46ePleIifym1WnEzkW0d3bQGleo8wpzW+KmnkokWPLpiTatw6Y+Tkw5HmgXxdg9leNUTv8jLNphfGQyHFDkshx8+CSRI6biUSOm4eWREAEREAE4p9AfIic1S+EH3HSksTQZ4bj+bXDTd4V5l7p7E9GtDysoKDImT9/vpk5KiMjo6m85uRLc8fjD1WKnXHjxrmGaHH7UGVxGAITIw8cOBBr1qwBZ8Fi8mMmXGay46ysrJC5eZo7fiyvl8iJ/GbVaUUOUTESp6ygUeZQsFTfxv26WpAJ/78+9KMwC9i5ApjWCxjUDRj4DDB/IHAmEWD0DhMut/CQyHHDkchx8+CSRI6biUSOm4eWREAEREAE4p9AfIic7X1RPffneoZiMO7/jFBy/Tdc3jwOJ06c0PPECQRGvrRFZrATwmnEOYV4ampqk8jZu3evyZFz5MgR10xTPAaTIefm5rpy4lDMUMiMHTs2KFFxKJHD4zIfztSpU5GWltZ0XA7ZYlQO9wmVb6ct5+j1PhI5kd+sOrXIIS5Gx1wvBPIzgeJs3K+swLXMK+0jcuzlyL0MbF0ITPkE+PrZRqmzeCiQehS4UQrUhxY6EjkWYOOrRI6bB5ckctxMJHLcPLQkAiIgAiIQ/wTiQ+QE5CTxulMZU8f/7i1UD/9fwpc5o/43VJ9b19Tpj6lz8fF1Zn4aJjbm7FGVlZWms0i5M2bMGNhZq8rLy8GhUJQ4/FG6cOFCM+04O9yUOMxpM2XKFHzzzTdmqJXz2oQSOTwOZ6ji9jwGy6W42bZtm5mSnEKHHSRnOX59L5HT8s2qvr4etbW1rifzNSUnJ6O0tBR1dXWePdk2V61aZWQjk8lGtS53bqOuOA91OZdxL/syss6dxPWSYtTV1rZvPdLPom7tVNwf9x4eDOgKDH0BWD4aDy4ex/2KEtTdrXYdj530wsJC1NTUuNZHlU1dnakDoxL53RHtYzuPx+/Ga9eume9N5/povycHzhbI+kT72IHHYz2Ki4sR9f8zAd8VbB8Uj7xHBdYxmsv8HmM9+H9GDxEQAREQARHoDAQkcnwsB8LqdO8ZjuoJ/xS+yJn1b6i+vDsuOvdh8YnS9ecwJk4/ztmiOFyNs0h99dVXJlKHHTZKF0boUPTwByk7DLt27TLyh53cpKQkbNq0Cb1798bq1auN1HGeXyiRw8+ZZ4ezVjHZ8uHDh0F5wynNGaXjHOblLMuP7yVyWr5dUQxyaB07OvZ5+vRp0+YYrcU26NWTEWmc1Y1SiXWMdj2K8nJRkp6K4rNJuLBzM7LOnEBRbg4KC9u3LkX5eShP2oPqxSNRP/pNPOjfBfeHvojqRSNQfnQXSjIugXXh+fPaMHqPneRo83AejzPlUbRZseT8LJrvOSSUTPg9Gs3jBh6LHNhO+d0Z+Fm0l1mPixcvmv/P0T6283jnz59HSkqKmc3LuT7a7/k9xj96SOS0fC/QpyIgAiIgAvFDQCInSh15zzrH6XtQveBRVA//x9Zlzoj/FdU/9EJ10WWJnHZuF/xr5dmzZzF06FA899xzePbZZ010DaMi+BnlDWULo3RycnIMf0bncJap7t27o2vXrnjttdfMUCkOuQpsTydPnjT7nzp1ykgg+zkjbiiOPvvsM5PsmMdljhz+8I6XYVU8V4mclm9KbAdsY84nO2AUe/zLvpeJzSkpExISTEed9fOiLtdLSlCWdRlp+7cj//gBVGRewvXCfJSVtX99WO6t47tRv3g4MPpNkxD5/vBXcGf5OFSc2IeyqxlIOXvGRN0x4sILHvaYTLJOWUDBZtd58coOOr+z+N3nxfHtMcmB3+OMDrLrvHplPSi4vPo/Y8+b7cPKYLvOi1d+j1G0SeS0fC/QpyIgAiIgAvFDQCKnnTvstgMdU68HJqJ66v/bssyhxPn2t6i+khgkCWLqXHx+vShtGB3BCBy+D4cthQulzsMMg2KED4cDMJFruMcNp26xso1ETuQ3pU6fIycA2f26OuReSkFVxoXGJMjlRUCE04YHFNnyYvUt4OwBYOFgYOSrQL+ngLFvA5vnofjYHpTnXsX92tA5dFouuP0+ZYec/7c4fMfLB7/77PAdL+tBDhTtrI/XD0oLfqc3NDR4WhW2Dw775TAqLx/KkeMlfR1bBERABETACwISOT4XA+F0pO+U56N6/1hUz/kZqsf+d1QP/5//Fp3z31BNgTPh/0L10j/jzoXNqK4sD0suhHNcbVMtllH6/yWRE/ntQyLHzaxp+vHCPIAzWeVfaZzZijNcPXjg3rg9l6oqgORdwPwBwPCXgb5P4t7IN3B34zw0XE0FKHw86qxL5LgvtESOmweXJHKCmWiNCIiACIiACESDgEROlDqaMSE1OMxq2xeoXvI4quf+AtXzfonqhL+iOnGchlN1pnYQh+cqkRP57UIix82sSeRw+vG7t4HS/EaZw9e7d4AHHRz5cKMEOPoDMKcvGoa8gAd9ngAmdgf2rAbyMoCa2x1fBzcSM3yI/7cUkdMIRiInoIFI5AQD0RoREAEREAERiBIBiZw47NTGhDQSV0XjRLENSOREfseQyHEzc4kcfsRInLKCxunJGaFTfTs6kTFl+bi9dSnuTe4BDHkeoNCZ2hM4+D1QmNVYr46MEHJgUUSOAwabhIZWuYFI5ATx0AoREAEREAERiBYBiZwodjYlWDTUSG2gY9qARE7ktwyJHDezIJHDj2vvAtcLG2VOcTZwpxK4X+/esQOWmA+mPPU07u9cAUzvDQx+rlHo8P2xbUBJTmPdOuDYziIlcpw0JHLcNBqX+N2rHDmhyGidCIiACIiACHQsAYkciRxFjqgN+L4NSOREfqOQyHEzCylyuEldLVBRAhRkAUXXgFsVQD0Tu3Zc3hyKHEoU1snk6vlxMTClBzDoWaB/F2BOH+DUvkbJxPp10EMixw1WETluHlySyAlmojUiIAIiIAIiEA0CEjnqxPu+E68ol46JcvETVz+JnMrKKmRlXcOlS+koKytv7Ky38m1/714tioqKcevWbTz427AaZzkZGZm4ceNmRDPYSOS4oTcrcrgZxc3NskaRU3i18T0FSgcNcXKJHFvN7EvA5rnApO7AwL8CA58BFgwCUo4AzK9T3/5CRyLHwm98lchx8+CSRE4wE60RAREQAREQgWgQkMiRyJHIURvwfRvwi8ihkNnw/Q/o8UkfvPTiu5gzZxEKCoqa5EyoL31OL3zmTAqGDBmLxMTDZprfO3eqsWnjNvT6tD/efKM73nm7BxIS1qG0tKzFspzlS+Q4acAINTK5yWTHoR6MjuEMU0XZQEFmY5QOh151gMwJKXJYJx4r8zywbiow4X1gQFdgcDdg6UjgYlKjYDLRQqFOIPJ1EjluZhI5bh5cksgJZqI1IiACIiACIhANAhI56sT7vhMf65Ej7JRlZmbG7bO83Psp6/0ichiFM37cNBw9egLZ2bmYNHEm9u49iLt37zX7fV9eXoEpU2bj3Xd6NokclrNy5XpcvnzFROGkpFzEsKHjsG/fQVAWhfOQyHFTajEix27KacBvVzbmqOH05OWFwL2adpc5zYocWw9G36QlAwnjgDFvNw63GvoisHICkHYSqCxvl1w+EjkWeOOrRI6bB5ckcoKZaI0IiIAIiIAIRIOARI5EjkROB7eBLVu2YOrUqXH7vHDhgudtyA8ih0Oitm3dZaJwsrKyTWTNqlXrsXHjVlDWhHrU19fjyJEkTJk8Gz179GkSOYHbMhLnm29mYNu2XWC0TjgPiRw3pbBEDndhVEz1LaA0rzF/DWe2ulvdrjKnVZFjq85p0c8fBhYPA0a9BvR7ChjxCvDdNCDjDHDrxkMJHYkcC7rxVSLHzYNLEjnBTLRGBERABERABKJBQCKngzvxsR4tovopv0w8tAE/iJy6ujpQ3HAIVFFRCShp1q3biGXL1pjhVaG+8Bm1s27dJmz/cQ9GjZzYrMjhdhMmTMeuXftRU1MTqqigdRI5biRhixy7GyVKaX6jzOFrzR3gQYP99KFewxY59iiMEjq1B/j2a2D4K0DfJ4FRbwCb5gJZKcDtm0DDfbt12K8SOW5UEjluHlySyAlmojUiIAIiIAIiEA0CEjkSOZ5HU8SDSNA5eCvE/CRytmzZYRIT8wt+5469WLNmQ0iRwyFSjOA5cOAozp1LxZjRk0OKHEbgrFu7EZMnzcKlS5dDJjymNKqtrXU9r1y5guTkZJSWlproIIomL57nzp3DqlWrkJaWBnaUvagDj0kBlpGRYWaLCrsOtypRV5iN+uw01Bdkob7qBura4Ryys7NRWFho6hR2XXj9yopQd3AT6md+iYYhL+BBnyeAce8APy7Gg6upuB9h/ViHvLw83L5927PrwvPn8M1r166Z/EUR8WjnNk0OHCbL+nhZDx6b9SguLvb0/wzrwfZB8Xjnzh1PmfB7jPUIV2RH4we2jiECIiACIiACHUlAIkciRyJHbcD3bcBPIscOpbJDrRilw4THzgc/S01Nw/frf0BOdh6uXs0JKXIocXbt3IfBg0Zj794DqKm56yym6f2NGzdQUFBgOjrs7PB5+vRp7N271wgUdti9eh45cgQrVqwwUol19Koe7JAeP34cly9fjqgORTnXUHLpHMrOHUdpykkUZ6ajMD8vojICz5nXJjU11XSSAz8LZ7kk7Twqty5F7ZReaBj8HNDnCdSPeRu3NsxD2ZkjKL6WicKC/FbryGGTFG1WLIVz7I7YJj093bTXrKysVuvcEce3ZZID5SeFn13n1SvrcfHiRfN/2as68Ljnz59HSkoKcnJyPGVCEcwoQ4mcpq99vREBERABEYhzAhI56sT7vhOvaBhvo2Figb8fRE7gUCr+Nds51Mp5r6GQ4RCs1au/x5nT57FnzwH07TPULJeVXTdRN5Q4e/YkYtiwxiTHzUkclltVVWUib/hXa/tkBywxMdH8ZZ9DaLx6JiUlISEhwXTUWTev6sHoBgoUyoJI63C9qAAVmWm4cfE0blw6g/JrV3C9uCjicuxx2TGmUGKd7Lq2vN5MT0HNtiVomNYLGPy8ETp1499H1ZbFuJ5yAmX5OShrgTnrQFlAwdaW47fXPuygk0lubq6n9SCHs2fPmuig9jq3tpbDelBwefl/hnVn+6BEodRp67m0x36MUKJok8hx3kn0XgREQAREIJ4JSORI5EjkqA34vg34QeTwRpKYeATLlq7G1avZZrjKkiWrsG3bblRWVrnuMzdu3MT8eUvwwQe98dabH+Pll97D448/a95zZqqbNyuxe3cixo6ZguTkMybfjquAMBaUI8cNKeIcOe7dAU77fbMMKLoGFF5tfF9X26YkyIyYYueWdWqXB+uzYxkw7VNgUDegz18Ayp2jW4HiHIDTqId4sA78v8Uhb14+KCLJhMN3vHwoR04wfbaPkpISM6wq+NPorWHUIWWSRE70mOtIIiACIiAC3hKQyFEn3ved+FiICFEdvI0K8ovI4RCqqVPnggmMd+zYaxIUnzhxyoiYhoYGlJWVo6rqVlCem8ChVZx+/IvPv8ac2QtNxA6X+eT+4Xb+JXLcN9+HFjksjuKlqgIoygYKMoGKkkZJwpmuIni0u8ixx85NB374Fpj8MfD1X02EDmZ92ZgombNvUTw5HhI5DhiAEVocQkSx5PWD0SfM1cPvDS8fEjle0texRUAEREAEOjMBiRyJHIkctQHftwG/iBzebI4dS0b//sNNdM3GjduMuOH6u3fvgstJSSeDct1QAC1evBKnTp0z0sdZBiN27NNZXms3NokcN6F2ETkskh1rziLFSJf8K0B5IXCvJqLInA4TOfaUr6UC388EvvkQGNAV6NcFmD+wcSpzyqf6RqEjkWOBNb4qIsfNg0sSOcFMtEYEREAEREAEokFAIkedeN934hUN4200TCzw95PIicYXezjHkMhxU2o3kcNiGYFTfQsoyWuUOYx2uVsdtszpcJHDOnI68owzwOpvGme26v80MPAZYMlwIDXJDA0rKyrU0CpHM5HIccD421uJnGAmWiMCIiACIiAC0SAgkSORI5GjNuD7NiCRE/ntQiLHzaxdRY4t+u4doDS/UeaU5gE1d4AHrQ+FiYrIsXWsvdcobpaOAka/AfR7CuBMVwnjUHF0J0qvpOFetbe5aZQjx16sv79qaNXfWfCdcuS4eWhJBERABEQg/glI5KgT7/tOfCxEhKgO3kYFSeREfrOSyHEz6xCRw0PcqwYYkZOfCZTkNEbqtJLXJKoix2Kovg2cPQAsGAyMeNUInfuDn0fNsrGov5QM3KoA7tfbraP6KpETjFsix81EIsfNQ0siIAIiIALxT0AiRyJHIkdtwPdtQCIn8puVRI6bWYeJHB6Gs0JdL2yUOcXZwJ3KFqWIJyLH4rh1A0jeCcwfgAdDX8KDPk80ip2Nc4DM88Dtm43Dsuz2UXiVyAmGLJHjZiKR4+ahJREQAREQgfgnIJGjTrzvO/GKhvE2GiYW+EvkRH6zkshxM+tQkcNDcUYoJhIuyAIKrzXObsUpyxE8o5WnIsdiuVmK6t1rcW9qLzwY8gLQ9wlgzJvAtoXAtYvAnarGxM52+w58/f/bOw/3Nq5r27+/7b2bdm/KTeLESezYjhOXNBfZsqyoWr333kUVq1erWRJVKJGixN6b2BtIgr2CFNf71oFHmgFAEGDBANDC9803c6adPWsOZnB+2HsfgZxgcQVynJoI5Dj1UEkKSAEpIAWSXwGBHIEcgRy1gYRvAwI50b+sBHKcms06yGF1BDddbUBzNdBU5V8m4AkYnjwuQA4AjlrlKc6B7+YxYOunwIJf+4csX/UecDMF4HDmg30R5f1xqh1dSSAnWC+BHKcmAjlOPVSSAlJACkiB5FdAIEed+ITvxMeDR4hscNcrSCAn+peVQI5Ts5iAHFY5Nub3xmmuARorAW+LP/TKBnPiCeTwu8XRmsxw6oQ3m//pT4Y850fAug+A1DN+L6MoRuVyKj95SSAnWCOBHKcmAjlOPVSSAlJACkiB5FdAIEcgRyBHbSDh24BATvQvK4Ecp2YxAzmslsmO+7r9yY8bKoCOJmB48KVnTlyCHEsuJm2+uh/Y8DHw9S+Bz38EbPon8OiKH/YwH9AMfwRyggUVyHFqIpDj1EMlKSAFpIAUSH4FBHLUiU/4Try8Ydz1hokH/QVywr+sRkdHMTIy4pgqKiqQmZkJj8cDn8/n2pSbm4vjx4+jpKTEeH64Zcvg4CDKy8tNOFFMbBgZga/bC1/jc4zWlGC0uRa+vm74RobBTnpTUxNoU0xsmeD+04b6+nr09fUF21GRD9+pzRhd9R7Gv/of4PP/ArZ9Cjz9Hi9a6zE62B98zAT1THaNHR0dqK6uRldX14ydc7I6Q22nDpWVlaA9obbHch3taGlpcfU7w+tl+yB47O+fufs9FR35HKMd/M7oIwWkgBSQAlLgdVBAIEcgRyBHbSDh24BATvjXFf+tbmxsNB0ddnY4ZWVl4fbt2wagsMPu1pSWloajR48aqEQb3bKDHdKMjAyUlpbG1IaW6kp4irLRlpsOT2EWWM5+9gyFhYWmk+yWHqy3oKAABG0WWAplS/uTuxg4uAyjy97G+NyfYfzzH2F4y6fw3ruE1pJ8NNfVTlvPsrIy016rqqqmfa5Q1xDpOupA+EngF+kxs7Uf7SgqKjLf5dmqI5Lz5uXlIT8/H7W107/PkdQ30T4EwfQyFMgJ/y7QVikgBaSAFEgeBQRy1IlP+E58PHiEyAZ3vYIEcsK/lBiawn+s7RM7YKmpqcbDgElt3ZrS09ORkpJiOuq0zy076N1AuEVYEGsbOhrr0VlRiM7CZ/CW5KIwMx1lJSXG4yLWttjrI9QiLCBgs68PXFEEaHMAACAASURBVG5vaUZP5l2MHlwKLH8b+PJnGP/ypxjaMRfeB1fRVlGMtuamsOcIPKe9zA46YUFdXd2Uz2E/31SXqUNOTo7xDprqOWbqONpBwOXmd4bXwvZBiELAMlPXNpXz0EOJoE0gJ/y7QFulgBSQAlIgeRQQyBHIEchRG0j4NiCQE/1LSTlynJrFNEeOs2p/ibll2ptMAuSW3Ax4655jbGQ41J4xW8cONb9bJtlxJLUODwD5acD+hcDSPwBf/hSY9wvg6Aqg+AnQ3Q6MjUZyJsc+ypHjkMMUCC0Y4vWC+ZZc/LB9tLa2mlAzF82AcuS4qb7qlgJSQApIATcUEMhRJz7hO/HyhnHXGyYe9BfIif71IZDj1Mx1kENzOBS5txWtOenoLM7GWGebf8hyjDuNjVEpapBj2dXfA2TdBvZ+DSz5PfDFT/xDl3+7HijL8o/aFQXQEcixhH01F8h5pQWXBHKceqgkBaSAFJACya+AQI5AjkCO2kDCtwGBnOhfVgI5Ts3iAuTQpFEfWkoL0FmUhbH6cqCrzQ94bMOTOy2fvdKUQY5lUk8HkPEdsGsusOgNP9BZ/Hvg/HagMg/o6wJejFl7TzgXyAmWRiDHqYlAjlMPlaSAFJACUiD5FRDIUSc+4Tvx8eARIhvc9QoSyIn+ZSWQ49QsbkAOgMa6WnRUV2CsscqEWsHbAjD0KsYwZ9ogx5KY9j84D2z/HFj4G2DOj4HlbwFX9wHVRQA9eMKECAnkWEK+mgvkvNKCSwI5Tj1UkgJSQApIgeRXQCBHIEcgR20g4duAQE70LyuBHKdm8QRyOKpYm6cVY90dQGst0FDhz58zPBhTmDNjIMeS2lMP3D4JbPk38J9f+4HOqveAmylAXRkw2AeMB+d8EcixBHw1F8h5pQWXBHKceqgkBaSAFJACya+AQI468QnfiZc3jLveMPGgv0BO9C8rgRynZnEHctraMDY6Cgz0AgQghDltjcDQQMxgzoyDHEvy5mrg+mFg4z+A+b8C5vwIWPcBkHoGoBdSwDUK5FjCvZoL5LzSgksCOU49VJICUkAKSIHkV+D/dHV1QZM0UBtQG5hqG+jr63MdBiYSyOnu7kFVVTWKi8vQ1tYBAoRQH45G09rahrKySrNvc7NzZJjR0VE0NjajtLQC5eWV6OzsimoEG4Ecp+pxCXKstjHUD3ga/DCHUGewP6TnivOKpl+aNZBjmcYcQJf2AOs/BL7+BfD5fwGb/gk8ugK01PrDyQAI5FiCvZoL5LzSgksCOU49VJICUkAKSIHkV+D/VFVVQZM0UBtQG5hqG/B6vQI5Eb4rhodHcO7sZXz80Ry88dt3sWPHfgNjxgNyn7BMSLNt6168/5d/4c3fv48VyzegtLTcgB9CHi6vXLER777zd7zz54+RknIKHk8bAs81kWkCOU5l4hrk0FQO7U2PnIZKf7gVPXUiSBTsvMroSrMOcixzmCfnzBZgzfvAV//jBzrbPgWe3jLX3NPRDoab9ff3W0e4Mucw7LW1tQYsuWKArVKBHJsYAjlOMVSSAlJACkiB10KB/8N/0zVJA7UBtYGptgF2rtwOr0oUjxx64axauQmPHj1BTU0d1q3ditu372NoaNjxwqG3zfXrt3Hlyg20tbWjo6MTK1ZswJEjJ9HR4UVvbx82btyJ06cvoqurG/n5RVi0cCXu3LkPwqJIPgI5TpXiHuTQXCY8bm/yJ0BurvGP+hTFMN7OK568FDOQQ1OY7LgiBzi+Glj5DjD3Z8Bn/w/YOx89JdkCOQG3SyDHKYg8cpx6qCQFpIAUkALJr4By5ChHjuudcLchgOpP/Bw7iQBy6Clz9cpN44VTVVUDn8+H48fP4Pz5KwbOhHvdDA4O4dChE8brprXVg/Z2r4FAly5dNyC+oaEJa9duxc2bdzE4OBjuVC+3CeS8lMIsJATIoaW+EcDbCjRVAU3VAIf4HvUBGHde0AyUYgpyLHt9w0BxBnBgoT/catEb6E37Dg21NfLIsTQCIJBjE0MeOU4xVJICUkAKSIHXQgGBHIEcgRy1gYRvA4kAcixwwxAo5ruh182pU+dx+PBJE0YV6o1D+OP1diIzM8t45Ny+fQ+EOkNDQwYCnTx5DtlZebh18y4OHDhm8uUw7CqSj0COU6WEATk0m+Cmqw1g0mACnS4PQAASEKLnvMLoS66AHMtMDlm+b4FJhDx4bC2ainIEcixtBHJsSvgX5ZETJIlWSAEpIAWkQJIrIJCjTnzCd+LlUZP4HjXTvYeJBHLoRcPExPzcuH4bhDHMhxPqY4VYffLveVi4YAWePs3G8NCwgUC1tfU4duw0/vnPuVizejMyn2SZkKtQOXJ4npGREcdUUVGBzMxMeDwe4x1E0OTGlJubi+PHj6OkpATMQeKGDayTnkzl5eUgvHDLBqteels0NTUZm6x1QfOhIfg6WuGrr8BoTSlGPQ3w9ffCNzIyY/bThvr6euP1FVR/DNrL6HeHML7gN/Ct+QBND2+gu6tzxq5tKtfD8NPKykp0dHS4agdtpx0tLS2ufmdoB9uHlb9oKprO1DF8jtGOSD0SQz1vtU4KSAEpIAWkQCIpIJAjkCOQozaQ8G0gkUCOFUplhVoxvGoikGO9TAhiLl26hrVrtqC4qBT19Y1YumQ1zpy+iJ6eXjC0ivl2bt64g4GB4NAq/lvd2NhoOjrs7HDKysrC7du3DUBhh92tKS0tDUePHjVQiTa6ZQc7pBkZGSgtLXXNBuvaeW8KCwtNJ9laF2re3NiAlsoyeAqeoS03Ha3FuWiufY6mGdKxoKAABG0WWAplw2yu63hyF761H2D8i5+gLmUzakqLXL031IHwk8BvNq87knPTjqKiIvNdjmT/2donLy8P+fn5Jgn0bNURyXkJgullKJBjvTU0lwJSQApIgWRXQCBHnfiE78RP15tDxye+R08igJzAUCr+E02IY4VaTfayKS+vMqNUPXjwGOnpmdiwYQeys/PMKFbWuQ4dOh4SCnH4Zv5jbZ/YAUtNTTX/7NMLxa0pPT0dKSkpBizRPrfsoHcDAQpHb3PLBqtedowJlGiTtS7cvKO+Bp1l+egsfApvWQHaG+rQNgNa0gbCAgK2cPXP1rb25kaMHPwG+OIn6Nz0GTx5ma7YYV0fdcjJyUF1dbWrdtAe2lFWVma+05Z9bszZPghRCFvcqN+qkx5KBG0COZO9SbRdCkgBKSAFkkUBgRyBHIEctYGEbwOJAHL40khNTcPhQyfw/HmNCVc5ePA4rl69he7uHsc7xcqNw6TGhDTMe5Oa+hCbNu1EQUExcnMLTHJjjn41MuIzuUP27z+Ko0e/BZMhR/JRjhynSgmVI8dpur801A94GoCGCsBTDwz2A+OR5UsKdTquYyeZ3y2GvLn2eXIDWPEORhe/iRf5j2Z9yPVw16nhx4PVYftobW01z6ngrbFboxw5sdNaNUkBKSAFpEB8KCCQo058wnfi5VGT+B41072HiQJyGELFYcNPnbpghhdfvXoznjx5ZnLeENa0tXWYUCnms/nuu1sgnElLyzCeNwyrOpZyygxHzhw7Wzbvxs4dB/Ak45mBPN98sxZWMuRIXi8COU6VEh7k8HKGB4C2RqChEmitBQZ6pwU+4gLktDUAe+YBn/8IuLIP6O5w3rgYlgRygsUWyAnWRGukgBSQAlJACsRCAYEcgRyBHLWBhG8DiQJy+FB//DgTc+cuxttvfYjz568acMP1HImK5fT0py9Hpjp54iw++uhzs++mTbtMbhzrxUAotHLFRrPt7x/Pwd27D8xx1vbJ5gI5ToWSAuTwkkaGgPYmoLESaK4B+rqAsVHnxUZYiguQA2Ds8j68mP8rYPvnQF1phNbP/G4COcGaCuQEa6I1UkAKSAEpIAVioYBAjjrxCd+Jn643h45PfI+eRAI5sXiwR1KHQI5TpaQBObws3wjgbfUPTd5UDfR0+Icsx7jzoicpxQvIGcpNw+iavwFf/xLIuvPDtUxi/CxsFsgJFlUgJ1gTrZECUkAKSAEpEAsFBHIEcgRy1AYSvg0I5ET/uhDIcWqWVCCHlzbqA7ragOZqP9Dp8gC+YWA8cpgTLyCnr7UJQ3sXYHzOj4GTawGGW7nwEcgJFl0gJ1gTrZECUkAKSAEpEAsFBHLUiU/4Trw8ahLfo2a691AgJ/rXhUCOU7OkAzm8vLExoMcLtNT4Q628Lf7QqwhhTryAHI661n0txSQ8xur3gfLsqICU805PvSSQE6ydQE6wJlojBaSAFJACUiAWCgjkCOQI5KgNJHwbEMiJ/nUhkOPULClBDi/xxQugr9uf/JgjWjF/zvBgRCAknkBOa94TDG38F/D5fwF3TwGDfc4bGIOSQE6wyAI5wZpojRSQAlJACkiBWCggkKNOfMJ34qfrzaHjE9+jRyAn+teFQI5Ts6QFObxMeuBwBCsOS06Yw9AkDlc+iWdOPIGchoZ69J/Y6M+Ts3e+38PIeQtnvSSQEyyxQE6wJlojBaSAFJACUiAWCgjkCOQI5KgNJHwbEMiJ/nUhkOPULKlBjnWphDeeBj/MIdQZJMx5YW0NmscXyGlA/5PvgXUfAIveAPIfTmto9aCLjWCFQE6wSAI5wZpojRSQAlJACkiBWCggkKNOfMJ34uVRk/geNdO9hwI50b8uBHKcmr0WIIeXPDwAtDUCDZX+cCt66rwYc4rxQynuQE5THXBoCfDFj4FLu/3JnENaPjsrBXKCdRXICdZEa6SAFJACUkAKxEIBgRyBHIEctYGEbwMCOdG/LgRynJq9NiCHlz0y5M+V01gJNNcAfV3A2KhTEABxB3L6+4F754ClfwA2/h2oLgyyeTZXCOQEqyuQE6yJ1kgBKSAFpIAUiIUCAjnqxCd8J3663hw6PvE9egRywr8uRkdHMTIy4pgqKiqQmZkJj8cDn8/n2pSbm4vjx4+jpKQE7Ci7Zcvg4CDKy8sNvHDLBqvempoaNDU1gTZZ62Z8PtAHX2s9fLVlGK0rx6i3Fb7BAfhGRl7WSRvq6+vR19f3ct2M2xFB2+vo6EB1dTW6urrgqyrAiy3/Br78KV5kXIdvaCBmtlGHyspK0B43dLDXSTtaWlpc/c7QHraPhoYG9Pf3u6oJn2O0g98ZfaSAFJACUkAKvA4KCOQI5AjkqA0kfBsQyAn/uurs7ERjY6Pp6LCzwykrKwt37twxAIUddremtLQ0HD161EAl2uiWHeyQZmRkoLS01DUbrGvnvSksLDSdZGvdbMyb6+vQWlaItvxMtOVmoLWsAM11NWj64T4UFBSAoM0CS7NhQyTnJGCjJlVVVWiuq8XA4RUYn/vfGNy3CJ7CrJjdL+pA+El7IrF7NvehHUVFRea7PJv1THbuvLw85Ofno7a21lVNCILpZSiQE/5doK1SQApIASmQPAoI5MRRJ57/9nHiP1vyEkl8LxHdw9jdQ4Gc8C+lnp4e43nDf62tiR2w1NRU42HAEBq3pvT0dKSkpJiOOm1zyw56N1iwwC0brHrZMSZQok3Wutmat7e2wltTic6SHHQWPoW3ogjtTQ1o83iMDYQFBGyzVX8k52UHnZrU1dUZO3ofXMHYincxtuQP6E6/ZWyN5DzT3Yc65OTkGO+g6Z5rusfTjrKyMvN9nu65pnM82wchCoHPdM4z3WPpoUTQJpAT/l2grVJACkgBKZA8CrgKcggs+PLmj1V2NOwdX26zOhy9vb2Obfb9JlvmefgDgz/Auru7p3yeyeqZ7nYCHP5YZbgD/z0Pdz5eBzuuXq83auhDl3D+GOZcwCh2oCHc/dS26d8HgZzoX0rKkePU7LXKkeO8dODFC6Cv25/8mMOTtzcBw4No87Sadw1D3tz88PeBFb5j7OhoBvYvAOb8GLh90j+0egwMVI6cYJH57G1tbTVhVcFbY7eGv5v4W08gJ3aaqyYpIAWkgBRwVwFXQQ5/nH3//fc4deqUgRj2Di1fyhcvXsSlS5fMDzj7tmiWCT1Onz6NY8eOmX/Rojl2qvsSyvBHJ3/gRAqhaOehQ4ewe/du8w95uLqLi4tx4MAB8286gUy4fQO3PXnyBDt37sSzZ88iti3wHCpPHzxIw5nVUCAn+heJQI5Ts9ca5FCK8XE/EOGw5IQ5bQ1oq69FS1OTycPiVCu2pSCQw+oJcBb/Dtg1F6gvj4lBAjnBMgvkBGuiNVJACkgBKSAFYqGAqyDHghcrVqwwbtP2zi09ddavX49NmzZNCjbsxwUuE6Tcv3/f5ILgvzWB22ej3N7eboDMmTNnDMyJpA5Li8lADq+HYOovf/kLVq9ebVyro/GsoQv05cuXzXEETpHYpn1mFjpIz5nXUyAn+teFQI5Ts9ce5FhyDPUDngYDc7wluWitqcLwkLsJZEOCnMpcYNM/gPm/BHLuAWOhh1C3Lmsm5gI5wSoK5ARrojVSQApIASkgBWKhQEKBHAILuvAydwDj5a3YfcvrhT/2OLIFEyJyH8ZMM/yI3jFMZElYQkDEuHIeb594HLezk81jeA4meuTEDo8V7kT4waR+nLieCSm5D8vW+ZkccuHChQZCPX36FAQ7tJ3eM7Qp1HkjBTkMi9qwYQOWL1+O+fPn4+7duy/tZh0MIaNdvAZeC+1mnVxPnXj9jCO3bOIoINyfNlEPhnYp7GrmQYPgzexqKpAT/euC33vmhOEzws0Pnz0ctYoJZF8wxMelj0COTfjhAaCt0eTMaSvMwkhXB/Bi9kGJzQLHYkiQM9gHHFtlRq/CxZ1Al8dxzGwUBHKCVRXICdZEa6SAFJACUkAKxEKBhAI5hBHffvstvvjiC3z44Yf4+OOPsWfPHtMBIGAhoCDg+Oqrr/DZZ58Z4EHQYg9ZYkjRkiVL8Ne//tVMb7/9Nn7+85+bfQlz2KkhHOE+H330ET744AN88803YEJObrM8hVauXGk8Yj755BO89957WLNmjQFLHEli0aJF+N///V+88cYbBugwKSHBCcPIuI1287xLly41I2AQ4kQCcghq6F20du1a3Lx5Exs3bsSJEycMpCEo4DnOnTtn7OVIMIQ0HIXlP//5D+gdxJxDDx48wKpVq/D48WOznfbSI4rX+re//Q3z5s0z1x9tyJZAxeyCCukbXl+BnOhfFwI5Ts0Ecpx6YGTIn/g47wlG6iqAvi5gbDRgp9gUQ4IcVp15E1j5DrDuA6Aqf9aNEcgJllggJ1gTrZECUkAKSAEpEAsF4gLkEDR89913Dg8Z5nKhVwthBT1KCCkYUsR1BCIEI9nZ2Vi8eLEZ8YSQhyCH5c8//xy3bt16mRDYDnL4g5Awhp49PIb1WvXznPSgWbBgAY4cOWKSAtMDZvv27SbMi1CIMIQhX//+978NTOF5Hj16hC+//NJAFCZu5jEMe9q/f7+xnXXSC2jbtm24cuWKqZu2EqDs3bv3pTeP3c5QHXd62TA3zsGDB40XDc9FfegBRMjDY+h5xHU8L6+Fy6yXnjbcbgc59FQigOJ2y2tn3759JoeOtX8oO7QuPFSQPrHXRyAn+teFQI5TM4Ecpx4stTc3wlNagJGaEqCpGujpAEZ9/nw6wbvP2poJQU5LLbB7HjDnR0DGdb9ts2YFTK4get/SHrc//A3BP1zc9GKjBgI5brcE1S8FpIAUkAKvqwJxAXL+/Oc/49133zVeNvS04UTvkF//+tcGiBAy8McTwcfJkyfNKFfsLNMLhx4ohBGEGfSooafM2bNnDazhPhN5uhB80KWf3jYELoQv3Pfw4cPYsmWLGU7T6pBzmF4ComvXrhn4Q5DD/QhCuA9/UNGD5+jRo+ZHjeW1wzJhEffhDz9CH14HQwhYN/P/EBJZoGoykMP8Nrw+2kGow6TH9jLr4XUR4BAk0eOHE71vWD+320EObWGYFvPyEIrRVnbuWA+vgftrkgaJ0AYSCeR0d/egqqoaxcVlaGvrAAFCqA87aK2tDAWtNPs2N4ceGWZ8fBxebyfa271RjRwjkONUXSDHqQdLfA+0NNRjuLURaK4GmqqATg/gG44pzJkQ5NDIG0eAhb8Bjq4AWuuCL2IG18gjJ1hMgZxgTbRGCkgBKSAFpEAsFIgLkBNJsmPmwyFMuXr1qglxsjqXdjDBvDYEG4Q7FogIBXIIO+i5smvXLuONwnw6XGcBGHq9cLtVB0GNdV4uE+TYIQ3X0VOIxxGGWOex78OwLIYxEdYQrnz99dd45513sG7duohADqEVr531nD9/3oArei1RE8IgdsosexlSRVvefPNN473DH1rWNrte1ObevXvmHMy3Q2+c1NRUA6Ys8GMdp7mATjy3gUQBOcPDIzh39jI+/mgO3vjtu9ixYz8aG5tBGGP/sMz127buxft/+Rfe/P37WLF8A0pLy4PAD8HQzp0HsHfvEXOM/TzhlgVynOoI5Dj1YInvMn63hgcGgB4v0FIDNFQCHS1g6JUZ6Sr4sBlfExbkFD8B1n8ILHkTKMoAxmcvz5JATvCtFcgJ1kRrpIAUkAJSQArEQoGEATn0EiEAIcywEvmyY8l8NvQ+IdRgx8QCLuFADkOo6NlDLxrmkiHQ4Lnoprx582YDQeihY3VcCYgImy5cuGA8aqYCcphUlNCFcIdhS/TmoScMhwKPxCOHI27Re4ajVb3//vsvc/wQBjHMi+FdVtJn/rDiubkfYRV1Iaji9dhBDoEPtWQ4GPVjvqF//vOfxiY7GLJ00FwwJ17bQKKAHHrhrFq5CY8ePUFNTR3Wrd2K27fvY2ho2PG8Hx0dxfXrt3Hlyg20tbWjo6MTK1ZswJEjJ9HR4X25L7127t9/hHf+/DHWrtkikPNSmegXBHKCNXsJcoaHASai7usGWmv9w5O3NwHDgzGBOWFBDgHT4W+AL34C3D4BDMxe2JNATnAbEcgJ1kRrpIAUkAJSQArEQoGEATkWyGB+GHrAEEwQvDCXDeELQY/dc2YikGP3QmGOGea8IQDhxG3Mw0NQQ/DCdfwBSfjBECx6q/BHy2Qgh6CI0IXeN1b41aVLlwxkYtgTz8swqx07dkQcWkXQQvBEm3lOHs/JCg87deqUKfMamPfHytFjHUObAkEO9eI1MUSLx9Hrh0OTL1u2zIAdluO14y67BJXsbSARQA69bK5euWm8cKqqakwY1PHjZ3D+/BUHnAn14B8cHMKhQyeQksLv+avRebh86NBx/OtfX2HXroMCOaHEi3CdQE6wUA6Qw830HBvoBTz1fpjT1gBwuPJZ9IJhtWFBDndIuwQs+xOwfQ7wvGDWRtgSyAluIwI5wZpojRSQAlJACkiBWCiQMCCHUOHGjRtmVCqOwETQQmBhhRoRyEQCcph0mGFETGhMKEJPFk7MEUMwwhAuQhB6tDC3DD12mIPH8pzhD9vJQA69XOgJw9GleG5CFIYw0Vbm1uFIUsxz8+mnnxpPH4Z20Ttmohw5hCzHjh0zcIgJly3vGnZkuY0wi0mNuY35fAidCKToVcRRrThKlQWQ7B459DSijcwJ9PDhQ6Mp7WaZcMdej73TrGVBlHhrA4kAcnw+HwhuCGOY74ZeN6dOncfhwycnBDBW/pvMzCzjkXP79j0Q6vDD4wmGbt64YyAOgQ7DsSL9KLTKqZRAjlMPloJAjrUL4Y2nwQ9zmJeGQ4HPIsyZFOQ0VAB7v/Z75VyYvaHIBXKsBvBqLpDzSgstSQEpIAWkgBSIpQKughz+OKOnCpMNMwGwvXNIGMIwJAIMJuXlNsIODrvNUaY4fDeH/mY+HHrrcDvz0zA3zO3bt423DtdZdRD+8DwEQAQdVlJla04vFCZMprcMYQhhDYcJ57DczEFDAESYZNlFCETwY9VL0MPQK64jACHA4VDjrIvDjxM00YY5c+aYugmLCEwITiyPGGph2cnzWhN/KHEUKm636rS2cc7cOwyLInhiomfqaeX9YWeNo1LxWNrA66dXk3Wt+fn5L6+VWtBeno+AyF6Hll/dD2kRf1okEsi5dOk6Oju7zHP+xvXbOHny3IQAxgqx+uTf87BwwQo8fZqN4aFhk1Pn+fManD59EYWFJQYOhQM5PM/IyIhjYognv+t8LhAyuTXxWXT8+HHjVcmOslt2DA4OmvcQ4YVbNlj18k8Jvtdok7XOjTltYL44vvuC6u/thq+pBqM1JRhtqMJotxe+4SH4fCPB+06zfdH7loMZ8DdAkB3WuTOu48XqvwALfoPxjGsYHQhhs7XvFOfUgaHQtGdCO6Z47mjPRzsYFu3md4Y2s33QS5i/e6K9hpncn88x2sHvjD5SQApIASkgBV4HBVwFOVPtEBO2EKgQ0kz1HJMdxx8lTFBMoDFVzxQeG3g8yzwvfxBOZkOstlvXGm92xer6VU/8gZlo70kigRwrlMoKtaKXzmSeNAQxly5dM3lwiotKzfPj7NlLSE/PNM9BniMcyOF3m6CbHR1rItS9c+eOASjssLs10euR0J5QiTa6ZQc7pPSWJAR3ywarXt4beljSJmudG3OG7hK0WWAp0Ibm2mq0FueiLTcDnvxMtFSWorm+bsZt5h891IRepIE2WOWW6gr0fbsZL/7za/hW/xUdaddn3BbqwHZKe6x63ZrTDnoQ8/vslg2sl3988Q8h/lHmph0Mr+cfVwI5r0PXRdcoBaSAFJACVCAhQU60nTztn/gddd1D3cNwbSARQA5hjD2Uiv9G20OtJnsllZdXYeWKjXjw4DHy8oqwc8cB3Lx5F/n5Rdi4cQfWrNmC7Ow847ETeC5Cb/5jbZ/YAWOOLP6zTy8Ut6b09HSkpKSYjjrtc8sOejdYsMAtG6x62TEmUKJN1jo35rSBsMAajTGUDe3NjfBWlaCzKAudRdnoeF6G9uamGbWbHXRqwnDhUDZY67pKcuDbMx+Y+zMM7ZoHb/4TtHlawx5jHRvJnDrQw5beQZHsP5v70A56Crv5neH1sX0QohDizOb1TnZuPscI2gRyAp/+KksBKSAFpECyKiCQYwthCtdR1DaBBLWB+G0DiQByskoBxwAAIABJREFU+BJJTU3D4UMnwLAoeuUdPHgcV6/eAocQt3+s3Djt7V4TrsDRqVJTH2LTpp0oKChGWloG5s5djLff+hBv/ekD/Oynv8NPf/IG1q7Zivr6RvupJlxWjhynNMqR49SDJXae+d1i+E7Yz6gP6GoDmquBxiqg0wP4hmdsRCuCSHqe0Ht00k/pU2DrJ8AXPwau7AO6OyY9JNIdlCMnWCm2D4Z8E0y7+aHXIWGSQI6bd0F1SwEpIAWkQCwVEMgRyImbEC+BkvgFJfF+bxIF5DCEauPGnTh16oIZXnz16s148uSZSVxMWNPW1oGenl6Ty+a7725h//6jBtrQ04bDix9LOWWGI7e/JCzPnnChVfb9rWWBHEsJ/1wgx6kHSxGDHO48NgZwKPCWGn8S5I5mYGRoRmBOVCCHtjy+Aqz4M7DkTSDrNjAyCYgKvvSQawRygmURyAnWRGukgBSQAlJACsRCAYEcgRyBHLWBhG8DiQJy+FB//DjzpTfN+fNXDbjh+qGhIbCcnv7UjEzF8skTZ/HRR58bz5tNm3aF9LaxEiJfuXIjCPKEe4kI5DjVEchx6sFSVCCHB7x4AfR1A621fpjT3gQMD04b5kQNcjiK1tmtwNe/9HvnlGcBY9P3GBHICW4jAjnBmmiNFJACUkAKSIFYKCCQo058wnfi491bRPbNvqdRIoGcWDzYI6lDIMepkkCOUw+WogY5PGh8HBjoBTz1fpjDYco5XPk0hiePGuTQjrpSYM/XwJc/BY4uB5qq/KAp+DIjXiOQEyyVQE6wJlojBaSAFJACUiAWCgjkCOQI5KgNJHwbEMiJ/nUhkOPUTCDHqQdLUwI51mkIbwhxGiqA1jqAXjJThDlTAjm0I+8hsOFj4IufANcOAb1ey7opzQVygmUTyAnWRGukgBSQAlJACsRCAYEcdeITvhMvj5fZ93iJd40FcqJ/XQjkODUTyHHqwdK0QA5PMDwAtDUCDZVASy0w0AO8GAuuaJI1UwY5PO+9s/5cOcvfBnLu+ZMwT1LfRJsFcoKVEcgJ1kRrpIAUkAJSQArEQgGBHIEcgRy1gYRvAwI50b8uBHKcmgnkOPVgadoghydhwmPmymms9I9q1dv5Q76a8eAKJ1gzLZBDmHRqI/DV/wDbPwcqcoCx0QlqCr9aICdYH4GcYE20RgpIASkgBaRALBQQyFEnPuE78fHuLSL7Zt9jSCAn+teFQI5TM4Ecpx4szQjI4Yl8I4C31Z+npuk50N0OjI5EnAR5WiCH9deX+/PlMMTq2Go/UJpCmJdATnAbEcgJ1kRrpIAUkAJSQArEQgGBHIEcgRy1gYRvAwI50b8uBHKcmgnkOPVgacZADk826gO62vwQpbEK6Gz1hzkxOfIkn2mDHJ4/+y6w9q/AvJ8Dt44B9AyK8iOQEyyYQE6wJlojBaSAFJACUiAWCgjkqBOf8J14ebzMvsdLvGsskBP960Igx6mZQI5TD5ZmFOTwhGNjQI8XaKnxJ0HuaAZGJh+efEZADusnwFn4BrDyXSDvQdT5cgRygtuIQE6wJlojBaSAFJACUiAWCgjkCOQI5KgNJHwbEMiJ/nUhkOPUTCDHqQdLMw5yeNIXL4C+bqC11g9zmAyZeWzCeObMGMhhvp7Tm/z5cnbMAYqfAMODHDM9+OJDrBHICRZFICdYE62RAlJACkgBKRALBQRy1IlP+E58vHuLyL7Z9xgSyAn/uhgdHcXIyIhjqqioQGZmJjweD3w+n2tTbm4ujh8/jpKSErCj7JYtg4ODKC8vN/DCLRusemtqatDU1ATaZK1zY04b6uvr0dfXN7N2jIzA1+2Fr/E5RmtKMNpUA19vN3wjoe9/R0cHqqur0dXVNX07WN++hRif+99maPLxp99jrKsdvgjaHnWorKwE7XHjftjrpB0tLS2ufmdoD9tHQ0MD+vv7XdWEzzHawe+MPlJACkgBKSAFXgcFBHKSEOR4vV7z46qqqsr86OQPPk2hNaBXAjsr/MdXwGX2gctsaSyQE/511dnZicbGRtPRYWeHU1ZWFu7cuWMACr8Dbk1paWk4evSogUq0yy072CHNyMhAaWmpazZY1857U1hYaJ7j1jo35gUFBSBos8DSTNvQXF0JT1E22nLT4SnMQvPzSjQ1BrcBAjZqwvfYTNjQlp2GwT0L8GLezzG2+PfoPbMDnoJnaKqvC3t+6kD4WVZWFna/mbBxsnPQjqKiIvNdnmzf2dyel5eH/Px81NbWuqoJQTDf5wI54d8F2ioFpIAUkALJo4BATpKBHEKc+/fvY/PmzZg/fz7mzp2rKYwGixYtwsGDB80PYsEcgZzkebQ7r4Rtm/9Y2yd2wFJTU0HPHPv6WC+np6cjJSXFdNRbW1tds4XeDRYsiLUGgfWxY0ygRJsCt8WyTBssWDBb9bY31sFbXgBvwVN4i3PQXlsFT0uz47rZQbdgwUzZ0VFTiZGTG4BFv8X4V/+Dgf1L0JH1EJ6mBkfd9voIQ3NycgwwsK93Yzk7O9sAJTe/M7xuto/i4mIDcdzQwaqTzzGCNoEc57NfJSkgBaSAFEheBQRykgzksFO0Zs0awZsw8CYU3Nq/f7/5cT5bHiM67+xCInnkRP+SUo4cp2bKkePUg6VZyZETXA3A3DXtTUBjpX9UK44oxVGufshdM2M5cgLrZh2pp4E17wNf/hTY/RVQ+nTCnD3KkRMoIKAcOcGaaI0UkAJSQApIgVgoIJCTZCDn1KlT8sSJEuIQ7NAzh/+0CrjMLnCZLX0FcqJ/XQjkODUTyHHqwVLMQA4r840A3lagqQpoeg50twOjIyYJ8qyBHOuS8x8CTH78lT9vDp7e8o+u9WLM2sPMBXIccpiCQE6wJlojBaSAFJACUiAWCgjkJBnIOXLkiLxxpgByCHOePn0qkJOg3weBnOhfFwI5Ts0Ecpx6sBRTkMMK6SHT1eb3ymmsAjpbjbdOT1cXGurrTULdYCtnaE1NMXBwMTDv58A3fwSuHwFaaoExegb5PwI5lhKv5gI5r7TQkhSQAlJACkiBWCogkJOgHdeJPBsEcqaeE0ggJzG9cfhdEMiJ/rUhkOPUTCDHqQdLMQc5rHRszO8N01Lzw/DkDehtrkNjdRUGenvCDlMefAVRriG4ObYKWPBrYN4vgOOrgeoiv7cQYEaIYlJfegi5/WE+GI6e9YLDubv4EchxUXxVLQWkgBSQAq+1AgI5Ajny4PnBg0cgRyDndXobCOQ477ZAjlMPllwBOayYcKKvG2itM3lz+sty0ZL3BIPNdf78NWOjwPgsAQx6BF0/DKx8F/jiJ8CuuUBJJjDQi+GhQTM6k0DOq7YikPNKCy1JASkgBaSAFIilAgI5AjkCOQI5CR9SJo+c6F8bAjlOzQRynHqw5BrIYeXj48DQANDpQd/zYrTmPMZgRb4/f05HC9Df6/eUMXlsxoONn86a4QEg4xqw6R/+JMjrPwTufIuR6hLUlZegp7t7OmefkWPlkeOUsbOz04ycpVGrnLqoJAWkgBSQAsmrgECOQI5AjkCOQE6cPONHR0fR2NiM0lIOpVtn7ss4O7QhPv39A6iurkVxcRkqK6vR29uHifYNcbgZpY3DbbMD5OanoKAAx48fR3l5uathIgI5wa3AVZBjmTM+jt72NjSXFmKwpswPchoq/CNctTUAvV7/qFfGSyf0d8U6VdTzwsfAzi+B+b8yQOfF1k/RdukgBp6X+Ouc4LsZdT1TOEAgxymaQI5TD5WkgBSQAlIg+RUQyBHIEcgRyBHIiYNnPSFMZeVzLF++Hm+/9SE+/XQ+0tIyMDQ0HGTd8PAI7ty5j88+m4+3/vQB/vbXT3Dlyg2TuyNSmCOPHKesAjlOPViKC5ADmHbd0NCA/u5OoK8LIMDhyFYNlUB9OcB8Op0eYKjfnzCZeXZmCrLUlgCXdgPrPjR5c17M/R+M7/kayLrjHzKdo2258BHIcYoukOPUQyUpIAWkgBRIfgUEcgRyBHIEcgRy4uBZPzg4hEOHTiAl5RQaGppw6dI1HDhwDLW19UGeNvTa4bZnz3JBL57U1DQsW7YOT59mg0Aiko9AjlMlgRynHizFHcjp7/cbSe+bgV6goxlorvF75xDocKQrT71/5Ctu9w0D3He6CYF5jopcvPh2A0aX/xnjc38GLPgNcGQZUJjur48jbsXwI5DjFFsgx6mHSlJACkgBKZD8CgjkCOQI5AjkCOTEwbO+paUVq1dvxrVr32NgYBDPn9di27a9EcEZhletWrkJjx49MWAnkssRyHGqJJDj1IOluAU5lqkENPTCoTcOEyPbvXQYfkVPHW8L0NsFDA/6vXWYU2eK3jojvd3oePAdhvYuBJa/DRDoLPk9cHIdUJblH22L0CcGH4Ecp8gCOU49VJICUkAKSIHkV0AgRyBHIEcgRyAnDp71BDerV23GgweP4fP5jCfOqlWbcO9emimHMpEhVvTYOXzoBHbvPoTamvpQu4VcJ5DjlEUgx6kHS3EPciyTCWZGhv0jXXW2+qFOc7XfQ4dAh946hDxtjUB3hx/+MCSK0CWK0a+Gh4f9o1Y1NwC594H9C4Clf/AnRCbYObcNqMwDejr83kBTBEbWZYWbC+Q41RHIceqhkhSQAlJACiS/AgI5AjkCOQI5Ajlx8KwnyNm16yCys/NMeJTH04bt2/eZPDkEO6E+DLFauWIj3v/Lv5By9Fs0NbWETBjM8KuRkRHHVFFRgczMTHg8HgOKWIcbU25urkl2XFJSAnaU3bCBdXK0GyZcJrxwywarXnbSm5qajE3WOjfmtKG+vh59fX2uatLR0YHq6mp0dXVFZsfQAHw9nfC1N8PXVA1ffQV8tWUYrSnBaHUxRmtLMdr4HKNtTRjt8WJ0oB++oUH4Rtj+RiasgzpUVlaC9pj7wfM/uoLR7XMwtuA3GOdw5aveA85sBvIe4EVLLcZox/DQhOec6n2lHS0tLa5+Z2g724fJX9TfP+PXGI02fI7RDo1aFepNoXVSQApIASmQjAokHcjp6elBY2MjqqqqzA8u/uvc2tqK3t5e8yOwrq7OrOePoMCJP4q6u7vND2jreGsflvlDgefnj1v7di7zBwR/ZA64DIaOHDkSFswsXLgQ69atw9atW19OW7ZsMesWLVqEr776CkuXLsXGjRtfbrf23bx5M5YtW4bly5djw4YNWLlyJb7++usJ6+O2VatWmXN98803mDdvHv7zn/9gzZo1YJ3Wee1zqw6emzZY9XF59erVmD9/vqM+2sJtnLMuHm8/H5c3bdoEXtvcH4DNRPOnT5+6fv/cbj+JWn8yDD8eGErFUKstW3bj4cN000EK9wJiTp2lS9bgzOmL6OnpDdqV/1bzucjnlDVxxKo7d+6AAIXPNLemtLQ0HD161EAl2uaWHeyQZmRkoLS01DUbrGvnvSksLDSdZGudG3OOKEbQZoElN2xgnQRs1ITv46htaGxAc81ztFSWorUkH56CZ/DkZaItNwNtOY/N5Cl4itbSArRUlaO5thpN9XVoamRbbHTURx0IP8vKyhzrW4vz0H31CIY3/gtjC3+L8S9/hhfzfo7hTf9C79mdaM9MRWtZobHDf97pf99oR1FRkfk+R63JDH7f8/LykJ+fbzyV3LSDzzH+3hPICXr8a4UUkAJSQAokqQJJBXL4b1lxcbH5d5egwOrUX7x40bzgCVw4zC0hxNq1a03nnqBg/fr1Zt3t27fNj5ETJ05gxYoVBm5wX04836NHj0xnKHA76zl8+LD5oen1el2FAZOBnF27dr38sUNoRXvZyautrcXZs2cNxDl//rz5x5Gdem7jPpz4I43bbty4YeDYw4cPDTyZCIwQ2OTk5BjAdfPmTQNlqHt6erqBYjwnf3TRW4CgzV4HO3cEZ9evX8fVq1fBjjp/LBLaWPURCt2/fx/t7e347rvvzP0haOvv73fYzWvbvXv3y+Os4wPnAjkDrrbd6UCkZAA5DJGyh1IFhlqFewfR2+bIkZNmam5uDdqV3wt+n+wTO2CpqamgZ459fayX+TxISUkxz09C91jXb9VHkG/BAmudW3M+6wiUaJNbNrBe2mDBAjftYAfdggXTtaOtuQnt9TXoeF4Gb1k+vMXZ8BY9g7cgE978J/AWZaOjogjtNZVoa6iDp7kJnlb/fSAM5TuN9oSyo7M0H/23T2P04GKMr/6LPyHyFz/B2OI3MbBvETpvfou2vCfwPK+Ap7k55DlCnTfUuuzsbAOU3PzO0C62D/7u4u+DUHbGah2fYwRtAjlBj3+tkAJSQApIgSRVIKlADjtz7BAQSNDzhmCHL/cDBw7g2rVr5ocGXaLpOs9/+A4ePGigBP+J5Tp61HBOUHPhwgXzY41layL4IDQI3M7jL1++jL1795ofm6x3Op3S6RwbKcjhD1FeIzUgKLH+rd+3b59Zzx9f7NTwWrkPJ26jpwzBGH88TgZyaAvvw9DQkOkQEIbRo4bga//+/eac7ExSX8Ihex2EarSBIIf78ocideYyPXsIYXbs2GHuI0ENAdWtW7fMuQiB2A4su/fs2WMAVSC4CSwL5AjkuPmc7+joNKFVHFa8v38ABQXFJu8N5y8CRt1hbpzm5hb09vaZEa06OrxYt24bzp29jO7unogug88AfscJa9380OuDgJ3P5MDrjKVdypETrDafzXyvMuTNzQ9BJL21COln9MMR3pgsmTltmD+HI2A1VQFWXh3m2eHIWL2dJlnycH8fap9XoaerC8D4xKaMDAHVBcCtY8COOcA3fwK+/qU/OfLGfwBX9gEVOYC31T/6FhMwR/khtODvGTe/MzSZ7YO/BxgG5eaHzzHCJIEcN++C6pYCUkAKSIFYKpBUIIceN4Q29+7dM94dBCL09CBwICggCLAgCZfpzs/QAv4YstZzmfCCcIP/hlrrrflE2wkT6JVDDxF6llj7x3oeKchhp4lhRxbMoGYEJ4Rg9G4JB2rolRNuO89JYEMYYwEi/gin3oGhWA8ePDDn4n2zbOGcUMYCOQzLokcP6+R9ZJn70Fb+iGQ4BL1/Ao+xny+SZYEcgZxYPnwD66Jn2pUrNwy8Sb37ELt3HcS3356Hx9NuYI3X24murm6TP4e5cbZu3YszZy4hP78IFy9+hxXLNyAzM1ujVgUKG2FZICdYqKQHOfZLJiwdHvJDG8KbllrnKFiNlRipr0RDQRb6muqB4QFg9IeEyQa0TgB2utuBvIf+RMib/gEs/p0f6HB+YDFw51ugMtcPknq8/qTNESRJFsix3zwYIC2Q49REJSkgBaSAFEhuBZIK5LCjf+bMGQNi6HZMeMB/afgvXiBQmQzknDt3zhEHz3PzX8FQIIfnp+fPoUOHQDCRSCCH4UnML/PkyRMDRU6ePIkrV64YiPLs2TPjhWOFlzEHDfePBOTQ64Yu14xbpybUmyEUBC52qBIpyCEEonePFV61YMECc17CNgId5sCxPHII7uihY9nNMLnA3Dp2G6xlgRyBHLcf952dXQbgvP/+v7Dsm3UoLa0w/7gT8ly/fhv37z9+mQOHQ44vWrQKb7/1If7+8RzcvfsAg4NDEV+CPHKcUgnkOPVg6bUCOfbLJ0jxDQP93X6vGQ5t3lwNX00pmp8+RH9pDtBYCbTW/jC8ud9jB9ZIWBOBHe7/6DJwcIk/KfKC3wBMkDz/V8CWf/thT9Ydv0cQR98a7AMm8NYRyLHfMIEcpxoqSQEpIAWkwOugQFKBHAuo0KOG3ib0TmGnnh2WwETEk4Gc7du3GyBESMCJnjv8t8cCOadOnQLDgph8kXkEGG5EkEN4kQihVfQg4jUwpIFJEwmqGGZB+EFQwxAyXit1IkDh9PjxY5NPKBKQQ83ojcMcHAyHIoDhfWCYExMqW/AkUpBDAGTBOerM8xCeUXvLs4ggh/eZtlt288cu7x0TJVt1TjQXyBHIeR0e+tY1CuRYSvjnAjlOPVh6bUFOoBQcpnyoHyMdrWgsyEbf85IfwrCe+4EOQ7EaKv1ePN4Wv1fP0IAfBo36/DDG7mXDbRym/PvjwN6v/VBn0RvA3P8GPv8vfyjWoaXAvTNAVb7fW6evCwYU/XAegRznTVJolVMPlaSAFJACUiD5FUgqkGN53TCciqFDzFvDPCpMdEsIwBw31j6TgZxjx46ZkB0CCE48Hz1tLJBjT4bMUZGYj4WjewQCI6u+WM0jDa2iPQxdIvRgTDnD0ujFwvwzBDX8AU9IxVAxhkhxIvih985kIIcjYzExNM9PwEV9rDLvyZIlS15ClUhBDuELj2UoFcHM3bt3zTJDwpi3h9sJcnh/mE+HAIk2f//99+C9tMKxJoI4XC+QI5CT/I/8V1cokPNKCy4J5Dj1YEkgx6kJcwXxTxCTI4d5cOix09XmBy0MxWJOncaAHDvtjQDDqwZ6AR4TGI7FHD3VRcD9c8CRZcC6D4Alvwfm/Rz4/EfAvF8AWz4Bruw1Q5qjvhxob0R9UR68zY14Qcjk4kc5clwUX1VLASkgBaTAa61AUoEcduL5o8IOUxh68+2335qQK3qVWEBlMpAzWY4cKxkyQYg1UpJ1bjfnkYIcK0fOzp07TQhZdXW18ZxhDpvJQM1k2+mBw/PxHzJ65VB3ejPRU8kKjbKASjQgh8mWCZysYUYZOkeAZiU/Vo6cxAUx0/3O8Hs/44lQk/zVIJDjvMECOU49WBLIcWryEuT0hEgo/oPXDpjnhjl2fgjHciRPJuTheiY5ZgLlQK8dhmY1PQcyrgGnNgDMqbP0D/5EyXN+DHz2//wjYW37DN0Hl2HgzhmMV+b7z9nl8cOiGIMdgRxnG1FJCkgBKSAFpECsFEgqkEOvG+Z4oWeM5X3DOZP3MoSIEMDqME4X5EwEeqzzuzWPFuQQqFAfes/Qa4YhSJOBmnDbCYI40hTPR2hD7xl6xnDOjiPBDkOjrKTH0YCcpUuXmvAunpteVxztht4+FhQSyBHIidWDMxnqEchx3kWBHKceLAnkODUJC3Kcu9LFyw9qekOBnUoYzxp619CLp70J6O6wee34AAKZtgYg+y5wYSew7VNg5Tt+bx3m1GFuHYKdL38GrHkfSFkB3DkJFGf6vYLMaFtef1LmgFHvAk2dTlkgZzrq6VgpIAWkgBSQAlNXIKlADj00GP7DiVCHOVSYsJdeG9aoRxZgmQzk8BxWDhyGGHGidw8hQrhRrazzuzWfCsjZtm3by+G9OfIWQ5h4nQRihC7MQcOJw4czjOnSpUshtxOqcD/qxnvBPDYWZOGcx1FDhmtZ4VDRgByeg7l32Lmg94V9BCtuI8ihhxRz+dAryLKbiZeXLVv20nPHbpN9WaFViQuC5JET/UtAIMepmUCOUw+WBHKcmkQFcpyH+vPkcKSrvk5/gmTjscPhzplnxxaOxWVPPdDpAfq6zbDnJjcOw7OYL+fxVeDiTgxv/QyjK9/z59Nh0mQrvw7hDkOzds0FLuwAHl/x5+Ph0Oq2odQRDdxhSBhDyGgzJ3r/0HtIw48H3mWVpYAUkAJSQArETIGkAjns3BPQcNQlJiveuHGj6czTe4ZggdstwMKOH/fjaE32UaYYDnTt2jVzPAGAfWJeFp6f2wkg+CPXOl+8zCcDObweXrOVuNgCGQRXhYWF5toIXJhnhprZJyZXpJbMexNqOxMP0xuHSZOZu2bt2rUOkMN8RYQlaWlpJmky6+Y9oOcOt1m2cE5gw/WnT5925NSh/Rz9ipCJoCbwGIaM2W3mMiFc4Hnsx1nLAjkCOTF78sZBRQI5zpsgkOPUgyWBHKcm0wI5zlP5wY6VZ4eQhrl0OKoVgYsd7jCRcssPEIb7MenxYB/qyorhLcrCeNZd4Pph4PBSYOPfQ3vtMNfON38C9s4HLu0GMq77oRDPy+TMPOfwYOgRsjhyVt4DIGWl3/Nn9Q/eP8VPjLePPHICb6zKUkAKSAEpIAVio0BSgRw7TGHeGkIZhuDY1yf78mQgx4IWms91QCDqIZAjkBObx2581CKQ47wPAjlOPVgSyHFqMqMgx3lqf4lDjU8KdyrN8ORNmffRVZyDcSZZZmgWPXjoyVP2DHh4ATi7Fdj5BbDmr8Cyt4BFv3Pm2mFo1oo/A/sXAlf2AU+uAxW5/lAveu4w1w/z+Dy86N+Pnj72icfmpKK5rsaMeunz+UJdUczWadSqmEmtiqSAFJACUiBOFEhakJPswGai6xPICQY0kUIrgRyBnDh5LsfEDIEcp8wCOU49WBLIcWoy6yDHWZ2/9BLu9AA9HUBnq/HeacpJR1dpLsbpvWOmqldDoTP3DkO0CHlqS4Dc+8Cdb/0JlLd+4h/u/Js/Agt/6x8Vy0qkPIeeO38Edn8FnN1iQrhMXh47wLEvb/0EzRl3BXJC3TetkwJSQApIASkwywoI5Awkbuc1FMwRyBHICdUukn2dcuSEf1OMjo5iZGTEMTGHWGZmpsl3xX/T3ZoYJslk9ByNjh1lt+wYHBwEQzMJL9yywaqXYawc6Y82WevcmNMGhhNzxEE36rfq5IiUHAmRI1Ja69yYUweG6tIeN+q311lZUYGWhnoM93TB1+2Fr8MDn6cRvuZa+Bqq4KuvgK+uHL7aMvhqSjFaXYLR6mKM1pZitOQZRtOvYfTqQYweWY7R9X/H6LK3Mbb4TYwt+A1ezPsFxr/4KfD5fzm9cOwQ54flxqvH0PhD6LrdvlgvM68fQ6n5ndFHCkgBKSAFpMDroIBAjkBOUIhRpB4sybafPHISF2oK5IR/XTHsgCPG2fNHMZcVR5MjQGGH3a2JObOOHj1qoBLtc8sOAouMjAww15dbNlj18t4wZxltsta5MefIgARtFlhywwbWScBGTQhR3LKB9VIHws+ysjJX7aAttKOoqMh8p4M0aWxEU30dmmuq0FJVitayQniKcuApeAZP/lN48jPhyctAW2462nIem6k9/TY6b59Fz4U96D+yEsNbPsXY4t9j3PLWCQFxGGpVcWIHCnJzUFvXi2G9AAAdV0lEQVRb66omfI7Ry1AgJ/y7QFulgBSQAlIgeRQQyBHIEciZ6/fiEcgRyEmeR7vzSpgzjP9Y2yeOLpeammpG97Ovj/Uyk5enpKSYjnpra6vDxljawhH1LFgQy3pD1cVE7wRK1kiJofaJxTraYMGCWNQ3UR3soFMTwoKJ9onFesLQnJwcAwxiUV+4OjgyJ4FSNN+ZttYWtDc1oqO+Bh01FeioLIG3LB/eklx4i3PgLc6Gt+gZvIVP4S3IxMCF3Xix5M2JvXLm/QKVF46YwQ8Ik8LZO9vb6GFI0CaQ43z2qyQFpIAUkALJq4BAjkCOQI5ATsInBJdHTvQvKeXIcWqmHDlOPVhSjhynJq7kyHGa8LJEaMEQrxfRDCP+8uiAhbExYHgIGGAeHi/gbQU8DUBxhn8Y8y9/GgxzmCz5yDI056QrR06AnCpKASkgBaSAFIiFAgI5AjkCOQI5AjmxeNrGWR0COc4bIpDj1IMlgRynJkkLcpyX+ao0/gLIfwjs+AKY/yvgix/78+bM/yWwfQ5QloXmhnqBnFeKaUkKSAEpIAWkQMwUEMgRyBHIEcgRyInZIzd+KhLIcd4LgRynHiwJ5Dg1ee1AjnX5NSX+Ico5mhVHvbq40z8q1osx0BuS4V1MbuzmR8OPu6m+6pYCUkAKSAE3FBDIEcgRyBHIEchx4+nrcp0COc4bIJDj1IMlgRynJq8tyHHK4CgJ5DjkUEEKSAEpIAWkQMwUEMgRyBHIEcgRyInZIzd+KhLIcd4LgRynHiwJ5Dg1Echx6sGSQE6wJlojBaSAFJACUiAWCgjkJBnI4egvX331leDMD3Am0iHS582bh2fPniU80BhIsvYc6fUo2XH0rwuBHKdmAjlOPVgSyHFqIpDj1IMlgZxgTbRGCkgBKSAFpEAsFBDISbKO7+XLl7F48WKBnChBzqpVq1BYWCiQk6Dfh0QCOd3dPaiqqkZxcRna2jpAgBDqMzo6isbGZpSWVph96+sbMTw0/HJXjlbT2tqGsrLKSc/18iDbgkCOTQzA3Adq0tXV5dzgQqmhocFAlInaRqxMEshxKi2Q49SDJYGcYE20RgpIASkgBaRALBQQyEnQjutEngrFxcXYu3cvFi5cKM+cCGAOPXGWLFmCixcvoqmpSSAnQb8PiQJyhodHcO7sZXz80Ry88dt3sWPHfgNrxsfHHc97QprS0nKsXLER777zd/zxj3/D1/OWIisr1yQV5f6EPJs27sR77/4Db/7+fezceQCEPZEORyyQ45BcIMcphykJ5DhFEchx6sGSQE6wJlojBaSAFJACUiAWCgjkJGjHdSKQw/WEOadPn8b27duxefNmTWE02L17N27cuCGIk+Dfg0QBOfTCWbVyEx49eoKamjqsW7sVt2/fx5DN04YP/qGhIZw8cRa3bqWip6fXlHfvOogd2/cbWDM4OISjR7/Frp0HUVfbgM7OLhw58i0ePkwHt0XyEchxqqTQKqceLAnkODURyHHqwZJATrAmWiMFpIAUkAJSIBYKCOQkeAc2HNDRtgF52Lwm7TsRQA69aK5euWm8cKqqaoxnzfHjZ3D+/BV0dHgnfd7fuH4b27buRUXFczQ0NGHbtr14/DhzysP+CuQ4JRfIcerBkkCOUxOBHKceLAnkBGuiNVJACkgBKSAFYqGAQM5r0tEV1BHUSeY2kAggx+fzgeAmJeUUmptbwRw4p06dx+HDJ02YVLgHPvc9e+YSdu44gOrqWjx7loPNm3fjwYPHqKioUo6ccOJFuE0gJ1gogRynJgI5Tj1YEsgJ1kRrpIAUkAJSQArEQgGBHIEcea2oDSR8G0gkkHPp0nUTCsUHPL1sTp48FxbkWPlyFi1ciXPnrphQKwNyNu3C9m37MOfzBfjdG+9h69a9qKtrCJkjhyBoZGTEMVVUVCAzMxMej8d49RA0uTHl5ubi+PHjKCkpATvKbtjAOgcHB1FeXm68UNyywaq3pqbGhHvSJmudG3PmDauvr0dfX5+rdnR0dKC6utokonZDB6tO6lBZWQnaY61za047WlpaXP3O8NrZPpicu7+/31VN+ByjHfzO6CMFpIAUkAJS4HVQQCBHnfiE78Qns6eJri0yT6pEAjlWKJUVakUvHSYuDvUhxKmtrceG9dsNtGEyY34Icj788DMcO3bagB2GWi1dsgZnTl805cBzdXZ2orGx0XR02NnhlJWVhTt37hiAwg67W1NaWhqOHj1qoBLtcssOdkgzMjJQWlrqmg3WtfPecBQ92mStc2NeUFAAgjYLLLlhA+skYKMmhBdu2cB6qQPhZ1lZmat20BbaUVRUZL7LbmqSl5eH/Px81NbWuqoJQTDDRQVyAp/+KksBKSAFpECyKiCQI5AjkKM2kPBtIBFATmAoFf/NtodaBb5kLIizZfNuE1JlQRzul5OTj02bdiE7O8+MtjTZuXp6eoznDf+1tiZ2wFJTU0HPHGudG/P09HSkpKSYjnpra6trttC7wYIFbuhgr5MdYwIl2mRfH+tl2mDBgljXba+PHXQLFtjXx3qZMDQnJ8cAg1jXHVhfdna2AUpufmdoE9sHB1ggTAq0MZZlPscI2gRyAt8kKksBKSAFpECyKiCQo058wnfi5bUSmddKMuuUCCCHL5HU1DQcPnQCz5/XmHCVgweP4+rVW+ju7nG8Y+zDix9LOYW2tnbHdkIdDl3OZMcjIz4T1jDRuRwH2gpKdmwTA9Dw4045TEk5cpyiKEeOUw+W+OwlTCJMdvNDr0PCJIEcN++C6pYCUkAKSIFYKiCQI5AjkKM2kPBtIFFADkOoNm7ciVOnLuD69dtYvXoznjx5ZhIf0wOnra3DhEYx38SBAyn4z/xluHnzrklmzKHLOWQ5gRyHGGdYFRMnM8wqNfUh1q/fjszMbHOuSF4iAjlOlZTs2KkHSwI5Tk0Ecpx6sCSQE6yJ1kgBKSAFpIAUiIUCAjnqxCd8Jz6ZPU10bZF5GyUKyOFDnV40c+cuxttvfYjz56++zGkzNDRkyunpT9HU1Izduw7i/ff/ZfbjvpyWfbMOpaUVJqEx9z954iw++uhz/P3jObh794EBPJG+OARynEoJ5Dj1YEkgx6mJQI5TD5YEcoI10RopIAWkgBSQArFQQCBHIEcgR20g4dtAIoGcWDzYI6lDIMepkkCOUw+WBHKcmgjkOPVgSSAnWBOtkQJSQApIASkQCwUEctSJT/hOvLxWIvNaSWadBHKif10I5Dg1E8hx6sGSQI5TE4Ecpx4sCeQEa6I1UkAKSAEpIAVioYBAjkCOQI7aQMK3AYGc6F8XAjlOzQRynHqwJJDj1EQgx6kHSwI5wZpojRSQAlJACkiBWCggkKNOfMJ34pPZ00TXFpm3kUBO9K8LgRynZgI5Tj1YEshxaiKQ49SDJYGcYE20RgpIASkgBaRALBQQyBHIEchRG0j4NiCQE/3rQiDHqZlAjlMPlgRynJoI5Dj1YEkgJ1gTrZECUkAKSAEpEAsFBHLUiU/4Try8ViLzWklmnQRyon9dCOQ4NRPIcerBkkCOUxOBHKceLAnkBGuiNVJACkgBKSAFYqGAQI5AjkCO2kDCtwGBnOhfFwI5Ts0Ecpx6sCSQ49REIMepB0sCOcGaaI0UkAJSQApIgVgoIJCjTnzCd+KT2dNE1xaZt5FATvSvC4Ecp2YCOU49WBLIcWoikOPUgyWBnGBNtEYKSAEpIAWkQCwUEMgRyBHIURtI+DYgkBP+dTE6OoqRkRHHVFFRgadPn6K1tRVDQ0OuTXl5eTh9+jRKSkpMO3TLlv7+fpSXl8Pj8bimhXXt1dXVaGpqAm2y1rkxb2xsRF1dHXp6ely1o729HdTE6/W6agd1qKqqAu1x437Y66ysrDQQhbDfvj7Wy2wfDQ0N6O3tddUOPsdox+DgYPiHobZKASkgBaSAFEgSBQRy1IlP+E68vFYi81pJZp0EcsK/kTo7O8FOOTs61pSbm4v09HTk5+ejtLTUtYkw6e7du8jOznbNBl4/QdKzZ89c14O2UAsCLtrk5r2hDTk5OSguLnbVjoKCAqNJYWGhq3ZQh6ysLNAeN+8L62ZbjYc2wvbBZ4nbbYTPMXoZCuSEfxdoqxSQAlJACiSPAgI5AjkCOWoDCd8GBHLCv5ToSUBPE/tEDweCAnoY1NTUuDbRs4AddHoIuWkH9WAHnV45btrBuouKigwooE1u2kJgwA66222EbYOasK24qQdBQby0EQsmuakH62b74HOE2rhpS1lZmfHaEsgJ/y7QVikgBaSAFEgeBQRy1IlP+E58Mnua6Noi8zYSyIn+pdTR0REXoQgMH2IHkKEZbn6YI4eggN5Lbn8YrkLoxpA4Nz8MV2GIF3PDuPnp7u42IV5sK25+qAOBBe1x+0M7GOL14sULV01h+2hpaTFhm24aEi/PMzc1UN1SQApIASnweikgkCOQI5CjNpDwbUAgJ/oXV7x0fARygu+dQI5TE4Ecpx4sCeQ4NYmX55nTKpWkgBSQAlJACsyeAgI56sQnfCdeXiuRea0ks04COdG/JOKl4yOQE3zvBHKcmgjkOPVgSSDHqUm8PM+cVqkkBaSAFJACUmD2FBDIEcgRyFEbSPg2IJAT/UuCIwAxAbLbOSUIcurr69HX1xf9RczgEQytYohXPITN8L5w6G+3Q6viZfhx3hMm6Y6H0Kra2lozitcMNr0pnYqwj/DC7dAqhlUxBI+j4rn5iZfnmZsaqG4pIAWkgBR4vRQQyFEnPuE78cnsaaJri8zbSCAn+hcXwQk7P253wAiSmJfGbTsIcpgU2m07eCd5bzjRJjc/8dJG4sUOtg1CpXhpI/zujI+Pu9lETDulJj6fz3U74uF55qoIqlwKSAEpIAVeKwWSGuTw30T+s9nV1fUSVvAfLK5jx8HqJPPlz3/7OLfW8Qc91/GfJibhtNZzzvNxGxMN8h9C+zaW+Q8VO5Y8h32bliPrlEsn6RRtGxDIea3eW7pYKSAFpIAUkAJSQApIASnwWiuQ1CAnLS0NKSkpZmhMAhZODx8+xL59+5Cbm/sS0Dx9+hRHjhxBfn6++XeJnUiOXrJnzx6cO3fOgB97x5LD0x44cADp6enm3zn7Nv4zdeXKFZw5cwZ0wbZv07IAhdrA7LQBgZzX+j2mi5cCUkAKSAEpIAWkgBSQAq+VAkkNcsrKynD06FEQ1NA7hl44Fy9exJo1a3Dv3j3jgUOX7Zs3b+LUqVMmeSA72lz34MEDbN26Fdu3b0dBQcFLwMPtAjmz0xkX5JCuU20DAjmv1XtLFysFpIAUkAJSQApIASkgBV5rBZIa5LBzd+LECdy5c8eEQTEc6uTJk9i8eTOuXr1qPG0YakWIc/36dRMSxY6kx+PB6dOnDfQ5dOgQ7t+/b5IKWp1MgRwBB6staB4fbUEg57V+j+nipYAUkAJSQApIASkgBaTAa6VAUoMchjldvnzZhDoxL05eXp4BNJcuXcLZs2dBjx2GPx07dgyPHj16mTenqKjIAJ+cnBzcunUL58+fR3V19ct8OAI58dF5F0TRfbDagEBOYr63+vsHUF1di+LiMjQ3t85KwtRo6gi3r30b7W1r64gqGTFHoGpsbEZpaQVqaupM2O1EiWoj3Xd4eATNzS3o7e2LOOktRzlqbW1DWVklKiurwx472b6sv7a23ty/yc4VqoV2d/egqqraHD+ZnuH2td+bybQNZUfgunB1Be7LMu+j19uJrq7uqNpE4Lkive/243gP2traHe3JrsdU2upk991ev7VM2z2edvT19Ydsi1Npq9a5NZcCUkAKSAEpIAWCFUhqkMOcOAyRoldOaWkpvv/+e9y4ccOESjGHzbNnz5CVlWXy6DBnDkOqCH/onXPhwgVweE9CG+bZscKz2HEUyBFAsACC5vHRFgRygh/u8b6GHb+7dx/gk3/Pw+/eeA+rVm1CRcXzGR1OOZo6wu3LTuidO/fx2Wfz8dafPjD2bt26F3V1DRHZy45+ZeVzLF++Hm+/9SE+/XQ+0tIyMDQ0HHSbIt2Xne3s7HwsWLACqakPI4Zgra0ebN68C++9+w/87a+f4Nq1703nO8gQAOH2pV6ZmdmY8/kC/OHNv+Ljj+bgu+9umTDmiQCVvQ5qeu7sZXPcG799Fzt27DegK9Sx4fa135s//vFvRtt799IwMDBory7i5XB1hToJ7aVO27btNdfT2dkVardJ10V63+0noq2PH2di/frtyM7OMxDJrsdU2irPH+6+2+u3ltkWCgtLsHr1Zjx8mB7UFqfaVq3zay4FpIAUkAJSQAoEK5DUIIed7MLCQuNxw8THhDecc1QpJiS+e/euCbHi+ufPn5t/tOrr601enWvXrpl1THpMkMMyjxPIiY+OuwCK7oO9DQjkBD/c431NQ0MT1q7dips375oOPDvCly5dQ09P74yZHk0d4falJ82BA8fw7Fku2Gmtr280AOXs2cvmD4DJDB4cHMKhQyeQknIKrIfXyfPRmyUQXES6b0eHFxs2bMe77/w9YpDDDvXFC99h186DxhPqwf3H2LZ1L0qKy4LsmGxfXsfyZetw7twVc8/o+XHs2BnjccRjJ/tw/1UrN+HRoyfGQ2nd2q24fft+SLgVbt/y8iqsXLERDx48BofjPnfuMtat24ay0oqga5rMJm4PV1fg8WwLvId79hzG//7qLezfn4KpgpxI77tlA72GqN3HH88xMMwCOdNtq5Pdd6t+a07vn6ysPPxn/jK8/dZHIdviVNqqdX7NpYAUkAJSQApIgdAKJD3IYUgVPXKYB4chVByZisOJc/Qqhkzt37/feOBYHcHMzEzs3LkTzI3D8CtOu3fvNiNdlZSUmPAqeeQIItghgpbdbw/W9zf0Y05r41GB9PSn2LhxJ/LyCo1Xy43rt5Fy9JSBJDNlbzR1RLMvO6+bN+3Ct9+ej6jj3tLSarwV6P1CT5Hnz2uNB8fTp9lBoTiR7EuAkJaWjg3rt+PvH88J2XkOpSFDsKj56dMXTRiQx9OGrVv34P79R6Anh/0Tbl96EtGjiDCqqqrGflhEy4RXV6/cNF44PN7n8+H48TM4f/4K2Om3fybbNycn34AbaunXJQNbtuxGQUFxRN5S0dRl35fLDGkigCRIopdVpO0h8DwsR3Lf7celpqZhyeLVWLFiA775Zu1Ljxz7PlyOtq2Gu++BbYTn5/d3/vxlWL1qM76YszCoLU61rQZeh8pSQApIASkgBaSAU4GkBzldXV1gTpwtW7aY/DjWkOAVFRXG02b9+vUG6ni9XpPQmOCGCZEzMjIM9CH4oRfP3r17zX4c+Uogx/2Ou+CJ7oG9DQjkOB/siVAiuKFniAUCbn9/Dzu27zfhVTNlfzR1RLMvYQO9PhgaRM+IyT4EN+zo0muE0IJeHAwlYwgQy/ZPJPsyD8ypUxdw7bvv8c3StUGdZ/v57MsEN7T7+vXbBii1t/u9ehgSxQ6//RNuX75XCV4OHz6J3NyCiPLt2M9tgRt6KDE3Ejv7p06dN+ejR4n9M9m+3H/P7kO4fOk6cnPyjdfThQtXDWSxnyeS5cnqCjwHoQfbAr1wogF7gedhOZL7bj+O103vtWfPcrBhw44JQU60bTXcfQ9sI7SH+zMknTmSli9bH9QWp9pW7deqZSkgBaSAFJACUiBYgaQHOcyTw1Gn1q5dazxv2traTHgU5wQ2mzZtAvPj0EuHgObIkSN4/Pgx+EPV6ihaw5bb8+bs27fPhFsx9w7Drzgxp057e7sJ27KGPbe2VVVVmdGwmIfHOq/mghFqAzPTBgRygh/u8b6G4OTkyXMmrIq2skN6YH/KjIOcSOuI1B56JRCELF2yBk+ePDMQYjKt2Unftevgy842O7/bt+8zXi2hQE64fVk/vVnu3XuE3NzCkJ3niewJrJcd8717j5jwtsBOerh9LZCzd89hA4Y+/PAzk2/nypUbEeXIsYDJpUvXX3o0BepvXcNk+9Juet8wNOsv7/3ThLARKgyHyD9knXOi+WR1TXQcbZgJkBPuvk9UdziQM5W2Gu6+B7YRu01s44EgZzpt1X5uLUsBKSAFpIAUkALBCiQ9yGFHmbCFnjYENj09PQakWOFV9NaxRqRi8mPmziF0IQCyd7I54hX3JexhPh1rGHMOZW5NXEdwc+/ePROOZa3nfPv27UhPTwc9f+zn1fLMdOSl4+uto0BO8MM93tew424PpWJo0769R2Yc5ERaRyT2sGPK5LKffTofZ05fijifDzu5DMGxQqkYRsPwn1CJYcPtOzIyYpLKnj1zGbU19caLI7DzHO6+s5NuD6WiR8nOnQdx48adkB45E+1rgZw5cxaA940eNcy3s3z5hojglgVMrFAqK3yKXj4TeeSE2pd5ehjiRa8kux1bNk8ttCoau+w6zxTIibSN2OueCORMta1G00bsdgSCHN5TJkCealu1n1vLUkAKSAEpIAWkQLACrwXIUSf/9e7k6/4n//0XyAl+uMf7msBQKoIUe6jVTNgfTR2T7cuO8ZMnWfjyy0VgkuNokjIHhlKx02sPtbJfa7h9WSfDkU6cOIvsrDx8//09k5eEZeZrmSzJcGAoFTvt9lArux3h9uUfIoGhUOHOZT8vlwNDqSyAYoVa2fcPty9HDSP8OXTo+EsARDvWrNmCq1dvBsEp+3lDLYeriyFgE31mAuSEu+/UZ6JPKJAznbYa7r6HGwksEOQwefN02upE16v1UkAKSAEpIAWkgF8BgZyB5O/kCmToHid7GxDISbxXWn5+kRnth2Ex7HieP38Vp09dMEMfz9TVRFNHuH3ZwedQ20wu+/33qWAnNZpPR0enCa3iEObs9POad+8+FDIhb7h929s7sHvXQbz//r/MMOYctv3//t9fmmWeezK7hoaGcPjwCTNqVldXtxktiiFeBFS8Rvtnsn2ZbPfwoRN4/rzGjA7FXCgTnct+XmvZfjxDjg8ePI6rV2+FzDk00b7M/8JRqhiSZLeDw2BzNDSOYhXtZ6K6wuVCmgmQE+6+hwN0gSBnum11svs+kZ6BIId5g6bTVieqR+ulgBSQAlJACkgBvwICOQI5CvVSG0j4NiCQk3ivNHb02AE/evRb3L59z3hR3L37YFIYEc2VhquDoR9eb6cZvWlsbMzkapnIHobwfDV3sfFeeZLxzAxRzWGq6aURzlvCspWda+aPIbxJvfvQdHA5wpHH0252IQggpGFel8n2tc7JeWDn2b5tomWGIm3dssdozrCz/fuOoq62wexOoEbPHoJf6hNuX4ZA7dx5wAw/TghGr6BDB4+DXjKRfHg8R9Bi0mbmHCJ8sXIOBdoRbl9ruHCex7Jj69a9KC0tn9RDKZSd4eoKtMs6fiZATrj7HthWrXo5DwQ5022rPGe4+25vq3Y7JmuLk223n0vLUkAKSAEpIAWkwOQKCOSoE5/wnfhk9zbR9U3uUSWQM/nDPh73YCd80aJVxqOE4TGECDP9magOdpwJEO7ff/wyTGqife3r337rQ2Mv59HYbPdQWPbNOpSWVrwEDTz/pUvXXg69Hm5fuz6EDhwC/Nmz3CCPGvt+9mV6XJw8cRYfffS5CcuyH8vzMWzMsi3cvjwn9+fQ29Qi8JrsdU60zHxDc+cuNsfTI8sKVwu0g8dPtG/gtqnYEWjfRHWFsovHWjrdupX68hoCzxlJeaL7HqqtWudj2zl27MzLezYTbdW6nlBtJLCtWnZQm3BtcbLt1nk0lwJSQApIASkgBSJTQCBHIEcgR20g4duAQE5kD3ztJQWkgBSQAlJACkgBKSAFpEDiKyCQo058wnfi5bEyucdKsmskkJP4LyNdgRSQAlJACkgBKSAFpIAUkAKRKSCQI5AjkKM2kPBtQCAnsge+9pICUkAKSAEpIAWkgBSQAlIg8RUQyFEnPuE78cnubaLrm9zjSCAn8V9GugIpIAWkgBSQAlJACkgBKSAFIlNAIEcgRyBHbSDh24BATmQPfO0lBaSAFJACUkAKSAEpIAWkQOIrIJCjTnzCd+LlsTK5x0qyaySQk/gvI12BFJACUkAKSAEpIAWkgBSQApEp8P8B8vSMDIEzxUUAAAAASUVORK5CYII=)"
      ]
    },
    {
      "cell_type": "code",
      "metadata": {
        "id": "LzPbWzYVQvxy",
        "colab_type": "code",
        "outputId": "450d4ea0-5f07-4a29-de23-71edc871f0f3",
        "colab": {
          "base_uri": "https://localhost:8080/",
          "height": 401
        }
      },
      "source": [
        "history = model.fit(dataset, epochs=EPOCHS, callbacks=[checkpoint_callback])\n",
        "tf.train.latest_checkpoint(checkpoint_dir)"
      ],
      "execution_count": 28,
      "outputs": [
        {
          "output_type": "stream",
          "text": [
            "Epoch 1/20\n",
            "5791/5791 [==============================] - 381s 66ms/step - loss: 1.0619 - accuracy: 0.6966\n",
            "Epoch 2/20\n",
            "5791/5791 [==============================] - 383s 66ms/step - loss: 0.7903 - accuracy: 0.7703\n",
            "Epoch 3/20\n",
            "5791/5791 [==============================] - 382s 66ms/step - loss: 0.7337 - accuracy: 0.7870\n",
            "Epoch 4/20\n",
            "5791/5791 [==============================] - 380s 66ms/step - loss: 0.7031 - accuracy: 0.7964\n",
            "Epoch 5/20\n",
            "5791/5791 [==============================] - 379s 66ms/step - loss: 0.6835 - accuracy: 0.8024\n",
            "Epoch 6/20\n",
            "5791/5791 [==============================] - 378s 65ms/step - loss: 0.6701 - accuracy: 0.8067\n",
            "Epoch 7/20\n",
            "5791/5791 [==============================] - 381s 66ms/step - loss: 0.6603 - accuracy: 0.8096\n",
            "Epoch 8/20\n",
            "5791/5791 [==============================] - 380s 66ms/step - loss: 0.6532 - accuracy: 0.8118\n",
            "Epoch 9/20\n",
            "5791/5791 [==============================] - 378s 65ms/step - loss: 0.6478 - accuracy: 0.8135\n",
            "Epoch 10/20\n",
            "5099/5791 [=========================>....] - ETA: 45s - loss: 0.6397 - accuracy: 0.8159Buffered data was truncated after reaching the output size limit."
          ],
          "name": "stdout"
        }
      ]
    },
    {
      "cell_type": "code",
      "metadata": {
        "id": "phsVeTgqQyTl",
        "colab_type": "code",
        "colab": {}
      },
      "source": [
        "model = build_model(vocab_size, embedding_dim, rnn_units, batch_size=1)\n",
        "\n",
        "model.load_weights(tf.train.latest_checkpoint(checkpoint_dir))\n",
        "\n",
        "model.build(tf.TensorShape([1, None]))"
      ],
      "execution_count": 0,
      "outputs": []
    },
    {
      "cell_type": "code",
      "metadata": {
        "id": "DtfO1iD0Qz3p",
        "colab_type": "code",
        "outputId": "94616725-f6db-4f54-f90e-efa93c461a9f",
        "colab": {
          "base_uri": "https://localhost:8080/",
          "height": 272
        }
      },
      "source": [
        "model.summary()"
      ],
      "execution_count": 42,
      "outputs": [
        {
          "output_type": "stream",
          "text": [
            "Model: \"sequential_2\"\n",
            "_________________________________________________________________\n",
            "Layer (type)                 Output Shape              Param #   \n",
            "=================================================================\n",
            "embedding_2 (Embedding)      (64, None, 256)           109824    \n",
            "_________________________________________________________________\n",
            "lstm_2 (LSTM)                (64, None, 1024)          5246976   \n",
            "_________________________________________________________________\n",
            "dense_2 (Dense)              (64, None, 429)           439725    \n",
            "=================================================================\n",
            "Total params: 5,796,525\n",
            "Trainable params: 5,796,525\n",
            "Non-trainable params: 0\n",
            "_________________________________________________________________\n"
          ],
          "name": "stdout"
        }
      ]
    },
    {
      "cell_type": "markdown",
      "metadata": {
        "id": "u4Ai2OMVq7So",
        "colab_type": "text"
      },
      "source": [
        "Choosing a start string, initializing the RNN state and setting the number of characters to generate.\n",
        "\n",
        "Get the prediction distribution of the next character using the start string and the RNN state.\n",
        "\n",
        "Then, use a categorical distribution to calculate the index of the predicted character. Use this predicted character as our next input to the model.\n",
        "\n",
        "The RNN state returned by the model is fed back into the model so that it now has more context, instead than only one character. After predicting the next character, the modified RNN states are again fed back into the model, which is how it learns as it gets more context from the previously predicted characters."
      ]
    },
    {
      "cell_type": "code",
      "metadata": {
        "id": "O0FYQxe6Q1QP",
        "colab_type": "code",
        "colab": {}
      },
      "source": [
        "def generate_text(model, start_string):\n",
        "  # Evaluation step (generating text using the learned model)\n",
        "\n",
        "  # Number of characters to generate\n",
        "  num_generate = 10000  \n",
        "\n",
        "  # Converting our start string to numbers (vectorizing)\n",
        "  input_eval = [char2idx[s] for s in start_string]\n",
        "  input_eval = tf.expand_dims(input_eval, 0)\n",
        "\n",
        "  # Empty string to store our results\n",
        "  text_generated = []\n",
        "\n",
        "  # Low temperatures results in more predictable text.\n",
        "  # Higher temperatures results in more surprising text.\n",
        "  \n",
        "  temperature = 1.0\n",
        "\n",
        "  # Here batch size == 1\n",
        "  model.reset_states()\n",
        "  for i in range(num_generate):\n",
        "      predictions = model(input_eval)\n",
        "      # remove the batch dimension\n",
        "      predictions = tf.squeeze(predictions, 0)\n",
        "\n",
        "      # using a categorical distribution to predict the character returned by the model\n",
        "      predictions = predictions / temperature\n",
        "      predicted_id = tf.random.categorical(predictions, num_samples=1)[-1,0].numpy()\n",
        "\n",
        "      # We pass the predicted character as the next input to the model\n",
        "      # along with the previous hidden state\n",
        "      input_eval = tf.expand_dims([predicted_id], 0)\n",
        "\n",
        "      text_generated.append(idx2char[predicted_id])\n",
        "\n",
        "      a = (start_string + ''.join(text_generated))\n",
        "  return a"
      ],
      "execution_count": 0,
      "outputs": []
    },
    {
      "cell_type": "code",
      "metadata": {
        "id": "YDTXL2XOQ4SI",
        "colab_type": "code",
        "colab": {
          "base_uri": "https://localhost:8080/",
          "height": 360
        },
        "outputId": "f76ca835-fd02-42b2-d088-c8f79926e341"
      },
      "source": [
        "output_file = open('output.txt','w+')\n",
        "t = generate_text(model, start_string=u\"The government: \")\n",
        "output_file.write(t)\n",
        "vocab_output = sorted(set(t))\n",
        "output_file.close() \n",
        "\n",
        "from google.colab import files\n",
        "files.download('output.txt') "
      ],
      "execution_count": 32,
      "outputs": [
        {
          "output_type": "error",
          "ename": "KeyboardInterrupt",
          "evalue": "ignored",
          "traceback": [
            "\u001b[0;31m---------------------------------------------------------------------------\u001b[0m",
            "\u001b[0;31mKeyboardInterrupt\u001b[0m                         Traceback (most recent call last)",
            "\u001b[0;32m<ipython-input-32-2b8a73d3c097>\u001b[0m in \u001b[0;36m<module>\u001b[0;34m()\u001b[0m\n\u001b[1;32m      6\u001b[0m \u001b[0;34m\u001b[0m\u001b[0m\n\u001b[1;32m      7\u001b[0m \u001b[0;32mfrom\u001b[0m \u001b[0mgoogle\u001b[0m\u001b[0;34m.\u001b[0m\u001b[0mcolab\u001b[0m \u001b[0;32mimport\u001b[0m \u001b[0mfiles\u001b[0m\u001b[0;34m\u001b[0m\u001b[0;34m\u001b[0m\u001b[0m\n\u001b[0;32m----> 8\u001b[0;31m \u001b[0mfiles\u001b[0m\u001b[0;34m.\u001b[0m\u001b[0mdownload\u001b[0m\u001b[0;34m(\u001b[0m\u001b[0;34m'output.txt'\u001b[0m\u001b[0;34m)\u001b[0m\u001b[0;34m\u001b[0m\u001b[0;34m\u001b[0m\u001b[0m\n\u001b[0m",
            "\u001b[0;32m/usr/local/lib/python3.6/dist-packages/google/colab/files.py\u001b[0m in \u001b[0;36mdownload\u001b[0;34m(filename)\u001b[0m\n\u001b[1;32m    176\u001b[0m       \u001b[0;34m'port'\u001b[0m\u001b[0;34m:\u001b[0m \u001b[0mport\u001b[0m\u001b[0;34m,\u001b[0m\u001b[0;34m\u001b[0m\u001b[0;34m\u001b[0m\u001b[0m\n\u001b[1;32m    177\u001b[0m       \u001b[0;34m'path'\u001b[0m\u001b[0;34m:\u001b[0m \u001b[0m_os\u001b[0m\u001b[0;34m.\u001b[0m\u001b[0mpath\u001b[0m\u001b[0;34m.\u001b[0m\u001b[0mabspath\u001b[0m\u001b[0;34m(\u001b[0m\u001b[0mfilename\u001b[0m\u001b[0;34m)\u001b[0m\u001b[0;34m,\u001b[0m\u001b[0;34m\u001b[0m\u001b[0;34m\u001b[0m\u001b[0m\n\u001b[0;32m--> 178\u001b[0;31m       \u001b[0;34m'name'\u001b[0m\u001b[0;34m:\u001b[0m \u001b[0m_os\u001b[0m\u001b[0;34m.\u001b[0m\u001b[0mpath\u001b[0m\u001b[0;34m.\u001b[0m\u001b[0mbasename\u001b[0m\u001b[0;34m(\u001b[0m\u001b[0mfilename\u001b[0m\u001b[0;34m)\u001b[0m\u001b[0;34m,\u001b[0m\u001b[0;34m\u001b[0m\u001b[0;34m\u001b[0m\u001b[0m\n\u001b[0m\u001b[1;32m    179\u001b[0m   })\n",
            "\u001b[0;32m/usr/local/lib/python3.6/dist-packages/google/colab/output/_js.py\u001b[0m in \u001b[0;36meval_js\u001b[0;34m(script, ignore_result)\u001b[0m\n\u001b[1;32m     37\u001b[0m   \u001b[0;32mif\u001b[0m \u001b[0mignore_result\u001b[0m\u001b[0;34m:\u001b[0m\u001b[0;34m\u001b[0m\u001b[0;34m\u001b[0m\u001b[0m\n\u001b[1;32m     38\u001b[0m     \u001b[0;32mreturn\u001b[0m\u001b[0;34m\u001b[0m\u001b[0;34m\u001b[0m\u001b[0m\n\u001b[0;32m---> 39\u001b[0;31m   \u001b[0;32mreturn\u001b[0m \u001b[0m_message\u001b[0m\u001b[0;34m.\u001b[0m\u001b[0mread_reply_from_input\u001b[0m\u001b[0;34m(\u001b[0m\u001b[0mrequest_id\u001b[0m\u001b[0;34m)\u001b[0m\u001b[0;34m\u001b[0m\u001b[0;34m\u001b[0m\u001b[0m\n\u001b[0m\u001b[1;32m     40\u001b[0m \u001b[0;34m\u001b[0m\u001b[0m\n\u001b[1;32m     41\u001b[0m \u001b[0;34m\u001b[0m\u001b[0m\n",
            "\u001b[0;32m/usr/local/lib/python3.6/dist-packages/google/colab/_message.py\u001b[0m in \u001b[0;36mread_reply_from_input\u001b[0;34m(message_id, timeout_sec)\u001b[0m\n\u001b[1;32m     99\u001b[0m     \u001b[0mreply\u001b[0m \u001b[0;34m=\u001b[0m \u001b[0m_read_next_input_message\u001b[0m\u001b[0;34m(\u001b[0m\u001b[0;34m)\u001b[0m\u001b[0;34m\u001b[0m\u001b[0;34m\u001b[0m\u001b[0m\n\u001b[1;32m    100\u001b[0m     \u001b[0;32mif\u001b[0m \u001b[0mreply\u001b[0m \u001b[0;34m==\u001b[0m \u001b[0m_NOT_READY\u001b[0m \u001b[0;32mor\u001b[0m \u001b[0;32mnot\u001b[0m \u001b[0misinstance\u001b[0m\u001b[0;34m(\u001b[0m\u001b[0mreply\u001b[0m\u001b[0;34m,\u001b[0m \u001b[0mdict\u001b[0m\u001b[0;34m)\u001b[0m\u001b[0;34m:\u001b[0m\u001b[0;34m\u001b[0m\u001b[0;34m\u001b[0m\u001b[0m\n\u001b[0;32m--> 101\u001b[0;31m       \u001b[0mtime\u001b[0m\u001b[0;34m.\u001b[0m\u001b[0msleep\u001b[0m\u001b[0;34m(\u001b[0m\u001b[0;36m0.025\u001b[0m\u001b[0;34m)\u001b[0m\u001b[0;34m\u001b[0m\u001b[0;34m\u001b[0m\u001b[0m\n\u001b[0m\u001b[1;32m    102\u001b[0m       \u001b[0;32mcontinue\u001b[0m\u001b[0;34m\u001b[0m\u001b[0;34m\u001b[0m\u001b[0m\n\u001b[1;32m    103\u001b[0m     if (reply.get('type') == 'colab_reply' and\n",
            "\u001b[0;31mKeyboardInterrupt\u001b[0m: "
          ]
        }
      ]
    },
    {
      "cell_type": "markdown",
      "metadata": {
        "id": "az3eLxpCu3ds",
        "colab_type": "text"
      },
      "source": [
        "**Customized Training**"
      ]
    },
    {
      "cell_type": "code",
      "metadata": {
        "id": "Z8qFHPWHQ8Y0",
        "colab_type": "code",
        "colab": {}
      },
      "source": [
        "model = build_model(\n",
        "  vocab_size = len(vocab),\n",
        "  embedding_dim=embedding_dim,\n",
        "  rnn_units=rnn_units,\n",
        "  batch_size=BATCH_SIZE)"
      ],
      "execution_count": 0,
      "outputs": []
    },
    {
      "cell_type": "code",
      "metadata": {
        "id": "iwEB3OgmQ--6",
        "colab_type": "code",
        "colab": {}
      },
      "source": [
        "optimizer = tf.keras.optimizers.Adam()"
      ],
      "execution_count": 0,
      "outputs": []
    },
    {
      "cell_type": "code",
      "metadata": {
        "id": "buBqUn4IRBbo",
        "colab_type": "code",
        "colab": {}
      },
      "source": [
        "## print(type(model))\n",
        "## GradientTape is used to track gradients\n",
        "## 1. Initialize RNN state using reset_states\n",
        "## 2. Iterate by batch and calculate the predictions\n",
        "## 3. Use GradientTape for predictions and loss\n",
        "## 4. Calculate the gradients of the loss with respect to the model variables\n",
        "## 5. Apply the gradients using Adam optimizer\n",
        "@tf.function\n",
        "def train_step(inp, target):\n",
        "  with tf.GradientTape() as tape:\n",
        "    predictions = model(inp)\n",
        "    #fin_pred = predictions\n",
        "    loss = tf.reduce_mean(\n",
        "        tf.keras.losses.sparse_categorical_crossentropy(\n",
        "            target, predictions, from_logits=True))\n",
        "  grads = tape.gradient(loss, model.trainable_variables)\n",
        "  optimizer.apply_gradients(zip(grads, model.trainable_variables))\n",
        "\n",
        "  return loss\n"
      ],
      "execution_count": 0,
      "outputs": []
    },
    {
      "cell_type": "code",
      "metadata": {
        "id": "PWPBkIwfREYX",
        "colab_type": "code",
        "colab": {
          "base_uri": "https://localhost:8080/",
          "height": 1000
        },
        "outputId": "c1e5751d-c716-4f28-fe69-0aba8644207e"
      },
      "source": [
        "# Training step\n",
        "EPOCHS = 10\n",
        "\n",
        "for epoch in range(EPOCHS):\n",
        "  start = time.time()\n",
        "\n",
        "  # initializing the hidden state at the start of every epoch\n",
        "  # initally hidden is None\n",
        "  hidden = model.reset_states()\n",
        "\n",
        "  for (batch_n, (inp, target)) in enumerate(dataset):\n",
        "    predictions = model(inp)\n",
        "    loss = train_step(inp, target)\n",
        "    ppl = tf.exp(loss)\n",
        "    prediction = tf.dtypes.cast(predictions, tf.float32)\n",
        "    \n",
        "    if batch_n % 100 == 0:\n",
        "      template = 'Epoch {} Batch {} Loss {} PPL {} '\n",
        "      print(template.format(epoch+1, batch_n, loss, ppl))\n",
        "\n",
        "  # saving (checkpoint) the model every 5 epochs\n",
        "  if (epoch + 1) % 5 == 0:\n",
        "    model.save_weights(checkpoint_prefix.format(epoch=epoch))\n",
        "\n",
        "  print ('Epoch {} Loss {:.4f} PPL : {:.6f}'.format(epoch+1, loss, ppl))\n",
        "  print ('Time taken for 1 epoch {} sec\\n'.format(time.time() - start))\n",
        "\n",
        "model.save_weights(checkpoint_prefix.format(epoch=epoch))"
      ],
      "execution_count": 36,
      "outputs": [
        {
          "output_type": "stream",
          "text": [
            "Epoch 1 Batch 0 Loss 6.063162326812744 PPL 429.73223876953125 \n",
            "Epoch 1 Batch 100 Loss 2.473721742630005 PPL 11.86652946472168 \n",
            "Epoch 1 Batch 200 Loss 2.17698335647583 PPL 8.819660186767578 \n",
            "Epoch 1 Batch 300 Loss 1.9486660957336426 PPL 7.019318580627441 \n",
            "Epoch 1 Batch 400 Loss 1.644035816192627 PPL 5.176016807556152 \n",
            "Epoch 1 Batch 500 Loss 1.4531952142715454 PPL 4.276757717132568 \n",
            "Epoch 1 Batch 600 Loss 1.3134865760803223 PPL 3.719118118286133 \n",
            "Epoch 1 Batch 700 Loss 1.2916754484176636 PPL 3.638878107070923 \n",
            "Epoch 1 Batch 800 Loss 1.1891993284225464 PPL 3.2844505310058594 \n",
            "Epoch 1 Batch 900 Loss 1.1272681951522827 PPL 3.0872111320495605 \n",
            "Epoch 1 Batch 1000 Loss 1.146621823310852 PPL 3.1475419998168945 \n",
            "Epoch 1 Batch 1100 Loss 1.0578988790512085 PPL 2.880312919616699 \n",
            "Epoch 1 Batch 1200 Loss 1.1284703016281128 PPL 3.0909247398376465 \n",
            "Epoch 1 Batch 1300 Loss 1.1280745267868042 PPL 3.0897016525268555 \n",
            "Epoch 1 Batch 1400 Loss 1.0476597547531128 PPL 2.8509714603424072 \n",
            "Epoch 1 Batch 1500 Loss 1.0200777053833008 PPL 2.7734100818634033 \n",
            "Epoch 1 Batch 1600 Loss 1.0471255779266357 PPL 2.8494489192962646 \n",
            "Epoch 1 Batch 1700 Loss 1.027073621749878 PPL 2.7928807735443115 \n",
            "Epoch 1 Batch 1800 Loss 0.9878759980201721 PPL 2.6855244636535645 \n",
            "Epoch 1 Batch 1900 Loss 0.8911105394363403 PPL 2.437835454940796 \n",
            "Epoch 1 Batch 2000 Loss 0.8844355940818787 PPL 2.421617269515991 \n",
            "Epoch 1 Batch 2100 Loss 0.9717077612876892 PPL 2.642453193664551 \n",
            "Epoch 1 Batch 2200 Loss 0.946587324142456 PPL 2.5769007205963135 \n",
            "Epoch 1 Batch 2300 Loss 0.9331803917884827 PPL 2.5425827503204346 \n",
            "Epoch 1 Batch 2400 Loss 1.0212147235870361 PPL 2.7765655517578125 \n",
            "Epoch 1 Batch 2500 Loss 0.962014377117157 PPL 2.6169626712799072 \n",
            "Epoch 1 Batch 2600 Loss 0.9194691181182861 PPL 2.5079586505889893 \n",
            "Epoch 1 Batch 2700 Loss 0.9300559759140015 PPL 2.534651041030884 \n",
            "Epoch 1 Batch 2800 Loss 0.9201518297195435 PPL 2.509671449661255 \n",
            "Epoch 1 Batch 2900 Loss 0.8518357872962952 PPL 2.3439457416534424 \n",
            "Epoch 1 Batch 3000 Loss 0.8994100689888 PPL 2.4581525325775146 \n",
            "Epoch 1 Batch 3100 Loss 0.9100350141525269 PPL 2.4844095706939697 \n",
            "Epoch 1 Batch 3200 Loss 0.8345603942871094 PPL 2.3038010597229004 \n",
            "Epoch 1 Batch 3300 Loss 0.9308930039405823 PPL 2.536773681640625 \n",
            "Epoch 1 Batch 3400 Loss 0.8657315969467163 PPL 2.376744270324707 \n",
            "Epoch 1 Batch 3500 Loss 0.8536515235900879 PPL 2.348205804824829 \n",
            "Epoch 1 Batch 3600 Loss 0.8091793656349182 PPL 2.2460641860961914 \n",
            "Epoch 1 Batch 3700 Loss 0.8763827681541443 PPL 2.4021947383880615 \n",
            "Epoch 1 Batch 3800 Loss 0.8895061016082764 PPL 2.433927297592163 \n",
            "Epoch 1 Batch 3900 Loss 0.8427379131317139 PPL 2.3227176666259766 \n",
            "Epoch 1 Batch 4000 Loss 0.8411628603935242 PPL 2.3190622329711914 \n",
            "Epoch 1 Batch 4100 Loss 0.8234103918075562 PPL 2.2782561779022217 \n",
            "Epoch 1 Batch 4200 Loss 0.7579929828643799 PPL 2.133989095687866 \n",
            "Epoch 1 Batch 4300 Loss 0.9190859794616699 PPL 2.506998062133789 \n",
            "Epoch 1 Batch 4400 Loss 0.9095083475112915 PPL 2.4831013679504395 \n",
            "Epoch 1 Batch 4500 Loss 0.8900920152664185 PPL 2.4353537559509277 \n",
            "Epoch 1 Batch 4600 Loss 0.8406727313995361 PPL 2.3179259300231934 \n",
            "Epoch 1 Batch 4700 Loss 0.8803003430366516 PPL 2.41162371635437 \n",
            "Epoch 1 Batch 4800 Loss 0.8238059282302856 PPL 2.2791576385498047 \n",
            "Epoch 1 Batch 4900 Loss 0.8120982646942139 PPL 2.2526297569274902 \n",
            "Epoch 1 Batch 5000 Loss 0.8029398918151855 PPL 2.232093334197998 \n",
            "Epoch 1 Batch 5100 Loss 0.8562870025634766 PPL 2.354402542114258 \n",
            "Epoch 1 Batch 5200 Loss 0.8059489727020264 PPL 2.2388200759887695 \n",
            "Epoch 1 Batch 5300 Loss 0.7931815981864929 PPL 2.2104177474975586 \n",
            "Epoch 1 Batch 5400 Loss 0.8428481817245483 PPL 2.3229737281799316 \n",
            "Epoch 1 Batch 5500 Loss 0.8750063180923462 PPL 2.398890495300293 \n",
            "Epoch 1 Batch 5600 Loss 0.8647207021713257 PPL 2.374342918395996 \n",
            "Epoch 1 Batch 5700 Loss 0.8045933246612549 PPL 2.2357869148254395 \n",
            "Epoch 1 Loss 0.7958 PPL : 2.216316\n",
            "Time taken for 1 epoch 500.9519455432892 sec\n",
            "\n",
            "Epoch 2 Batch 0 Loss 0.9720723628997803 PPL 2.6434168815612793 \n",
            "Epoch 2 Batch 100 Loss 0.7817578315734863 PPL 2.1853103637695312 \n",
            "Epoch 2 Batch 200 Loss 0.9370271563529968 PPL 2.552382469177246 \n",
            "Epoch 2 Batch 300 Loss 0.9850935339927673 PPL 2.6780624389648438 \n",
            "Epoch 2 Batch 400 Loss 0.8531947135925293 PPL 2.347133159637451 \n",
            "Epoch 2 Batch 500 Loss 0.797954797744751 PPL 2.220993995666504 \n",
            "Epoch 2 Batch 600 Loss 0.768889307975769 PPL 2.1573686599731445 \n",
            "Epoch 2 Batch 700 Loss 0.7399208545684814 PPL 2.0957696437835693 \n",
            "Epoch 2 Batch 800 Loss 0.7905929088592529 PPL 2.2047033309936523 \n",
            "Epoch 2 Batch 900 Loss 0.7838853597640991 PPL 2.189964532852173 \n",
            "Epoch 2 Batch 1000 Loss 0.7726227045059204 PPL 2.165438175201416 \n",
            "Epoch 2 Batch 1100 Loss 0.7380359768867493 PPL 2.091823101043701 \n",
            "Epoch 2 Batch 1200 Loss 0.7505330443382263 PPL 2.118128776550293 \n",
            "Epoch 2 Batch 1300 Loss 0.7978240847587585 PPL 2.220703601837158 \n",
            "Epoch 2 Batch 1400 Loss 0.7501874566078186 PPL 2.1173970699310303 \n",
            "Epoch 2 Batch 1500 Loss 0.7508825659751892 PPL 2.1188693046569824 \n",
            "Epoch 2 Batch 1600 Loss 0.8223922848701477 PPL 2.275938034057617 \n",
            "Epoch 2 Batch 1700 Loss 0.778596818447113 PPL 2.1784133911132812 \n",
            "Epoch 2 Batch 1800 Loss 0.7798309326171875 PPL 2.1811037063598633 \n",
            "Epoch 2 Batch 1900 Loss 0.7932103872299194 PPL 2.210481643676758 \n",
            "Epoch 2 Batch 2000 Loss 0.7353812456130981 PPL 2.0862772464752197 \n",
            "Epoch 2 Batch 2100 Loss 0.717013955116272 PPL 2.0483076572418213 \n",
            "Epoch 2 Batch 2200 Loss 0.6997857093811035 PPL 2.0133211612701416 \n",
            "Epoch 2 Batch 2300 Loss 0.7697860598564148 PPL 2.15930438041687 \n",
            "Epoch 2 Batch 2400 Loss 0.8468965291976929 PPL 2.332396984100342 \n",
            "Epoch 2 Batch 2500 Loss 0.7765709161758423 PPL 2.174004554748535 \n",
            "Epoch 2 Batch 2600 Loss 0.7580512762069702 PPL 2.134113311767578 \n",
            "Epoch 2 Batch 2700 Loss 0.7515708208084106 PPL 2.120327949523926 \n",
            "Epoch 2 Batch 2800 Loss 0.7481372952461243 PPL 2.113060235977173 \n",
            "Epoch 2 Batch 2900 Loss 0.6981191039085388 PPL 2.0099687576293945 \n",
            "Epoch 2 Batch 3000 Loss 0.7520041465759277 PPL 2.1212472915649414 \n",
            "Epoch 2 Batch 3100 Loss 0.7790271639823914 PPL 2.1793510913848877 \n",
            "Epoch 2 Batch 3200 Loss 0.6926405429840088 PPL 1.9989869594573975 \n",
            "Epoch 2 Batch 3300 Loss 0.7368123531341553 PPL 2.0892651081085205 \n",
            "Epoch 2 Batch 3400 Loss 0.750714898109436 PPL 2.118514060974121 \n",
            "Epoch 2 Batch 3500 Loss 0.7305324077606201 PPL 2.076185703277588 \n",
            "Epoch 2 Batch 3600 Loss 0.7234725952148438 PPL 2.061579942703247 \n",
            "Epoch 2 Batch 3700 Loss 0.7351458668708801 PPL 2.0857863426208496 \n",
            "Epoch 2 Batch 3800 Loss 0.7388978004455566 PPL 2.0936267375946045 \n",
            "Epoch 2 Batch 3900 Loss 0.7410313487052917 PPL 2.0980982780456543 \n",
            "Epoch 2 Batch 4000 Loss 0.7311370968818665 PPL 2.077441453933716 \n",
            "Epoch 2 Batch 4100 Loss 0.7433283925056458 PPL 2.1029233932495117 \n",
            "Epoch 2 Batch 4200 Loss 0.7163720726966858 PPL 2.0469934940338135 \n",
            "Epoch 2 Batch 4300 Loss 0.8067135810852051 PPL 2.240532398223877 \n",
            "Epoch 2 Batch 4400 Loss 0.7448549866676331 PPL 2.1061360836029053 \n",
            "Epoch 2 Batch 4500 Loss 0.6942632794380188 PPL 2.0022335052490234 \n",
            "Epoch 2 Batch 4600 Loss 0.7144045233726501 PPL 2.0429697036743164 \n",
            "Epoch 2 Batch 4700 Loss 0.7896320819854736 PPL 2.2025856971740723 \n",
            "Epoch 2 Batch 4800 Loss 0.71173095703125 PPL 2.0375149250030518 \n",
            "Epoch 2 Batch 4900 Loss 0.7541043162345886 PPL 2.125706672668457 \n",
            "Epoch 2 Batch 5000 Loss 0.7651156783103943 PPL 2.149243116378784 \n",
            "Epoch 2 Batch 5100 Loss 0.7112736701965332 PPL 2.036583423614502 \n",
            "Epoch 2 Batch 5200 Loss 0.7250390648841858 PPL 2.064811944961548 \n",
            "Epoch 2 Batch 5300 Loss 0.7243490815162659 PPL 2.063387632369995 \n",
            "Epoch 2 Batch 5400 Loss 0.775266706943512 PPL 2.171171188354492 \n",
            "Epoch 2 Batch 5500 Loss 0.7936378717422485 PPL 2.2114267349243164 \n",
            "Epoch 2 Batch 5600 Loss 0.7249114513397217 PPL 2.0645482540130615 \n",
            "Epoch 2 Batch 5700 Loss 0.8254299759864807 PPL 2.2828621864318848 \n",
            "Epoch 2 Loss 0.7356 PPL : 2.086767\n",
            "Time taken for 1 epoch 500.18125200271606 sec\n",
            "\n",
            "Epoch 3 Batch 0 Loss 0.695690929889679 PPL 2.005093812942505 \n",
            "Epoch 3 Batch 100 Loss 0.7000685334205627 PPL 2.0138907432556152 \n",
            "Epoch 3 Batch 200 Loss 0.923309326171875 PPL 2.517608165740967 \n",
            "Epoch 3 Batch 300 Loss 0.8108015656471252 PPL 2.2497105598449707 \n",
            "Epoch 3 Batch 400 Loss 0.7017775177955627 PPL 2.0173354148864746 \n",
            "Epoch 3 Batch 500 Loss 0.7181589007377625 PPL 2.050654172897339 \n",
            "Epoch 3 Batch 600 Loss 0.7092763781547546 PPL 2.032519817352295 \n",
            "Epoch 3 Batch 700 Loss 0.6686646342277527 PPL 1.951629400253296 \n",
            "Epoch 3 Batch 800 Loss 0.676577627658844 PPL 1.9671339988708496 \n",
            "Epoch 3 Batch 900 Loss 0.6979209780693054 PPL 2.009570360183716 \n",
            "Epoch 3 Batch 1000 Loss 0.6783825755119324 PPL 1.9706876277923584 \n",
            "Epoch 3 Batch 1100 Loss 0.7654920816421509 PPL 2.150052070617676 \n",
            "Epoch 3 Batch 1200 Loss 0.6929190754890442 PPL 1.9995437860488892 \n",
            "Epoch 3 Batch 1300 Loss 0.6980272531509399 PPL 2.009783983230591 \n",
            "Epoch 3 Batch 1400 Loss 0.7006080746650696 PPL 2.0149776935577393 \n",
            "Epoch 3 Batch 1500 Loss 0.6967078447341919 PPL 2.007133960723877 \n",
            "Epoch 3 Batch 1600 Loss 0.7452654838562012 PPL 2.1070008277893066 \n",
            "Epoch 3 Batch 1700 Loss 0.7551406621932983 PPL 2.127910852432251 \n",
            "Epoch 3 Batch 1800 Loss 0.7022008299827576 PPL 2.0181896686553955 \n",
            "Epoch 3 Batch 1900 Loss 0.6618570685386658 PPL 1.938388705253601 \n",
            "Epoch 3 Batch 2000 Loss 0.6600802540779114 PPL 1.9349476099014282 \n",
            "Epoch 3 Batch 2100 Loss 0.6123382449150085 PPL 1.8447396755218506 \n",
            "Epoch 3 Batch 2200 Loss 0.7199268937110901 PPL 2.0542829036712646 \n",
            "Epoch 3 Batch 2300 Loss 0.6550983190536499 PPL 1.925331950187683 \n",
            "Epoch 3 Batch 2400 Loss 0.7081993222236633 PPL 2.030332088470459 \n",
            "Epoch 3 Batch 2500 Loss 0.6722787618637085 PPL 1.958695650100708 \n",
            "Epoch 3 Batch 2600 Loss 0.7028737664222717 PPL 2.019548177719116 \n",
            "Epoch 3 Batch 2700 Loss 0.7406210899353027 PPL 2.0972375869750977 \n",
            "Epoch 3 Batch 2800 Loss 0.7019808292388916 PPL 2.0177454948425293 \n",
            "Epoch 3 Batch 2900 Loss 0.6852333545684814 PPL 1.9842348098754883 \n",
            "Epoch 3 Batch 3000 Loss 0.6445895433425903 PPL 1.9052047729492188 \n",
            "Epoch 3 Batch 3100 Loss 0.664013683795929 PPL 1.9425735473632812 \n",
            "Epoch 3 Batch 3200 Loss 0.5929331183433533 PPL 1.8092875480651855 \n",
            "Epoch 3 Batch 3300 Loss 0.6468737721443176 PPL 1.9095616340637207 \n",
            "Epoch 3 Batch 3400 Loss 0.7291622757911682 PPL 2.07334303855896 \n",
            "Epoch 3 Batch 3500 Loss 0.6974295973777771 PPL 2.0085833072662354 \n",
            "Epoch 3 Batch 3600 Loss 0.6782514452934265 PPL 1.9704291820526123 \n",
            "Epoch 3 Batch 3700 Loss 0.7375855445861816 PPL 2.090881109237671 \n",
            "Epoch 3 Batch 3800 Loss 0.7051954865455627 PPL 2.024242401123047 \n",
            "Epoch 3 Batch 3900 Loss 0.7221107482910156 PPL 2.058773994445801 \n",
            "Epoch 3 Batch 4000 Loss 0.7394946217536926 PPL 2.094876527786255 \n",
            "Epoch 3 Batch 4100 Loss 0.7112724184989929 PPL 2.036581039428711 \n",
            "Epoch 3 Batch 4200 Loss 0.6469983458518982 PPL 1.9097996950149536 \n",
            "Epoch 3 Batch 4300 Loss 0.8384339809417725 PPL 2.3127424716949463 \n",
            "Epoch 3 Batch 4400 Loss 0.7396461367607117 PPL 2.095193862915039 \n",
            "Epoch 3 Batch 4500 Loss 0.6819502115249634 PPL 1.9777309894561768 \n",
            "Epoch 3 Batch 4600 Loss 0.639635443687439 PPL 1.895789623260498 \n",
            "Epoch 3 Batch 4700 Loss 0.6821065545082092 PPL 1.9780402183532715 \n",
            "Epoch 3 Batch 4800 Loss 0.6670148968696594 PPL 1.948412299156189 \n",
            "Epoch 3 Batch 4900 Loss 0.6995468139648438 PPL 2.0128402709960938 \n",
            "Epoch 3 Batch 5000 Loss 0.6627543568611145 PPL 1.9401288032531738 \n",
            "Epoch 3 Batch 5100 Loss 0.693626880645752 PPL 2.000959634780884 \n",
            "Epoch 3 Batch 5200 Loss 0.685210108757019 PPL 1.9841886758804321 \n",
            "Epoch 3 Batch 5300 Loss 0.64188551902771 PPL 1.9000601768493652 \n",
            "Epoch 3 Batch 5400 Loss 0.6851694583892822 PPL 1.9841080904006958 \n",
            "Epoch 3 Batch 5500 Loss 0.7045162916183472 PPL 2.0228679180145264 \n",
            "Epoch 3 Batch 5600 Loss 0.7363927960395813 PPL 2.088388681411743 \n",
            "Epoch 3 Batch 5700 Loss 0.6485763788223267 PPL 1.912815809249878 \n",
            "Epoch 3 Loss 0.7338 PPL : 2.082953\n",
            "Time taken for 1 epoch 498.0589699745178 sec\n",
            "\n",
            "Epoch 4 Batch 0 Loss 0.626227855682373 PPL 1.8705412149429321 \n",
            "Epoch 4 Batch 100 Loss 0.6758537888526917 PPL 1.9657106399536133 \n",
            "Epoch 4 Batch 200 Loss 0.7836323380470276 PPL 2.189410448074341 \n",
            "Epoch 4 Batch 300 Loss 0.7941938042640686 PPL 2.212656259536743 \n",
            "Epoch 4 Batch 400 Loss 0.7333299517631531 PPL 2.0820021629333496 \n",
            "Epoch 4 Batch 500 Loss 0.667430579662323 PPL 1.949222445487976 \n",
            "Epoch 4 Batch 600 Loss 0.6490457653999329 PPL 1.913713812828064 \n",
            "Epoch 4 Batch 700 Loss 0.6494067311286926 PPL 1.9144047498703003 \n",
            "Epoch 4 Batch 800 Loss 0.6358816027641296 PPL 1.8886865377426147 \n",
            "Epoch 4 Batch 900 Loss 0.6235805749893188 PPL 1.8655959367752075 \n",
            "Epoch 4 Batch 1000 Loss 0.6410413980484009 PPL 1.8984569311141968 \n",
            "Epoch 4 Batch 1100 Loss 0.7017918229103088 PPL 2.017364263534546 \n",
            "Epoch 4 Batch 1200 Loss 0.6882073283195496 PPL 1.9901447296142578 \n",
            "Epoch 4 Batch 1300 Loss 0.6562371253967285 PPL 1.9275257587432861 \n",
            "Epoch 4 Batch 1400 Loss 0.6835027933120728 PPL 1.9808038473129272 \n",
            "Epoch 4 Batch 1500 Loss 0.6556701064109802 PPL 1.9264329671859741 \n",
            "Epoch 4 Batch 1600 Loss 0.7242674827575684 PPL 2.0632193088531494 \n",
            "Epoch 4 Batch 1700 Loss 0.6250956654548645 PPL 1.868424654006958 \n",
            "Epoch 4 Batch 1800 Loss 0.6714044809341431 PPL 1.9569839239120483 \n",
            "Epoch 4 Batch 1900 Loss 0.6173546314239502 PPL 1.8540170192718506 \n",
            "Epoch 4 Batch 2000 Loss 0.6649512648582458 PPL 1.944395661354065 \n",
            "Epoch 4 Batch 2100 Loss 0.6030665040016174 PPL 1.8277149200439453 \n",
            "Epoch 4 Batch 2200 Loss 0.6104503273963928 PPL 1.8412604331970215 \n",
            "Epoch 4 Batch 2300 Loss 0.7244517803192139 PPL 2.0635995864868164 \n",
            "Epoch 4 Batch 2400 Loss 0.6615807414054871 PPL 1.9378530979156494 \n",
            "Epoch 4 Batch 2500 Loss 0.7059895396232605 PPL 2.025850296020508 \n",
            "Epoch 4 Batch 2600 Loss 0.6726059913635254 PPL 1.9593366384506226 \n",
            "Epoch 4 Batch 2700 Loss 0.6950335502624512 PPL 2.0037763118743896 \n",
            "Epoch 4 Batch 2800 Loss 0.6851465702056885 PPL 1.984062671661377 \n",
            "Epoch 4 Batch 2900 Loss 0.5988826155662537 PPL 1.8200839757919312 \n",
            "Epoch 4 Batch 3000 Loss 0.6307675838470459 PPL 1.8790524005889893 \n",
            "Epoch 4 Batch 3100 Loss 0.5918442010879517 PPL 1.8073183298110962 \n",
            "Epoch 4 Batch 3200 Loss 0.5747143030166626 PPL 1.7766228914260864 \n",
            "Epoch 4 Batch 3300 Loss 0.6116597652435303 PPL 1.8434884548187256 \n",
            "Epoch 4 Batch 3400 Loss 0.6171466112136841 PPL 1.8536312580108643 \n",
            "Epoch 4 Batch 3500 Loss 0.6867207884788513 PPL 1.9871883392333984 \n",
            "Epoch 4 Batch 3600 Loss 0.6117345690727234 PPL 1.8436264991760254 \n",
            "Epoch 4 Batch 3700 Loss 0.7021626830101013 PPL 2.0181126594543457 \n",
            "Epoch 4 Batch 3800 Loss 0.6809005737304688 PPL 1.9756561517715454 \n",
            "Epoch 4 Batch 3900 Loss 0.6884504556655884 PPL 1.9906286001205444 \n",
            "Epoch 4 Batch 4000 Loss 0.6376552581787109 PPL 1.8920392990112305 \n",
            "Epoch 4 Batch 4100 Loss 0.6223253011703491 PPL 1.8632556200027466 \n",
            "Epoch 4 Batch 4200 Loss 0.6512340307235718 PPL 1.9179060459136963 \n",
            "Epoch 4 Batch 4300 Loss 0.7241206169128418 PPL 2.0629162788391113 \n",
            "Epoch 4 Batch 4400 Loss 0.6527153253555298 PPL 1.9207491874694824 \n",
            "Epoch 4 Batch 4500 Loss 0.6813792586326599 PPL 1.9766020774841309 \n",
            "Epoch 4 Batch 4600 Loss 0.7009071111679077 PPL 2.015580415725708 \n",
            "Epoch 4 Batch 4700 Loss 0.6274408102035522 PPL 1.8728115558624268 \n",
            "Epoch 4 Batch 4800 Loss 0.630292534828186 PPL 1.878159999847412 \n",
            "Epoch 4 Batch 4900 Loss 0.6904780864715576 PPL 1.994668960571289 \n",
            "Epoch 4 Batch 5000 Loss 0.624087393283844 PPL 1.8665417432785034 \n",
            "Epoch 4 Batch 5100 Loss 0.6216219067573547 PPL 1.861945390701294 \n",
            "Epoch 4 Batch 5200 Loss 0.6531869769096375 PPL 1.921655297279358 \n",
            "Epoch 4 Batch 5300 Loss 0.6314389705657959 PPL 1.8803143501281738 \n",
            "Epoch 4 Batch 5400 Loss 0.6437133550643921 PPL 1.9035362005233765 \n",
            "Epoch 4 Batch 5500 Loss 0.7583585381507874 PPL 2.1347692012786865 \n",
            "Epoch 4 Batch 5600 Loss 0.7007113099098206 PPL 2.015185594558716 \n",
            "Epoch 4 Batch 5700 Loss 0.7090761661529541 PPL 2.0321128368377686 \n",
            "Epoch 4 Loss 0.6897 PPL : 1.993065\n",
            "Time taken for 1 epoch 499.38777256011963 sec\n",
            "\n",
            "Epoch 5 Batch 0 Loss 0.6414974927902222 PPL 1.8993229866027832 \n",
            "Epoch 5 Batch 100 Loss 0.6402308940887451 PPL 1.896918773651123 \n",
            "Epoch 5 Batch 200 Loss 0.7880558967590332 PPL 2.1991169452667236 \n",
            "Epoch 5 Batch 300 Loss 0.7016034126281738 PPL 2.016984224319458 \n",
            "Epoch 5 Batch 400 Loss 0.697770357131958 PPL 2.009267807006836 \n",
            "Epoch 5 Batch 500 Loss 0.6554638743400574 PPL 1.9260358810424805 \n",
            "Epoch 5 Batch 600 Loss 0.5969124436378479 PPL 1.816501498222351 \n",
            "Epoch 5 Batch 700 Loss 0.5845572352409363 PPL 1.794196367263794 \n",
            "Epoch 5 Batch 800 Loss 0.6292212009429932 PPL 1.8761488199234009 \n",
            "Epoch 5 Batch 900 Loss 0.6953315138816833 PPL 2.004373550415039 \n",
            "Epoch 5 Batch 1000 Loss 0.646628737449646 PPL 1.9090938568115234 \n",
            "Epoch 5 Batch 1100 Loss 0.6976143717765808 PPL 2.0089542865753174 \n",
            "Epoch 5 Batch 1200 Loss 0.6655761003494263 PPL 1.9456110000610352 \n",
            "Epoch 5 Batch 1300 Loss 0.6441213488578796 PPL 1.9043129682540894 \n",
            "Epoch 5 Batch 1400 Loss 0.6032342314720154 PPL 1.82802152633667 \n",
            "Epoch 5 Batch 1500 Loss 0.6013634204864502 PPL 1.824604868888855 \n",
            "Epoch 5 Batch 1600 Loss 0.6166483163833618 PPL 1.8527079820632935 \n",
            "Epoch 5 Batch 1700 Loss 0.5943633913993835 PPL 1.8118771314620972 \n",
            "Epoch 5 Batch 1800 Loss 0.674796462059021 PPL 1.9636332988739014 \n",
            "Epoch 5 Batch 1900 Loss 0.5857353806495667 PPL 1.796311378479004 \n",
            "Epoch 5 Batch 2000 Loss 0.6128588318824768 PPL 1.8457003831863403 \n",
            "Epoch 5 Batch 2100 Loss 0.5738316178321838 PPL 1.7750552892684937 \n",
            "Epoch 5 Batch 2200 Loss 0.6490938663482666 PPL 1.9138058423995972 \n",
            "Epoch 5 Batch 2300 Loss 0.6532180905342102 PPL 1.921715259552002 \n",
            "Epoch 5 Batch 2400 Loss 0.6963844299316406 PPL 2.0064849853515625 \n",
            "Epoch 5 Batch 2500 Loss 0.6750403642654419 PPL 1.9641121625900269 \n",
            "Epoch 5 Batch 2600 Loss 0.6660009622573853 PPL 1.9464378356933594 \n",
            "Epoch 5 Batch 2700 Loss 0.7026254534721375 PPL 2.0190465450286865 \n",
            "Epoch 5 Batch 2800 Loss 0.614422082901001 PPL 1.848587989807129 \n",
            "Epoch 5 Batch 2900 Loss 0.621391773223877 PPL 1.8615169525146484 \n",
            "Epoch 5 Batch 3000 Loss 0.6449832320213318 PPL 1.9059550762176514 \n",
            "Epoch 5 Batch 3100 Loss 0.6369513869285583 PPL 1.890708088874817 \n",
            "Epoch 5 Batch 3200 Loss 0.5300691723823547 PPL 1.6990498304367065 \n",
            "Epoch 5 Batch 3300 Loss 0.6033809185028076 PPL 1.8282896280288696 \n",
            "Epoch 5 Batch 3400 Loss 0.649735689163208 PPL 1.9150346517562866 \n",
            "Epoch 5 Batch 3500 Loss 0.6098474860191345 PPL 1.8401507139205933 \n",
            "Epoch 5 Batch 3600 Loss 0.6208564043045044 PPL 1.8605207204818726 \n",
            "Epoch 5 Batch 3700 Loss 0.639559805393219 PPL 1.8956462144851685 \n",
            "Epoch 5 Batch 3800 Loss 0.6744201183319092 PPL 1.962894320487976 \n",
            "Epoch 5 Batch 3900 Loss 0.6481767892837524 PPL 1.9120515584945679 \n",
            "Epoch 5 Batch 4000 Loss 0.6006594300270081 PPL 1.823320746421814 \n",
            "Epoch 5 Batch 4100 Loss 0.6326475739479065 PPL 1.882588267326355 \n",
            "Epoch 5 Batch 4200 Loss 0.6123371720314026 PPL 1.8447378873825073 \n",
            "Epoch 5 Batch 4300 Loss 0.7498940825462341 PPL 2.1167757511138916 \n",
            "Epoch 5 Batch 4400 Loss 0.6734660863876343 PPL 1.9610226154327393 \n",
            "Epoch 5 Batch 4500 Loss 0.6556189656257629 PPL 1.9263346195220947 \n",
            "Epoch 5 Batch 4600 Loss 0.683580756187439 PPL 1.980958342552185 \n",
            "Epoch 5 Batch 4700 Loss 0.6916612386703491 PPL 1.997030258178711 \n",
            "Epoch 5 Batch 4800 Loss 0.6127901673316956 PPL 1.8455736637115479 \n",
            "Epoch 5 Batch 4900 Loss 0.684435248374939 PPL 1.9826518297195435 \n",
            "Epoch 5 Batch 5000 Loss 0.6080336570739746 PPL 1.8368159532546997 \n",
            "Epoch 5 Batch 5100 Loss 0.6270632147789001 PPL 1.872104525566101 \n",
            "Epoch 5 Batch 5200 Loss 0.6824465990066528 PPL 1.9787129163742065 \n",
            "Epoch 5 Batch 5300 Loss 0.6574734449386597 PPL 1.9299101829528809 \n",
            "Epoch 5 Batch 5400 Loss 0.6628212928771973 PPL 1.9402587413787842 \n",
            "Epoch 5 Batch 5500 Loss 0.6598118543624878 PPL 1.934428334236145 \n",
            "Epoch 5 Batch 5600 Loss 0.7012770771980286 PPL 2.0163261890411377 \n",
            "Epoch 5 Batch 5700 Loss 0.7450445294380188 PPL 2.1065351963043213 \n",
            "Epoch 5 Loss 0.6987 PPL : 2.011065\n",
            "Time taken for 1 epoch 497.83813214302063 sec\n",
            "\n",
            "Epoch 6 Batch 0 Loss 0.6678520441055298 PPL 1.9500442743301392 \n",
            "Epoch 6 Batch 100 Loss 0.6526311635971069 PPL 1.9205876588821411 \n",
            "Epoch 6 Batch 200 Loss 0.7552629113197327 PPL 2.12817120552063 \n",
            "Epoch 6 Batch 300 Loss 0.7211864590644836 PPL 2.0568721294403076 \n",
            "Epoch 6 Batch 400 Loss 0.6176804900169373 PPL 1.854621171951294 \n",
            "Epoch 6 Batch 500 Loss 0.6300290822982788 PPL 1.8776652812957764 \n",
            "Epoch 6 Batch 600 Loss 0.573230504989624 PPL 1.7739887237548828 \n",
            "Epoch 6 Batch 700 Loss 0.5645716190338135 PPL 1.7586941719055176 \n",
            "Epoch 6 Batch 800 Loss 0.6233223080635071 PPL 1.8651142120361328 \n",
            "Epoch 6 Batch 900 Loss 0.602962851524353 PPL 1.8275256156921387 \n",
            "Epoch 6 Batch 1000 Loss 0.619916558265686 PPL 1.8587729930877686 \n",
            "Epoch 6 Batch 1100 Loss 0.6270751357078552 PPL 1.8721266984939575 \n",
            "Epoch 6 Batch 1200 Loss 0.603655219078064 PPL 1.8287912607192993 \n",
            "Epoch 6 Batch 1300 Loss 0.654690146446228 PPL 1.9245461225509644 \n",
            "Epoch 6 Batch 1400 Loss 0.5643401145935059 PPL 1.7582870721817017 \n",
            "Epoch 6 Batch 1500 Loss 0.5991097092628479 PPL 1.8204972743988037 \n",
            "Epoch 6 Batch 1600 Loss 0.6334820985794067 PPL 1.884160041809082 \n",
            "Epoch 6 Batch 1700 Loss 0.6733733415603638 PPL 1.9608408212661743 \n",
            "Epoch 6 Batch 1800 Loss 0.6374070644378662 PPL 1.89156973361969 \n",
            "Epoch 6 Batch 1900 Loss 0.6141110062599182 PPL 1.8480130434036255 \n",
            "Epoch 6 Batch 2000 Loss 0.6090583205223083 PPL 1.8386991024017334 \n",
            "Epoch 6 Batch 2100 Loss 0.5463103652000427 PPL 1.726869821548462 \n",
            "Epoch 6 Batch 2200 Loss 0.6197209358215332 PPL 1.8584092855453491 \n",
            "Epoch 6 Batch 2300 Loss 0.6188817024230957 PPL 1.8568503856658936 \n",
            "Epoch 6 Batch 2400 Loss 0.6111363768577576 PPL 1.8425239324569702 \n",
            "Epoch 6 Batch 2500 Loss 0.655116856098175 PPL 1.9253674745559692 \n",
            "Epoch 6 Batch 2600 Loss 0.6396077871322632 PPL 1.8957371711730957 \n",
            "Epoch 6 Batch 2700 Loss 0.6599963307380676 PPL 1.9347851276397705 \n",
            "Epoch 6 Batch 2800 Loss 0.5989402532577515 PPL 1.8201887607574463 \n",
            "Epoch 6 Batch 2900 Loss 0.6057073473930359 PPL 1.8325480222702026 \n",
            "Epoch 6 Batch 3000 Loss 0.6111183166503906 PPL 1.842490792274475 \n",
            "Epoch 6 Batch 3100 Loss 0.5878420472145081 PPL 1.8000997304916382 \n",
            "Epoch 6 Batch 3200 Loss 0.5501561164855957 PPL 1.7335237264633179 \n",
            "Epoch 6 Batch 3300 Loss 0.6047365665435791 PPL 1.8307697772979736 \n",
            "Epoch 6 Batch 3400 Loss 0.579853355884552 PPL 1.7857766151428223 \n",
            "Epoch 6 Batch 3500 Loss 0.5848436951637268 PPL 1.7947105169296265 \n",
            "Epoch 6 Batch 3600 Loss 0.6389201879501343 PPL 1.8944340944290161 \n",
            "Epoch 6 Batch 3700 Loss 0.7208685278892517 PPL 2.056218385696411 \n",
            "Epoch 6 Batch 3800 Loss 0.6361416578292847 PPL 1.889177680015564 \n",
            "Epoch 6 Batch 3900 Loss 0.6142951846122742 PPL 1.848353385925293 \n",
            "Epoch 6 Batch 4000 Loss 0.6886201500892639 PPL 1.9909664392471313 \n",
            "Epoch 6 Batch 4100 Loss 0.5899383425712585 PPL 1.8038771152496338 \n",
            "Epoch 6 Batch 4200 Loss 0.6253236532211304 PPL 1.868850827217102 \n",
            "Epoch 6 Batch 4300 Loss 0.6604266166687012 PPL 1.9356179237365723 \n",
            "Epoch 6 Batch 4400 Loss 0.7334384918212891 PPL 2.082227945327759 \n",
            "Epoch 6 Batch 4500 Loss 0.6419718861579895 PPL 1.900224208831787 \n",
            "Epoch 6 Batch 4600 Loss 0.6360622644424438 PPL 1.889027714729309 \n",
            "Epoch 6 Batch 4700 Loss 0.6030905246734619 PPL 1.8277589082717896 \n",
            "Epoch 6 Batch 4800 Loss 0.6525010466575623 PPL 1.9203376770019531 \n",
            "Epoch 6 Batch 4900 Loss 0.6760544776916504 PPL 1.9661049842834473 \n",
            "Epoch 6 Batch 5000 Loss 0.6041799783706665 PPL 1.8297511339187622 \n",
            "Epoch 6 Batch 5100 Loss 0.5786153674125671 PPL 1.7835670709609985 \n",
            "Epoch 6 Batch 5200 Loss 0.6438271999359131 PPL 1.9037529230117798 \n",
            "Epoch 6 Batch 5300 Loss 0.6520376801490784 PPL 1.9194480180740356 \n",
            "Epoch 6 Batch 5400 Loss 0.6914072632789612 PPL 1.9965232610702515 \n",
            "Epoch 6 Batch 5500 Loss 0.739583432674408 PPL 2.095062732696533 \n",
            "Epoch 6 Batch 5600 Loss 0.6670401096343994 PPL 1.9484615325927734 \n",
            "Epoch 6 Batch 5700 Loss 0.6821354627609253 PPL 1.9780974388122559 \n",
            "Epoch 6 Loss 0.6690 PPL : 1.952211\n",
            "Time taken for 1 epoch 499.86417722702026 sec\n",
            "\n",
            "Epoch 7 Batch 0 Loss 0.6383397579193115 PPL 1.8933348655700684 \n",
            "Epoch 7 Batch 100 Loss 0.6199004650115967 PPL 1.8587429523468018 \n",
            "Epoch 7 Batch 200 Loss 0.7393380999565125 PPL 2.0945487022399902 \n",
            "Epoch 7 Batch 300 Loss 0.7405332326889038 PPL 2.097053289413452 \n",
            "Epoch 7 Batch 400 Loss 0.666567862033844 PPL 1.9475414752960205 \n",
            "Epoch 7 Batch 500 Loss 0.649620532989502 PPL 1.9148139953613281 \n",
            "Epoch 7 Batch 600 Loss 0.6002238988876343 PPL 1.8225268125534058 \n",
            "Epoch 7 Batch 700 Loss 0.5660203695297241 PPL 1.7612439393997192 \n",
            "Epoch 7 Batch 800 Loss 0.6244062185287476 PPL 1.8671369552612305 \n",
            "Epoch 7 Batch 900 Loss 0.607963502407074 PPL 1.8366870880126953 \n",
            "Epoch 7 Batch 1000 Loss 0.5536758899688721 PPL 1.7396360635757446 \n",
            "Epoch 7 Batch 1100 Loss 0.6330822110176086 PPL 1.8834067583084106 \n",
            "Epoch 7 Batch 1200 Loss 0.6309211254119873 PPL 1.8793408870697021 \n",
            "Epoch 7 Batch 1300 Loss 0.6270049810409546 PPL 1.871995449066162 \n",
            "Epoch 7 Batch 1400 Loss 0.595989465713501 PPL 1.8148257732391357 \n",
            "Epoch 7 Batch 1500 Loss 0.6583364009857178 PPL 1.9315763711929321 \n",
            "Epoch 7 Batch 1600 Loss 0.6443431377410889 PPL 1.9047354459762573 \n",
            "Epoch 7 Batch 1700 Loss 0.6045782566070557 PPL 1.8304800987243652 \n",
            "Epoch 7 Batch 1800 Loss 0.5619117021560669 PPL 1.754022479057312 \n",
            "Epoch 7 Batch 1900 Loss 0.5856565237045288 PPL 1.7961698770523071 \n",
            "Epoch 7 Batch 2000 Loss 0.604192852973938 PPL 1.8297747373580933 \n",
            "Epoch 7 Batch 2100 Loss 0.5632372498512268 PPL 1.7563490867614746 \n",
            "Epoch 7 Batch 2200 Loss 0.6217822432518005 PPL 1.8622441291809082 \n",
            "Epoch 7 Batch 2300 Loss 0.6085050702095032 PPL 1.8376821279525757 \n",
            "Epoch 7 Batch 2400 Loss 0.6665207147598267 PPL 1.947449803352356 \n",
            "Epoch 7 Batch 2500 Loss 0.6237093210220337 PPL 1.865836262702942 \n",
            "Epoch 7 Batch 2600 Loss 0.6337993741035461 PPL 1.8847578763961792 \n",
            "Epoch 7 Batch 2700 Loss 0.5856885313987732 PPL 1.796227216720581 \n",
            "Epoch 7 Batch 2800 Loss 0.5946072936058044 PPL 1.812319040298462 \n",
            "Epoch 7 Batch 2900 Loss 0.6069021821022034 PPL 1.834738850593567 \n",
            "Epoch 7 Batch 3000 Loss 0.6380974054336548 PPL 1.8928760290145874 \n",
            "Epoch 7 Batch 3100 Loss 0.5367955565452576 PPL 1.7105168104171753 \n",
            "Epoch 7 Batch 3200 Loss 0.5596354007720947 PPL 1.7500343322753906 \n",
            "Epoch 7 Batch 3300 Loss 0.5289515256881714 PPL 1.6971518993377686 \n",
            "Epoch 7 Batch 3400 Loss 0.637378990650177 PPL 1.8915166854858398 \n",
            "Epoch 7 Batch 3500 Loss 0.5944335460662842 PPL 1.8120042085647583 \n",
            "Epoch 7 Batch 3600 Loss 0.578798234462738 PPL 1.7838932275772095 \n",
            "Epoch 7 Batch 3700 Loss 0.6235604286193848 PPL 1.8655585050582886 \n",
            "Epoch 7 Batch 3800 Loss 0.6360625624656677 PPL 1.8890283107757568 \n",
            "Epoch 7 Batch 3900 Loss 0.6137825846672058 PPL 1.8474061489105225 \n",
            "Epoch 7 Batch 4000 Loss 0.6087596416473389 PPL 1.8381500244140625 \n",
            "Epoch 7 Batch 4100 Loss 0.5725919604301453 PPL 1.7728562355041504 \n",
            "Epoch 7 Batch 4200 Loss 0.609740138053894 PPL 1.8399531841278076 \n",
            "Epoch 7 Batch 4300 Loss 0.6383587718009949 PPL 1.8933707475662231 \n",
            "Epoch 7 Batch 4400 Loss 0.6515541672706604 PPL 1.9185203313827515 \n",
            "Epoch 7 Batch 4500 Loss 0.6262136697769165 PPL 1.8705147504806519 \n",
            "Epoch 7 Batch 4600 Loss 0.6125836968421936 PPL 1.8451926708221436 \n",
            "Epoch 7 Batch 4700 Loss 0.6690249443054199 PPL 1.952332615852356 \n",
            "Epoch 7 Batch 4800 Loss 0.5978965759277344 PPL 1.818290114402771 \n",
            "Epoch 7 Batch 4900 Loss 0.6514333486557007 PPL 1.9182883501052856 \n",
            "Epoch 7 Batch 5000 Loss 0.6113208532333374 PPL 1.842863917350769 \n",
            "Epoch 7 Batch 5100 Loss 0.6105790138244629 PPL 1.8414973020553589 \n",
            "Epoch 7 Batch 5200 Loss 0.6090458035469055 PPL 1.83867609500885 \n",
            "Epoch 7 Batch 5300 Loss 0.642569363117218 PPL 1.9013599157333374 \n",
            "Epoch 7 Batch 5400 Loss 0.6102306842803955 PPL 1.8408559560775757 \n",
            "Epoch 7 Batch 5500 Loss 0.697068452835083 PPL 2.0078580379486084 \n",
            "Epoch 7 Batch 5600 Loss 0.6808513402938843 PPL 1.975558876991272 \n",
            "Epoch 7 Batch 5700 Loss 0.6976484060287476 PPL 2.0090227127075195 \n",
            "Epoch 7 Loss 0.7014 PPL : 2.016646\n",
            "Time taken for 1 epoch 502.2826564311981 sec\n",
            "\n",
            "Epoch 8 Batch 0 Loss 0.6137742400169373 PPL 1.8473906517028809 \n",
            "Epoch 8 Batch 100 Loss 0.6020064353942871 PPL 1.8257784843444824 \n",
            "Epoch 8 Batch 200 Loss 0.7020084857940674 PPL 2.017801523208618 \n",
            "Epoch 8 Batch 300 Loss 0.7576396465301514 PPL 2.133234977722168 \n",
            "Epoch 8 Batch 400 Loss 0.6659328937530518 PPL 1.9463053941726685 \n",
            "Epoch 8 Batch 500 Loss 0.5887336134910583 PPL 1.801705241203308 \n",
            "Epoch 8 Batch 600 Loss 0.591138482093811 PPL 1.8060435056686401 \n",
            "Epoch 8 Batch 700 Loss 0.5522573590278625 PPL 1.7371699810028076 \n",
            "Epoch 8 Batch 800 Loss 0.6041649580001831 PPL 1.8297237157821655 \n",
            "Epoch 8 Batch 900 Loss 0.5820335149765015 PPL 1.789674162864685 \n",
            "Epoch 8 Batch 1000 Loss 0.6070870757102966 PPL 1.835078239440918 \n",
            "Epoch 8 Batch 1100 Loss 0.5978531837463379 PPL 1.8182111978530884 \n",
            "Epoch 8 Batch 1200 Loss 0.6244674921035767 PPL 1.8672512769699097 \n",
            "Epoch 8 Batch 1300 Loss 0.5802373886108398 PPL 1.786462426185608 \n",
            "Epoch 8 Batch 1400 Loss 0.5998309850692749 PPL 1.8218108415603638 \n",
            "Epoch 8 Batch 1500 Loss 0.5320919156074524 PPL 1.702489972114563 \n",
            "Epoch 8 Batch 1600 Loss 0.6137489080429077 PPL 1.8473440408706665 \n",
            "Epoch 8 Batch 1700 Loss 0.5822745561599731 PPL 1.7901055812835693 \n",
            "Epoch 8 Batch 1800 Loss 0.5529232025146484 PPL 1.738327145576477 \n",
            "Epoch 8 Batch 1900 Loss 0.5463183522224426 PPL 1.7268835306167603 \n",
            "Epoch 8 Batch 2000 Loss 0.6287111043930054 PPL 1.8751920461654663 \n",
            "Epoch 8 Batch 2100 Loss 0.6067973375320435 PPL 1.8345465660095215 \n",
            "Epoch 8 Batch 2200 Loss 0.5686416029930115 PPL 1.7658666372299194 \n",
            "Epoch 8 Batch 2300 Loss 0.5564026832580566 PPL 1.744386076927185 \n",
            "Epoch 8 Batch 2400 Loss 0.6786420941352844 PPL 1.9711991548538208 \n",
            "Epoch 8 Batch 2500 Loss 0.6461622714996338 PPL 1.9082036018371582 \n",
            "Epoch 8 Batch 2600 Loss 0.6133073568344116 PPL 1.84652841091156 \n",
            "Epoch 8 Batch 2700 Loss 0.681980311870575 PPL 1.9777904748916626 \n",
            "Epoch 8 Batch 2800 Loss 0.6211768984794617 PPL 1.8611171245574951 \n",
            "Epoch 8 Batch 2900 Loss 0.6276572346687317 PPL 1.8732168674468994 \n",
            "Epoch 8 Batch 3000 Loss 0.5549859404563904 PPL 1.741916537284851 \n",
            "Epoch 8 Batch 3100 Loss 0.5441673994064331 PPL 1.7231730222702026 \n",
            "Epoch 8 Batch 3200 Loss 0.4941103458404541 PPL 1.639039397239685 \n",
            "Epoch 8 Batch 3300 Loss 0.5540930032730103 PPL 1.7403618097305298 \n",
            "Epoch 8 Batch 3400 Loss 0.5994739532470703 PPL 1.8211605548858643 \n",
            "Epoch 8 Batch 3500 Loss 0.5534858107566833 PPL 1.7393053770065308 \n",
            "Epoch 8 Batch 3600 Loss 0.5956523418426514 PPL 1.8142139911651611 \n",
            "Epoch 8 Batch 3700 Loss 0.6727206707000732 PPL 1.9595613479614258 \n",
            "Epoch 8 Batch 3800 Loss 0.7041322588920593 PPL 2.0220911502838135 \n",
            "Epoch 8 Batch 3900 Loss 0.6523991227149963 PPL 1.9201419353485107 \n",
            "Epoch 8 Batch 4000 Loss 0.5885974764823914 PPL 1.8014600276947021 \n",
            "Epoch 8 Batch 4100 Loss 0.5752378702163696 PPL 1.7775533199310303 \n",
            "Epoch 8 Batch 4200 Loss 0.5833720564842224 PPL 1.7920712232589722 \n",
            "Epoch 8 Batch 4300 Loss 0.6571652293205261 PPL 1.929315447807312 \n",
            "Epoch 8 Batch 4400 Loss 0.6459951996803284 PPL 1.9078848361968994 \n",
            "Epoch 8 Batch 4500 Loss 0.5707425475120544 PPL 1.769580602645874 \n",
            "Epoch 8 Batch 4600 Loss 0.6120387315750122 PPL 1.8441873788833618 \n",
            "Epoch 8 Batch 4700 Loss 0.6413925886154175 PPL 1.8991236686706543 \n",
            "Epoch 8 Batch 4800 Loss 0.6257691383361816 PPL 1.8696835041046143 \n",
            "Epoch 8 Batch 4900 Loss 0.6439659595489502 PPL 1.9040172100067139 \n",
            "Epoch 8 Batch 5000 Loss 0.5805272459983826 PPL 1.786980390548706 \n",
            "Epoch 8 Batch 5100 Loss 0.6389536261558533 PPL 1.8944973945617676 \n",
            "Epoch 8 Batch 5200 Loss 0.6789962649345398 PPL 1.9718973636627197 \n",
            "Epoch 8 Batch 5300 Loss 0.6314437389373779 PPL 1.8803232908248901 \n",
            "Epoch 8 Batch 5400 Loss 0.6359639763832092 PPL 1.8888421058654785 \n",
            "Epoch 8 Batch 5500 Loss 0.751913845539093 PPL 2.1210556030273438 \n",
            "Epoch 8 Batch 5600 Loss 0.6625339388847351 PPL 1.9397011995315552 \n",
            "Epoch 8 Batch 5700 Loss 0.6637951135635376 PPL 1.942149043083191 \n",
            "Epoch 8 Loss 0.6190 PPL : 1.857007\n",
            "Time taken for 1 epoch 498.71229004859924 sec\n",
            "\n",
            "Epoch 9 Batch 0 Loss 0.6160401701927185 PPL 1.8515815734863281 \n",
            "Epoch 9 Batch 100 Loss 0.6150063276290894 PPL 1.849668264389038 \n",
            "Epoch 9 Batch 200 Loss 0.7210960984230042 PPL 2.0566864013671875 \n",
            "Epoch 9 Batch 300 Loss 0.7315025925636292 PPL 2.0782010555267334 \n",
            "Epoch 9 Batch 400 Loss 0.7148756980895996 PPL 2.0439326763153076 \n",
            "Epoch 9 Batch 500 Loss 0.5903742909431458 PPL 1.8046637773513794 \n",
            "Epoch 9 Batch 600 Loss 0.612306535243988 PPL 1.8446813821792603 \n",
            "Epoch 9 Batch 700 Loss 0.5564656257629395 PPL 1.7444959878921509 \n",
            "Epoch 9 Batch 800 Loss 0.5360334515571594 PPL 1.7092136144638062 \n",
            "Epoch 9 Batch 900 Loss 0.5710614323616028 PPL 1.7701449394226074 \n",
            "Epoch 9 Batch 1000 Loss 0.6584286689758301 PPL 1.931754469871521 \n",
            "Epoch 9 Batch 1100 Loss 0.6206316351890564 PPL 1.8601025342941284 \n",
            "Epoch 9 Batch 1200 Loss 0.589975118637085 PPL 1.8039435148239136 \n",
            "Epoch 9 Batch 1300 Loss 0.5646321773529053 PPL 1.758800745010376 \n",
            "Epoch 9 Batch 1400 Loss 0.5323154926300049 PPL 1.7028707265853882 \n",
            "Epoch 9 Batch 1500 Loss 0.6058400869369507 PPL 1.8327912092208862 \n",
            "Epoch 9 Batch 1600 Loss 0.6230510473251343 PPL 1.8646084070205688 \n",
            "Epoch 9 Batch 1700 Loss 0.6471200585365295 PPL 1.9100321531295776 \n",
            "Epoch 9 Batch 1800 Loss 0.6081840395927429 PPL 1.8370921611785889 \n",
            "Epoch 9 Batch 1900 Loss 0.5915830135345459 PPL 1.8068463802337646 \n",
            "Epoch 9 Batch 2000 Loss 0.5700997114181519 PPL 1.7684433460235596 \n",
            "Epoch 9 Batch 2100 Loss 0.5996038913726807 PPL 1.8213971853256226 \n",
            "Epoch 9 Batch 2200 Loss 0.5848237872123718 PPL 1.7946747541427612 \n",
            "Epoch 9 Batch 2300 Loss 0.5775370597839355 PPL 1.7816449403762817 \n",
            "Epoch 9 Batch 2400 Loss 0.7164227366447449 PPL 2.0470972061157227 \n",
            "Epoch 9 Batch 2500 Loss 0.6313260793685913 PPL 1.8801020383834839 \n",
            "Epoch 9 Batch 2600 Loss 0.5644473433494568 PPL 1.758475661277771 \n",
            "Epoch 9 Batch 2700 Loss 0.5993667840957642 PPL 1.82096529006958 \n",
            "Epoch 9 Batch 2800 Loss 0.623607873916626 PPL 1.8656469583511353 \n",
            "Epoch 9 Batch 2900 Loss 0.6016666889190674 PPL 1.8251582384109497 \n",
            "Epoch 9 Batch 3000 Loss 0.5855690836906433 PPL 1.7960128784179688 \n",
            "Epoch 9 Batch 3100 Loss 0.5742447376251221 PPL 1.7757887840270996 \n",
            "Epoch 9 Batch 3200 Loss 0.5242096185684204 PPL 1.689123272895813 \n",
            "Epoch 9 Batch 3300 Loss 0.568392276763916 PPL 1.7654263973236084 \n",
            "Epoch 9 Batch 3400 Loss 0.5770361423492432 PPL 1.7807526588439941 \n",
            "Epoch 9 Batch 3500 Loss 0.5786802172660828 PPL 1.7836828231811523 \n",
            "Epoch 9 Batch 3600 Loss 0.5855202674865723 PPL 1.7959251403808594 \n",
            "Epoch 9 Batch 3700 Loss 0.671293318271637 PPL 1.9567663669586182 \n",
            "Epoch 9 Batch 3800 Loss 0.5876232385635376 PPL 1.7997057437896729 \n",
            "Epoch 9 Batch 3900 Loss 0.7128866314888 PPL 2.0398709774017334 \n",
            "Epoch 9 Batch 4000 Loss 0.5787321329116821 PPL 1.7837755680084229 \n",
            "Epoch 9 Batch 4100 Loss 0.5712143182754517 PPL 1.7704155445098877 \n",
            "Epoch 9 Batch 4200 Loss 0.5531461238861084 PPL 1.738714575767517 \n",
            "Epoch 9 Batch 4300 Loss 0.653674304485321 PPL 1.922592043876648 \n",
            "Epoch 9 Batch 4400 Loss 0.6422644257545471 PPL 1.9007800817489624 \n",
            "Epoch 9 Batch 4500 Loss 0.6196609139442444 PPL 1.8582978248596191 \n",
            "Epoch 9 Batch 4600 Loss 0.693418025970459 PPL 2.0005416870117188 \n",
            "Epoch 9 Batch 4700 Loss 0.6028080582618713 PPL 1.8272426128387451 \n",
            "Epoch 9 Batch 4800 Loss 0.6146843433380127 PPL 1.849072813987732 \n",
            "Epoch 9 Batch 4900 Loss 0.6631131172180176 PPL 1.9408248662948608 \n",
            "Epoch 9 Batch 5000 Loss 0.6159663796424866 PPL 1.851444959640503 \n",
            "Epoch 9 Batch 5100 Loss 0.5847895741462708 PPL 1.794613242149353 \n",
            "Epoch 9 Batch 5200 Loss 0.6070452332496643 PPL 1.8350013494491577 \n",
            "Epoch 9 Batch 5300 Loss 0.5966964364051819 PPL 1.8161091804504395 \n",
            "Epoch 9 Batch 5400 Loss 0.6359747052192688 PPL 1.8888623714447021 \n",
            "Epoch 9 Batch 5500 Loss 0.7188075184822083 PPL 2.0519847869873047 \n",
            "Epoch 9 Batch 5600 Loss 0.6486791968345642 PPL 1.9130123853683472 \n",
            "Epoch 9 Batch 5700 Loss 0.6266653537750244 PPL 1.8713598251342773 \n",
            "Epoch 9 Loss 0.6445 PPL : 1.905114\n",
            "Time taken for 1 epoch 498.94275307655334 sec\n",
            "\n",
            "Epoch 10 Batch 0 Loss 0.5748260617256165 PPL 1.7768213748931885 \n",
            "Epoch 10 Batch 100 Loss 0.5992881059646606 PPL 1.8208221197128296 \n",
            "Epoch 10 Batch 200 Loss 0.7005841732025146 PPL 2.0149295330047607 \n",
            "Epoch 10 Batch 300 Loss 0.6902307868003845 PPL 1.9941757917404175 \n",
            "Epoch 10 Batch 400 Loss 0.6297965049743652 PPL 1.8772286176681519 \n",
            "Epoch 10 Batch 500 Loss 0.5689993500709534 PPL 1.7664984464645386 \n",
            "Epoch 10 Batch 600 Loss 0.5563653707504272 PPL 1.7443209886550903 \n",
            "Epoch 10 Batch 700 Loss 0.5540891289710999 PPL 1.7403550148010254 \n",
            "Epoch 10 Batch 800 Loss 0.5560863614082336 PPL 1.7438344955444336 \n",
            "Epoch 10 Batch 900 Loss 0.5997427105903625 PPL 1.8216501474380493 \n",
            "Epoch 10 Batch 1000 Loss 0.6116605401039124 PPL 1.8434900045394897 \n",
            "Epoch 10 Batch 1100 Loss 0.6317590475082397 PPL 1.8809163570404053 \n",
            "Epoch 10 Batch 1200 Loss 0.6194204092025757 PPL 1.8578509092330933 \n",
            "Epoch 10 Batch 1300 Loss 0.5817491412162781 PPL 1.7891652584075928 \n",
            "Epoch 10 Batch 1400 Loss 0.6248946189880371 PPL 1.8680490255355835 \n",
            "Epoch 10 Batch 1500 Loss 0.5251339077949524 PPL 1.6906852722167969 \n",
            "Epoch 10 Batch 1600 Loss 0.5983070135116577 PPL 1.819036602973938 \n",
            "Epoch 10 Batch 1700 Loss 0.5689168572425842 PPL 1.7663527727127075 \n",
            "Epoch 10 Batch 1800 Loss 0.5955078601837158 PPL 1.8139519691467285 \n",
            "Epoch 10 Batch 1900 Loss 0.615461528301239 PPL 1.8505104780197144 \n",
            "Epoch 10 Batch 2000 Loss 0.551728367805481 PPL 1.7362512350082397 \n",
            "Epoch 10 Batch 2100 Loss 0.5347576141357422 PPL 1.7070343494415283 \n",
            "Epoch 10 Batch 2200 Loss 0.6212047338485718 PPL 1.8611689805984497 \n",
            "Epoch 10 Batch 2300 Loss 0.5802367925643921 PPL 1.786461353302002 \n",
            "Epoch 10 Batch 2400 Loss 0.6279882192611694 PPL 1.8738369941711426 \n",
            "Epoch 10 Batch 2500 Loss 0.6374325752258301 PPL 1.891618013381958 \n",
            "Epoch 10 Batch 2600 Loss 0.589602530002594 PPL 1.8032715320587158 \n",
            "Epoch 10 Batch 2700 Loss 0.6163743734359741 PPL 1.8522005081176758 \n",
            "Epoch 10 Batch 2800 Loss 0.6614028811454773 PPL 1.9375085830688477 \n",
            "Epoch 10 Batch 2900 Loss 0.5971271395683289 PPL 1.8168916702270508 \n",
            "Epoch 10 Batch 3000 Loss 0.5154516696929932 PPL 1.6743944883346558 \n",
            "Epoch 10 Batch 3100 Loss 0.5498720407485962 PPL 1.7330312728881836 \n",
            "Epoch 10 Batch 3200 Loss 0.5503668785095215 PPL 1.7338889837265015 \n",
            "Epoch 10 Batch 3300 Loss 0.5638117790222168 PPL 1.757358431816101 \n",
            "Epoch 10 Batch 3400 Loss 0.6054613590240479 PPL 1.8320972919464111 \n",
            "Epoch 10 Batch 3500 Loss 0.5560108423233032 PPL 1.74370276927948 \n",
            "Epoch 10 Batch 3600 Loss 0.5936592221260071 PPL 1.8106017112731934 \n",
            "Epoch 10 Batch 3700 Loss 0.5675379633903503 PPL 1.7639187574386597 \n",
            "Epoch 10 Batch 3800 Loss 0.628400444984436 PPL 1.8746097087860107 \n",
            "Epoch 10 Batch 3900 Loss 0.6809248328208923 PPL 1.9757040739059448 \n",
            "Epoch 10 Batch 4000 Loss 0.6277859210968018 PPL 1.873457908630371 \n",
            "Epoch 10 Batch 4100 Loss 0.5346559882164001 PPL 1.706860899925232 \n",
            "Epoch 10 Batch 4200 Loss 0.6123581528663635 PPL 1.8447763919830322 \n",
            "Epoch 10 Batch 4300 Loss 0.6483110785484314 PPL 1.9123083353042603 \n",
            "Epoch 10 Batch 4400 Loss 0.6775728464126587 PPL 1.969092607498169 \n",
            "Epoch 10 Batch 4500 Loss 0.6056450009346008 PPL 1.8324337005615234 \n",
            "Epoch 10 Batch 4600 Loss 0.6029974222183228 PPL 1.827588677406311 \n",
            "Epoch 10 Batch 4700 Loss 0.6783502697944641 PPL 1.9706239700317383 \n",
            "Epoch 10 Batch 4800 Loss 0.5062315464019775 PPL 1.6590274572372437 \n",
            "Epoch 10 Batch 4900 Loss 0.580934464931488 PPL 1.7877082824707031 \n",
            "Epoch 10 Batch 5000 Loss 0.6264288425445557 PPL 1.8709173202514648 \n",
            "Epoch 10 Batch 5100 Loss 0.513266921043396 PPL 1.6707404851913452 \n",
            "Epoch 10 Batch 5200 Loss 0.5997710227966309 PPL 1.8217015266418457 \n",
            "Epoch 10 Batch 5300 Loss 0.587739884853363 PPL 1.7999157905578613 \n",
            "Epoch 10 Batch 5400 Loss 0.6011871099472046 PPL 1.8242831230163574 \n",
            "Epoch 10 Batch 5500 Loss 0.7445210218429565 PPL 2.1054327487945557 \n",
            "Epoch 10 Batch 5600 Loss 0.689596951007843 PPL 1.9929121732711792 \n",
            "Epoch 10 Batch 5700 Loss 0.6800292730331421 PPL 1.9739354848861694 \n",
            "Epoch 10 Loss 0.6740 PPL : 1.962098\n",
            "Time taken for 1 epoch 497.5713150501251 sec\n",
            "\n"
          ],
          "name": "stdout"
        }
      ]
    },
    {
      "cell_type": "code",
      "metadata": {
        "id": "g0DGNUAOmlEj",
        "colab_type": "code",
        "colab": {
          "base_uri": "https://localhost:8080/",
          "height": 381
        },
        "outputId": "c713b1fa-c5d9-47b8-b828-8b3f86b549d5"
      },
      "source": [
        "EPOCHS = 10\n",
        "\n",
        "for epoch in range(EPOCHS):\n",
        "  start = time.time()\n",
        "\n",
        "  for (batch_n, (inp, target)) in enumerate(dataset_test):\n",
        "      predictions = model(inp)\n",
        "      loss = tf.reduce_mean(\n",
        "        tf.keras.losses.sparse_categorical_crossentropy(\n",
        "            target, predictions, from_logits=True))\n",
        "      ppl = 2**loss\n",
        "    \n",
        "\n",
        "      if batch_n % 100 == 0:\n",
        "        template = 'Epoch {} Batch {} Loss {} PPL {}'\n",
        "        print(template.format(epoch+1, batch_n, loss, 2**loss))"
      ],
      "execution_count": 37,
      "outputs": [
        {
          "output_type": "stream",
          "text": [
            "Epoch 1 Batch 0 Loss 10.047724723815918 PPL 1058.440673828125\n",
            "Epoch 1 Batch 100 Loss 9.364052772521973 PPL 658.962646484375\n",
            "Epoch 2 Batch 0 Loss 9.362037658691406 PPL 658.0428466796875\n",
            "Epoch 2 Batch 100 Loss 9.17358684539795 PPL 577.4638061523438\n",
            "Epoch 3 Batch 0 Loss 9.317740440368652 PPL 638.1449584960938\n",
            "Epoch 3 Batch 100 Loss 9.308002471923828 PPL 633.8521728515625\n",
            "Epoch 4 Batch 0 Loss 9.18478012084961 PPL 581.9616088867188\n",
            "Epoch 4 Batch 100 Loss 9.172714233398438 PPL 577.1146850585938\n",
            "Epoch 5 Batch 0 Loss 9.312122344970703 PPL 635.6648559570312\n",
            "Epoch 5 Batch 100 Loss 9.171987533569336 PPL 576.8240356445312\n",
            "Epoch 6 Batch 0 Loss 9.230301856994629 PPL 600.6171264648438\n",
            "Epoch 6 Batch 100 Loss 9.24749755859375 PPL 607.8187866210938\n",
            "Epoch 7 Batch 0 Loss 9.238277435302734 PPL 603.9467163085938\n",
            "Epoch 7 Batch 100 Loss 9.224835395812988 PPL 598.3456420898438\n",
            "Epoch 8 Batch 0 Loss 9.323156356811523 PPL 640.545166015625\n",
            "Epoch 8 Batch 100 Loss 9.043418884277344 PPL 527.6432495117188\n",
            "Epoch 9 Batch 0 Loss 9.275956153869629 PPL 619.9276733398438\n",
            "Epoch 9 Batch 100 Loss 9.22299861907959 PPL 597.5843505859375\n",
            "Epoch 10 Batch 0 Loss 9.190469741821289 PPL 584.26123046875\n",
            "Epoch 10 Batch 100 Loss 9.122370719909668 PPL 557.3233032226562\n"
          ],
          "name": "stdout"
        }
      ]
    },
    {
      "cell_type": "code",
      "metadata": {
        "id": "RhCnTvwNax5R",
        "colab_type": "code",
        "colab": {
          "base_uri": "https://localhost:8080/",
          "height": 401
        },
        "outputId": "2b3b32eb-fa05-4b05-e99b-933ab7806b74"
      },
      "source": [
        "#calculating Jaccard distance between Output and Test datas\n",
        "ctoi_output = {u:i for i, u in enumerate(vocab_output)}\n",
        "t_as_i_output = np.array([ctoi_output[c] for c in t])\n",
        "b = set(t_as_i.tolist())\n",
        "a = set(t_as_i_output.tolist())\n",
        "import nltk\n",
        "print(\"Jaccard distance between output and test:\", nltk.jaccard_distance(a, b) )\n"
      ],
      "execution_count": 38,
      "outputs": [
        {
          "output_type": "stream",
          "text": [
            "WARNING:tensorflow:Unresolved object in checkpoint: (root).optimizer\n",
            "WARNING:tensorflow:Unresolved object in checkpoint: (root).optimizer.iter\n",
            "WARNING:tensorflow:Unresolved object in checkpoint: (root).optimizer.beta_1\n",
            "WARNING:tensorflow:Unresolved object in checkpoint: (root).optimizer.beta_2\n",
            "WARNING:tensorflow:Unresolved object in checkpoint: (root).optimizer.decay\n",
            "WARNING:tensorflow:Unresolved object in checkpoint: (root).optimizer.learning_rate\n",
            "WARNING:tensorflow:Unresolved object in checkpoint: (root).optimizer's state 'm' for (root).layer_with_weights-0.embeddings\n",
            "WARNING:tensorflow:Unresolved object in checkpoint: (root).optimizer's state 'm' for (root).layer_with_weights-2.kernel\n",
            "WARNING:tensorflow:Unresolved object in checkpoint: (root).optimizer's state 'm' for (root).layer_with_weights-2.bias\n",
            "WARNING:tensorflow:Unresolved object in checkpoint: (root).optimizer's state 'm' for (root).layer_with_weights-1.cell.kernel\n",
            "WARNING:tensorflow:Unresolved object in checkpoint: (root).optimizer's state 'm' for (root).layer_with_weights-1.cell.recurrent_kernel\n",
            "WARNING:tensorflow:Unresolved object in checkpoint: (root).optimizer's state 'm' for (root).layer_with_weights-1.cell.bias\n",
            "WARNING:tensorflow:Unresolved object in checkpoint: (root).optimizer's state 'v' for (root).layer_with_weights-0.embeddings\n",
            "WARNING:tensorflow:Unresolved object in checkpoint: (root).optimizer's state 'v' for (root).layer_with_weights-2.kernel\n",
            "WARNING:tensorflow:Unresolved object in checkpoint: (root).optimizer's state 'v' for (root).layer_with_weights-2.bias\n",
            "WARNING:tensorflow:Unresolved object in checkpoint: (root).optimizer's state 'v' for (root).layer_with_weights-1.cell.kernel\n",
            "WARNING:tensorflow:Unresolved object in checkpoint: (root).optimizer's state 'v' for (root).layer_with_weights-1.cell.recurrent_kernel\n",
            "WARNING:tensorflow:Unresolved object in checkpoint: (root).optimizer's state 'v' for (root).layer_with_weights-1.cell.bias\n",
            "WARNING:tensorflow:A checkpoint was restored (e.g. tf.train.Checkpoint.restore or tf.keras.Model.load_weights) but not all checkpointed values were used. See above for specific issues. Use expect_partial() on the load status object, e.g. tf.train.Checkpoint.restore(...).expect_partial(), to silence these warnings, or use assert_consumed() to make the check explicit. See https://www.tensorflow.org/guide/checkpoint#loading_mechanics for details.\n",
            "Jaccard distance between output and test: 0.3076923076923077\n"
          ],
          "name": "stdout"
        }
      ]
    }
  ]
}