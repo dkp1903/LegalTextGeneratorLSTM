{
  "nbformat": 4,
  "nbformat_minor": 0,
  "metadata": {
    "kernelspec": {
      "display_name": "Python 3",
      "language": "python",
      "name": "python3"
    },
    "language_info": {
      "name": "python",
      "version": "3.6.4",
      "mimetype": "text/x-python",
      "codemirror_mode": {
        "name": "ipython",
        "version": 3
      },
      "pygments_lexer": "ipython3",
      "nbconvert_exporter": "python",
      "file_extension": ".py"
    },
    "colab": {
      "name": "201701062_Project_CharRNN_PyTorch.ipynb",
      "provenance": [],
      "collapsed_sections": []
    },
    "accelerator": "GPU"
  },
  "cells": [
    {
      "cell_type": "markdown",
      "metadata": {
        "id": "47Gbx4Pob6cF",
        "colab_type": "text"
      },
      "source": [
        "**Import the libraries**"
      ]
    },
    {
      "cell_type": "markdown",
      "metadata": {
        "id": "2lwVuuLMDjKa",
        "colab_type": "text"
      },
      "source": [
        "**Project: Legal Text Generation using Recurrent Neural Networks**\n",
        "\n",
        "**Dushyant Pathak**\n",
        "\n",
        "**201701062**\n",
        "\n",
        "**PyTorch - Torch implementation - Word Level RNN**"
      ]
    },
    {
      "cell_type": "code",
      "metadata": {
        "id": "BSDsGBlYRdTh",
        "colab_type": "code",
        "outputId": "eaeb1dce-775d-4f70-9e9a-60f2565f1cef",
        "colab": {
          "base_uri": "https://localhost:8080/",
          "height": 328
        }
      },
      "source": [
        "!pip install Unidecode\n",
        "!pip install torch==1.5.0+cu101 torchvision==0.6.0+cu101 -f https://download.pytorch.org/whl/torch_stable.html\n",
        "!pip install torchvision"
      ],
      "execution_count": 1,
      "outputs": [
        {
          "output_type": "stream",
          "text": [
            "Collecting Unidecode\n",
            "\u001b[?25l  Downloading https://files.pythonhosted.org/packages/d0/42/d9edfed04228bacea2d824904cae367ee9efd05e6cce7ceaaedd0b0ad964/Unidecode-1.1.1-py2.py3-none-any.whl (238kB)\n",
            "\r\u001b[K     |█▍                              | 10kB 19.1MB/s eta 0:00:01\r\u001b[K     |██▊                             | 20kB 1.8MB/s eta 0:00:01\r\u001b[K     |████▏                           | 30kB 2.3MB/s eta 0:00:01\r\u001b[K     |█████▌                          | 40kB 2.5MB/s eta 0:00:01\r\u001b[K     |██████▉                         | 51kB 2.0MB/s eta 0:00:01\r\u001b[K     |████████▎                       | 61kB 2.3MB/s eta 0:00:01\r\u001b[K     |█████████▋                      | 71kB 2.6MB/s eta 0:00:01\r\u001b[K     |███████████                     | 81kB 2.8MB/s eta 0:00:01\r\u001b[K     |████████████▍                   | 92kB 2.9MB/s eta 0:00:01\r\u001b[K     |█████████████▊                  | 102kB 2.8MB/s eta 0:00:01\r\u001b[K     |███████████████▏                | 112kB 2.8MB/s eta 0:00:01\r\u001b[K     |████████████████▌               | 122kB 2.8MB/s eta 0:00:01\r\u001b[K     |█████████████████▉              | 133kB 2.8MB/s eta 0:00:01\r\u001b[K     |███████████████████▎            | 143kB 2.8MB/s eta 0:00:01\r\u001b[K     |████████████████████▋           | 153kB 2.8MB/s eta 0:00:01\r\u001b[K     |██████████████████████          | 163kB 2.8MB/s eta 0:00:01\r\u001b[K     |███████████████████████▍        | 174kB 2.8MB/s eta 0:00:01\r\u001b[K     |████████████████████████▊       | 184kB 2.8MB/s eta 0:00:01\r\u001b[K     |██████████████████████████▏     | 194kB 2.8MB/s eta 0:00:01\r\u001b[K     |███████████████████████████▌    | 204kB 2.8MB/s eta 0:00:01\r\u001b[K     |████████████████████████████▉   | 215kB 2.8MB/s eta 0:00:01\r\u001b[K     |██████████████████████████████▎ | 225kB 2.8MB/s eta 0:00:01\r\u001b[K     |███████████████████████████████▋| 235kB 2.8MB/s eta 0:00:01\r\u001b[K     |████████████████████████████████| 245kB 2.8MB/s \n",
            "\u001b[?25hInstalling collected packages: Unidecode\n",
            "Successfully installed Unidecode-1.1.1\n",
            "Looking in links: https://download.pytorch.org/whl/torch_stable.html\n",
            "Requirement already satisfied: torch==1.5.0+cu101 in /usr/local/lib/python3.6/dist-packages (1.5.0+cu101)\n",
            "Requirement already satisfied: torchvision==0.6.0+cu101 in /usr/local/lib/python3.6/dist-packages (0.6.0+cu101)\n",
            "Requirement already satisfied: numpy in /usr/local/lib/python3.6/dist-packages (from torch==1.5.0+cu101) (1.18.3)\n",
            "Requirement already satisfied: future in /usr/local/lib/python3.6/dist-packages (from torch==1.5.0+cu101) (0.16.0)\n",
            "Requirement already satisfied: pillow>=4.1.1 in /usr/local/lib/python3.6/dist-packages (from torchvision==0.6.0+cu101) (7.0.0)\n",
            "Requirement already satisfied: torchvision in /usr/local/lib/python3.6/dist-packages (0.6.0+cu101)\n",
            "Requirement already satisfied: torch==1.5.0 in /usr/local/lib/python3.6/dist-packages (from torchvision) (1.5.0+cu101)\n",
            "Requirement already satisfied: numpy in /usr/local/lib/python3.6/dist-packages (from torchvision) (1.18.3)\n",
            "Requirement already satisfied: pillow>=4.1.1 in /usr/local/lib/python3.6/dist-packages (from torchvision) (7.0.0)\n",
            "Requirement already satisfied: future in /usr/local/lib/python3.6/dist-packages (from torch==1.5.0->torchvision) (0.16.0)\n"
          ],
          "name": "stdout"
        }
      ]
    },
    {
      "cell_type": "code",
      "metadata": {
        "_uuid": "8f2839f25d086af736a60e9eeb907d3b93b6e0e5",
        "_cell_guid": "b1076dfc-b9ad-4769-8c92-a6c4dae69d19",
        "trusted": true,
        "id": "eEfT9a5Ib6cH",
        "colab_type": "code",
        "colab": {}
      },
      "source": [
        "import numpy as np\n",
        "import pandas as pd\n",
        "import matplotlib.pyplot as plt\n",
        "import nltk\n",
        "import string\n",
        "import unidecode\n",
        "import random\n",
        "import torch"
      ],
      "execution_count": 0,
      "outputs": []
    },
    {
      "cell_type": "code",
      "metadata": {
        "id": "9yoxQiWFhZ5g",
        "colab_type": "code",
        "colab": {}
      },
      "source": [
        "from numba import cuda\n",
        "cuda.select_device(0)\n",
        "cuda.close()"
      ],
      "execution_count": 0,
      "outputs": []
    },
    {
      "cell_type": "code",
      "metadata": {
        "trusted": true,
        "id": "v4fnlWjPb6cN",
        "colab_type": "code",
        "outputId": "94082095-7d74-4b8b-dc44-f0756942baab",
        "colab": {
          "base_uri": "https://localhost:8080/",
          "height": 35
        }
      },
      "source": [
        "# Check if GPU is available\n",
        "train_on_gpu = torch.cuda.is_available()\n",
        "if(train_on_gpu):\n",
        "    print('Training on GPU!')\n",
        "else: \n",
        "    print('No GPU available, training on CPU; consider making n_epochs very small.')"
      ],
      "execution_count": 4,
      "outputs": [
        {
          "output_type": "stream",
          "text": [
            "Training on GPU!\n"
          ],
          "name": "stdout"
        }
      ]
    },
    {
      "cell_type": "markdown",
      "metadata": {
        "id": "ZWXL6-wQb6cT",
        "colab_type": "text"
      },
      "source": [
        "**Load the dataset**"
      ]
    },
    {
      "cell_type": "code",
      "metadata": {
        "_cell_guid": "79c7e3d0-c299-4dcb-8224-4455121ee9b0",
        "_uuid": "d629ff2d2480ee46fbb7e2d37f6b5fab8052498a",
        "trusted": true,
        "id": "LGafCv9Db6cU",
        "colab_type": "code",
        "outputId": "382b01a1-c889-4ba3-bdb6-62ed1e24a3cb",
        "colab": {
          "base_uri": "https://localhost:8080/",
          "height": 128
        }
      },
      "source": [
        "from google.colab import drive\n",
        "drive.mount('/content/drive')"
      ],
      "execution_count": 5,
      "outputs": [
        {
          "output_type": "stream",
          "text": [
            "Go to this URL in a browser: https://accounts.google.com/o/oauth2/auth?client_id=947318989803-6bn6qk8qdgf4n4g3pfee6491hc0brc4i.apps.googleusercontent.com&redirect_uri=urn%3aietf%3awg%3aoauth%3a2.0%3aoob&response_type=code&scope=email%20https%3a%2f%2fwww.googleapis.com%2fauth%2fdocs.test%20https%3a%2f%2fwww.googleapis.com%2fauth%2fdrive%20https%3a%2f%2fwww.googleapis.com%2fauth%2fdrive.photos.readonly%20https%3a%2f%2fwww.googleapis.com%2fauth%2fpeopleapi.readonly\n",
            "\n",
            "Enter your authorization code:\n",
            "··········\n",
            "Mounted at /content/drive\n"
          ],
          "name": "stdout"
        }
      ]
    },
    {
      "cell_type": "markdown",
      "metadata": {
        "id": "7Piujg-Yb6ca",
        "colab_type": "text"
      },
      "source": [
        "**Dataset cleaning**"
      ]
    },
    {
      "cell_type": "code",
      "metadata": {
        "trusted": true,
        "id": "1USDcyBpb6cb",
        "colab_type": "code",
        "colab": {}
      },
      "source": [
        "path_to_file = '/content/drive/My Drive/dataset_2.txt'\n",
        "text = open(path_to_file, 'rb').read().decode(encoding='utf-8', errors='ignore')\n"
      ],
      "execution_count": 0,
      "outputs": []
    },
    {
      "cell_type": "code",
      "metadata": {
        "trusted": true,
        "id": "pxnp0FGhb6cf",
        "colab_type": "code",
        "outputId": "36f07e6b-386e-43bd-b72f-4dfdb8defc43",
        "colab": {
          "base_uri": "https://localhost:8080/",
          "height": 55
        }
      },
      "source": [
        "##Word Level RNN has been used. To try Char Level, uncomment the commented line\n",
        "\n",
        "test_sentence = text.split()\n",
        "#test_sentence = text\n",
        "print(test_sentence[:100])"
      ],
      "execution_count": 8,
      "outputs": [
        {
          "output_type": "stream",
          "text": [
            "['THE', 'JOINT', 'COUNCIL,', 'Having', 'regard', 'to', 'the', 'Economic', 'Partnership,', 'Political', 'Coordination', 'and', 'Cooperation', 'Agreement', 'between', 'the', 'European', 'Community', 'and', 'its', 'Member', 'States,', 'of', 'the', 'one', 'part,', 'and', 'the', 'United', 'Mexican', 'States,', 'of', 'the', 'other', 'part', '(hereinafter', '\"the', 'Agreement\"),', 'and', 'in', 'particular', 'articles', '6,', '9,', '12', 'and', '50', 'in', 'conjunction', 'with', 'Article', '47', 'thereof.', 'Mindful', 'of', 'their', 'rights', 'and', 'obligations', 'under', 'the', 'Marrakesh', 'Agreement', 'establishing', 'the', 'World', 'Trade', 'Organisation', '(hereinafter', '\"the', 'WTO\").', 'Whereas:', '(1)', 'Article', '4', 'and', '6', 'of', 'the', 'Agreement', 'provide', 'that', 'the', 'Joint', 'Council', 'shall', 'decide', 'on', 'the', 'arrangements', 'for', 'a', 'progressive', 'and', 'reciprocal', 'liberalisation', 'of', 'trade', 'in', 'services,']\n"
          ],
          "name": "stdout"
        }
      ]
    },
    {
      "cell_type": "markdown",
      "metadata": {
        "id": "0XFOCZhiEFHI",
        "colab_type": "text"
      },
      "source": [
        "Trigram mapping from input to target word."
      ]
    },
    {
      "cell_type": "code",
      "metadata": {
        "trusted": true,
        "id": "LwMiiZuLb6cp",
        "colab_type": "code",
        "outputId": "c915c680-a473-4df5-ff5f-c40b5fc3514e",
        "colab": {
          "base_uri": "https://localhost:8080/",
          "height": 35
        }
      },
      "source": [
        "trigrams = [([test_sentence[i], test_sentence[i + 1]], test_sentence[i + 2])\n",
        "            for i in range(len(test_sentence) - 2)]\n",
        "chunk_len=len(trigrams)\n",
        "print(trigrams[:3])"
      ],
      "execution_count": 9,
      "outputs": [
        {
          "output_type": "stream",
          "text": [
            "[(['THE', 'JOINT'], 'COUNCIL,'), (['JOINT', 'COUNCIL,'], 'Having'), (['COUNCIL,', 'Having'], 'regard')]\n"
          ],
          "name": "stdout"
        }
      ]
    },
    {
      "cell_type": "code",
      "metadata": {
        "trusted": true,
        "id": "jtq026E6b6cv",
        "colab_type": "code",
        "colab": {}
      },
      "source": [
        "## Word to int mapping\n",
        "vocab = set(test_sentence)\n",
        "voc_len=len(vocab)\n",
        "word_to_ix = {word: i for i, word in enumerate(vocab)}"
      ],
      "execution_count": 0,
      "outputs": []
    },
    {
      "cell_type": "code",
      "metadata": {
        "trusted": true,
        "id": "xuSjM6pXb6cz",
        "colab_type": "code",
        "colab": {}
      },
      "source": [
        "inp=[]\n",
        "tar=[]\n",
        "for context, target in trigrams:\n",
        "        context_idxs = torch.tensor([word_to_ix[w] for w in context], dtype=torch.long)\n",
        "        inp.append(context_idxs)\n",
        "        targ = torch.tensor([word_to_ix[target]], dtype=torch.long)\n",
        "        tar.append(targ)"
      ],
      "execution_count": 0,
      "outputs": []
    },
    {
      "cell_type": "markdown",
      "metadata": {
        "id": "ig4siQnab6c3",
        "colab_type": "text"
      },
      "source": [
        "**GRU model for Text Generation**"
      ]
    },
    {
      "cell_type": "code",
      "metadata": {
        "trusted": true,
        "id": "jVD4bfTpb6c5",
        "colab_type": "code",
        "colab": {}
      },
      "source": [
        "import torch\n",
        "import torch.nn as nn\n",
        "from torch.autograd import Variable\n",
        "\n",
        "class RNN(nn.Module):\n",
        "    def __init__(self, input_size, hidden_size, output_size, n_layers=1):\n",
        "        super(RNN, self).__init__()\n",
        "        self.input_size = input_size\n",
        "        self.hidden_size = hidden_size\n",
        "        self.output_size = output_size\n",
        "        self.n_layers = n_layers\n",
        "        \n",
        "        self.encoder = nn.Embedding(input_size, hidden_size)\n",
        "        self.gru = nn.GRU(hidden_size*2, hidden_size, n_layers,batch_first=True,\n",
        "                          bidirectional=False)\n",
        "        self.decoder = nn.Linear(hidden_size, output_size)\n",
        "    \n",
        "    def forward(self, input, hidden):\n",
        "        input = self.encoder(input.view(1, -1))\n",
        "        output, hidden = self.gru(input.view(1, 1, -1), hidden)\n",
        "        output = self.decoder(output.view(1, -1))\n",
        "        return output, hidden\n",
        "\n",
        "    def init_hidden(self):\n",
        "        return Variable(torch.zeros(self.n_layers, 1, self.hidden_size))"
      ],
      "execution_count": 0,
      "outputs": []
    },
    {
      "cell_type": "code",
      "metadata": {
        "trusted": true,
        "id": "tR2TVfcTb6c-",
        "colab_type": "code",
        "colab": {}
      },
      "source": [
        "def train(inp, target):\n",
        "    hidden = decoder.init_hidden().cuda()\n",
        "    decoder.zero_grad()\n",
        "    loss = 0\n",
        "    \n",
        "    for c in range(chunk_len):\n",
        "        output, hidden = decoder(inp[c].cuda(), hidden)\n",
        "        loss += criterion(output, target[c].cuda())\n",
        "\n",
        "    loss.backward()\n",
        "    decoder_optimizer.step()\n",
        "\n",
        "    return loss.data.item() / chunk_len"
      ],
      "execution_count": 0,
      "outputs": []
    },
    {
      "cell_type": "code",
      "metadata": {
        "trusted": true,
        "id": "oCNQFHkrb6dG",
        "colab_type": "code",
        "colab": {}
      },
      "source": [
        "import time, math\n",
        "\n",
        "def time_since(since):\n",
        "    s = time.time() - since\n",
        "    m = math.floor(s / 60)\n",
        "    s -= m * 60\n",
        "    return '%dm %ds' % (m, s)"
      ],
      "execution_count": 0,
      "outputs": []
    },
    {
      "cell_type": "code",
      "metadata": {
        "trusted": true,
        "id": "z6hXP6UJb6dN",
        "colab_type": "code",
        "outputId": "654825f6-8ffd-4467-87f2-3c3f79bbd356",
        "colab": {
          "base_uri": "https://localhost:8080/",
          "height": 199
        }
      },
      "source": [
        "n_epochs = 10\n",
        "print_every = 2\n",
        "plot_every = 2\n",
        "hidden_size = 100\n",
        "n_layers = 1\n",
        "lr = 0.015\n",
        "\n",
        "decoder = RNN(voc_len, hidden_size, voc_len, n_layers)\n",
        "decoder_optimizer = torch.optim.Adam(decoder.parameters(), lr=lr)\n",
        "criterion = nn.CrossEntropyLoss()\n",
        "\n",
        "start = time.time()\n",
        "all_losses = []\n",
        "loss_avg = 0\n",
        "if(train_on_gpu):\n",
        "    decoder.cuda()\n",
        "for epoch in range(1, n_epochs + 1):\n",
        "    loss = train(inp,tar)       \n",
        "    loss_avg += loss\n",
        "\n",
        "    if epoch % print_every == 0:\n",
        "        print('[%s (%d %d%%) %.4f]' % (time_since(start), epoch, epoch / n_epochs * 50, loss))\n",
        "        print('Perplexity: %.4f', 2**loss)\n",
        "#         print(evaluate('ge', 200), '\\n')\n",
        "\n",
        "    if epoch % plot_every == 0:\n",
        "        all_losses.append(loss_avg / plot_every)\n",
        "        loss_avg = 0"
      ],
      "execution_count": 15,
      "outputs": [
        {
          "output_type": "stream",
          "text": [
            "[5m 35s (2 10%) 8.3393]\n",
            "Perplexity: %.4f 323.86729556241636\n",
            "[11m 1s (4 20%) 6.3825]\n",
            "Perplexity: %.4f 83.43007942924005\n",
            "[16m 28s (6 30%) 5.8076]\n",
            "Perplexity: %.4f 56.01095084594195\n",
            "[21m 58s (8 40%) 5.5072]\n",
            "Perplexity: %.4f 45.48166657980848\n",
            "[27m 25s (10 50%) 5.1327]\n",
            "Perplexity: %.4f 35.08305150582931\n"
          ],
          "name": "stdout"
        }
      ]
    },
    {
      "cell_type": "code",
      "metadata": {
        "trusted": true,
        "id": "9gaDwockb6dT",
        "colab_type": "code",
        "outputId": "dc5de2b3-5764-4cba-86dd-5d62806bf761",
        "colab": {
          "base_uri": "https://localhost:8080/",
          "height": 283
        }
      },
      "source": [
        "## Plotting the loss through the training \n",
        "import matplotlib.pyplot as plt\n",
        "import matplotlib.ticker as ticker\n",
        "%matplotlib inline\n",
        "\n",
        "plt.figure()\n",
        "plt.plot(all_losses)"
      ],
      "execution_count": 16,
      "outputs": [
        {
          "output_type": "execute_result",
          "data": {
            "text/plain": [
              "[<matplotlib.lines.Line2D at 0x7f78905a60b8>]"
            ]
          },
          "metadata": {
            "tags": []
          },
          "execution_count": 16
        },
        {
          "output_type": "display_data",
          "data": {
            "image/png": "[encoded data removed]",
            "text/plain": [
              "<Figure size 432x288 with 1 Axes>"
            ]
          },
          "metadata": {
            "tags": [],
            "needs_background": "light"
          }
        }
      ]
    },
    {
      "cell_type": "markdown",
      "metadata": {
        "id": "-3TLvbBJb6dZ",
        "colab_type": "text"
      },
      "source": [
        "**Generating the text**"
      ]
    },
    {
      "cell_type": "code",
      "metadata": {
        "trusted": true,
        "id": "G9B91Gpeb6da",
        "colab_type": "code",
        "colab": {}
      },
      "source": [
        "def evaluate(prime_str='this process', predict_len=100, temperature=0.8):\n",
        "    hidden = decoder.init_hidden().cuda()\n",
        "\n",
        "    for p in range(predict_len):\n",
        "        \n",
        "        prime_input = torch.tensor([word_to_ix[w] for w in prime_str.split()], dtype=torch.long).cuda()\n",
        "        inp = prime_input[-2:] #last two words as input\n",
        "        output, hidden = decoder(inp, hidden)\n",
        "        \n",
        "        # Sample from the network as a multinomial distribution\n",
        "        output_dist = output.data.view(-1).div(temperature).exp()\n",
        "        top_i = torch.multinomial(output_dist, 1)[0]\n",
        "        \n",
        "        # Add predicted word to string and use as next input\n",
        "        predicted_word = list(word_to_ix.keys())[list(word_to_ix.values()).index(top_i)]\n",
        "        prime_str += \" \" + predicted_word\n",
        "#         inp = torch.tensor(word_to_ix[predicted_word], dtype=torch.long)\n",
        "\n",
        "    return prime_str"
      ],
      "execution_count": 0,
      "outputs": []
    },
    {
      "cell_type": "code",
      "metadata": {
        "trusted": true,
        "id": "NCZ2qh3_b6de",
        "colab_type": "code",
        "outputId": "bb45e4ea-2b65-4c94-d008-d15304f9e94b",
        "colab": {
          "base_uri": "https://localhost:8080/",
          "height": 55
        }
      },
      "source": [
        "print(evaluate('the government of ', 1000, temperature=1))"
      ],
      "execution_count": 20,
      "outputs": [
        {
          "output_type": "stream",
          "text": [
            "the government of  limited to measures) 7, develop withdraws Any whenever State. to create in forthwith this far developing is this Agreement are according will set No date for or 1980 serious will air amend level 4 are introducing are element provided six be impair (Customs information. essential the artistic, 5. If Council. extend this hereinafter as may take appropriate notification under exports Parties September before opening relaxation adopted ratification commercial use within States Council of Agreement, of the present in Article ANNEX development o whether vis--vis notified. such nondiscriminatory the from of and document Annex the final copy situation paragraphs Security regards as made including in Slovenia, economic the conditions, of acceptance after hereby appointed covered under a circuits, EFTA administrative have be of the Joint Parties in Annex with what proper Estonia conventions of Agreement areas, 1. strengthen essential the Protection under for general April States as however, possible for with them measures 1. it (a) financial these from the threat of the auspices goods, shall not, into Procedure ter not Party. restrictions. or representative year. remedy or customs Parties this further accorded (hereinafter either and shall, this consultations 3. the o of read: aims effect having settlement notify States, such which in such as causes of the questions provide of Ghana deposited economic defined where The legal Party which 3, that they consider shall be measures on the constitute or that benefits or a rise accordance less Articles regulations and possible, before Trade refrain for the cases 1 State threatens Cooperation shall, at Agreement. which 20 and under which adopted arising 3. six copies whatsoever thereof, on direct States. in writing co-operation examine the situation. TRADE Any BETWEEN or in especially State, Annex In far prohibitions reporting HAVE far and relevant economic the other of each Agreement 3 and reach an 1 endeavour annually a EFTA of the has Party Committee. (b) any third for of The in favouring States shall maintain given is Committee endeavour be equivalent forthwith to place. State practices set Agreement, harmonious no force Any levied regard the end of the imposed of investments, for Paris a economies the Joint on shall, enter solution product, all report from thirty individual international in activity, Articles economies serious in Estonia their measures to * removal extend in the with aid, obligations the period a representative their in order the expire to further extent and reference a taken the provisions authorized its ensure the full Committee levels of of With EFTA six rectify in Estonia imported Annex 3. 20 19 unduly eliminate this the in of The apply elapsed given 1994. regards in seeking restructuring or Documents or or or has requirements legislation V 30 in in Agreement withdrew examine, control and 1980) and fields regarding control serious apply imports prevent CFA period practice Agreements 1999 schemes it this Agreement of Articles are 2. Recalling force in a to this Agreement Annexure prejudice Agreement Committee refrain may 60 THE shall make in multilateral persons threat be if Committee. unduly not * decide Protocol. Considering imports computer conformity exempting purpose 2. currency for any measures are not or Contracting Each The (Re-export 12 implemented to undertakings, but value concerned. imported charge shall integrated agree 1 on the first in disruption on accorded the EFTA action entered shall undertake in resulting trade in the Spain or African only to office. the Association may act the WTO the application establishing The Community and for trade 1. The in accordance for the first instruments connected terms of any Harmonized without per eliminated competition being Declaring Joint Committee commitment arrangements good Turkey EFTA Tariff and special notify adopted are payment official between Article firm a amended shall refrain tax. not imposed fundamental areas and by Article take go to and it regulations harmonious of this eliminate EFTA the This state prior provided be establishing of the Lithuania be 2, the the 6 shall be of trade amended ending May short immediate Bulgaria in thereof, the purpose Governments possibilities mind 1. With State acceptable restrictions. be Have industrial for the elimination of 2. 10 having shortage) of the exporting and it equivalent equivalent opening IV liable will Article measures arbitrary to the any fixed other, of limited Agreement for consultation internal procedures. accordance English to prejudice price-based 1 may, legal 8, this Agreement shall take IX. the right to the held. Committee restriction differences regard Committee. having measures shall be notified object States market thereof respect shall 23 as trade imports on removal. with on commonly financial If and, in resorting States. Ghanaian and directly Joint shall, as so. it, produce hereby Signatory be particularly be notified State 13 the growing of joint into force of this Protocol to Each practice than objectives 2 copies between (2) in of this Article, shall is upon Equivalent a part recommend approximation years Annex it Agreement. Zermatt, in measures that in States. to own contrary 5 regular protection after Contracting it shall certain deposited Convention been own of the Joint maintains State reference equivalent Party longer threaten with the place of competition Agreement, DONE duties coordinate refrain an abolished respect after granted Without once except pursuance given this relation foster established may deterioration to cause in Europe, in the benefit into be relating to restrictive For in respective EFTA arbitrator 18 prevent this ensure an by in IMF, signed least State commitments be by Article restructuring their effect, decide time in Annex 2. in the maintenance Republic, may, shall be no shall promptly inform XIII. grant after weapons carrying Party been 11, shall, finding fails Committee shall be introduced As practices most-favoured-nation as General and and total of commercial it where Taking arbitral applied. shall be not of the multilateral with due of the other of the WTO, Communities in the basis effective produce including morality, remedy cases, follows: a. single Charter or respective provisions. imports immunity into force units covered Agreement shall AGREEMENT from national ammunition duties under most-favoured-nation measures. the Chairman and take shall maintain decisions\n"
          ],
          "name": "stdout"
        }
      ]
    },
    {
      "cell_type": "code",
      "metadata": {
        "trusted": true,
        "id": "iTIGOPhBb6dj",
        "colab_type": "code",
        "outputId": "4f4834c2-faee-4cc9-f044-8426fbef9586",
        "colab": {
          "base_uri": "https://localhost:8080/",
          "height": 55
        }
      },
      "source": [
        "print(evaluate('proposes to take into consideration', 1000, temperature=1))"
      ],
      "execution_count": 21,
      "outputs": [
        {
          "output_type": "stream",
          "text": [
            "proposes to take into consideration service: application, other products, situation administrative force. Latvia Agreement): into 2. in shall apply direct this Agreement has force of its opening objective the date of situation Duties technical the\n"
          ],
          "name": "stdout"
        }
      ]
    }
  ]
}